{
  "nbformat": 4,
  "nbformat_minor": 0,
  "metadata": {
    "kernelspec": {
      "name": "python36",
      "display_name": "Python 3.6",
      "language": "python"
    },
    "language_info": {
      "mimetype": "text/x-python",
      "nbconvert_exporter": "python",
      "name": "python",
      "pygments_lexer": "ipython3",
      "version": "3.6.6",
      "file_extension": ".py",
      "codemirror_mode": {
        "version": 3,
        "name": "ipython"
      }
    },
    "colab": {
      "provenance": [],
      "include_colab_link": true
    },
    "gpuClass": "standard"
  },
  "cells": [
    {
      "cell_type": "markdown",
      "metadata": {
        "id": "view-in-github",
        "colab_type": "text"
      },
      "source": [
        "<a href=\"https://colab.research.google.com/github/simonbustamante/mit-modelospredictivos/blob/master/Caso_de_Estudio_6_2_Dise%C3%B1o_de_predicciones.ipynb\" target=\"_parent\"><img src=\"https://colab.research.google.com/assets/colab-badge.svg\" alt=\"Open In Colab\"/></a>"
      ]
    },
    {
      "cell_type": "markdown",
      "metadata": {
        "collapsed": true,
        "id": "IpAvqvx8kpzQ"
      },
      "source": [
        "# Caso de Estudio 6.2 - Diseño de predicciones con datos sobre ventas en el Reino Unido"
      ]
    },
    {
      "cell_type": "markdown",
      "metadata": {
        "id": "XTd747Clx7mk"
      },
      "source": [
        "# Configuración"
      ]
    },
    {
      "cell_type": "markdown",
      "metadata": {
        "id": "XoVn7Grskhxh"
      },
      "source": [
        "Ejecute (Run) estas celdas para instalar los paquetes necesarios para completar el caso de estudio. Esto podría llevar unos minutos así que sea paciente.\n",
        "\n",
        "<h1 style=\"color:red;\">ATENCIÓN: Puede que vea errores cuando ejecute las celdas siguientes. Sin embargo, no se preocupe, con tal de que pueda ejecutar la celda de importación de librerías (dos más abajo) y vea el mensaje \"Librerías importadas con éxito!\" es suficiente y puede continuar con el caso de estudio.<h1>"
      ]
    },
    {
      "cell_type": "code",
      "source": [
        "!pip install -q featuretools==1.29.0\n",
        "import featuretools as ft\n",
        "print('Librerías instaladas con éxito!')"
      ],
      "metadata": {
        "id": "mTOxLctAkUj9"
      },
      "execution_count": null,
      "outputs": []
    },
    {
      "cell_type": "code",
      "source": [
        "from google.colab import drive\n",
        "drive.mount('/content/drive')"
      ],
      "metadata": {
        "id": "vbDUmM56juGw"
      },
      "execution_count": null,
      "outputs": []
    },
    {
      "cell_type": "markdown",
      "metadata": {
        "id": "FwtFi8pTlnjj"
      },
      "source": [
        "<h1>Atención:</h1>\n",
        "\n",
        "Ahora ha de reiniciar el entorno de ejecución. Para ello vaya a:\n",
        "\n",
        "> Entorno de ejecución > _Reiniciar entorno de ejecución_\n",
        "\n",
        "en la parte superior de su pantalla. Esto asegurará que sus cambio se han realizado con éxito.\n"
      ]
    },
    {
      "cell_type": "markdown",
      "metadata": {
        "id": "XbSeJMybkhxp"
      },
      "source": [
        "# Importar"
      ]
    },
    {
      "cell_type": "markdown",
      "metadata": {
        "id": "awHj7_vdpF1K"
      },
      "source": [
        "Sincronice su cuenta de Google. Para ello, siga el link que aparece en la salida de la siguiente celda una vez ejecutada. Copie el código que le aparece en pantalla e introdúzcalo en la salida de la celda. Una vez vea el mensaje: `Google Drive sincronizado con éxito!` puede continuar ejecutando el resto de celdas."
      ]
    },
    {
      "cell_type": "code",
      "metadata": {
        "id": "cdD3Of1TKR-8"
      },
      "source": [
        "!mkdir uk-retail-data"
      ],
      "execution_count": null,
      "outputs": []
    },
    {
      "cell_type": "code",
      "metadata": {
        "id": "AbnlWQ1EmBJA"
      },
      "source": [
        "from google.colab import auth\n",
        "auth.authenticate_user()\n",
        "\n",
        "from pydrive2.auth import GoogleAuth\n",
        "from pydrive2.drive import GoogleDrive\n",
        "from google.colab import auth\n",
        "from oauth2client.client import GoogleCredentials\n",
        "\n",
        "gauth = GoogleAuth()\n",
        "gauth.credentials = GoogleCredentials.get_application_default()\n",
        "drive = GoogleDrive(gauth)\n",
        "\n",
        "data = drive.CreateFile({'id':'1feQJdQqOYUaxeUcC7fj7s-ib3Wuqj4Hf'})\n",
        "data.GetContentFile('uk-retail-data/customers.csv')\n",
        "data = drive.CreateFile({'id':'16spEigNWUceuyB5uyaFyo5gW3YX5Fkko'})\n",
        "data.GetContentFile('uk-retail-data/invoices.csv')\n",
        "data = drive.CreateFile({'id':'1RlgJaKznx931rnp-vUpki_zHOtkq1eEy'})\n",
        "data.GetContentFile('uk-retail-data/item_purchases.csv')\n",
        "data = drive.CreateFile({'id':'1Iwf8zTmLzZyyuhJg3CLc_zW4ZtpoviAy'})\n",
        "data.GetContentFile('uk-retail-data/items.csv')\n",
        "\n",
        "utils_file = drive.CreateFile({'id':'1UbV2z7L5vonCz3KFLywGs4U-p2g5gQwy'})\n",
        "utils_file.GetContentFile('utils.py')\n",
        "\n",
        "print('Google Drive sincronizado con éxito!')"
      ],
      "execution_count": null,
      "outputs": []
    },
    {
      "cell_type": "markdown",
      "metadata": {
        "id": "rgSo2tCmkhxp"
      },
      "source": [
        "Importe las librerías necesarias para el desarrollo del caso."
      ]
    },
    {
      "cell_type": "code",
      "metadata": {
        "ExecuteTime": {
          "end_time": "2020-10-20T14:05:49.659857Z",
          "start_time": "2020-10-20T14:05:36.533913Z"
        },
        "id": "JcErESkZkhxp"
      },
      "source": [
        "import featuretools as ft\n",
        "import matplotlib\n",
        "import matplotlib.pyplot as plt\n",
        "import numpy as np\n",
        "import pandas as pd\n",
        "\n",
        "import utils\n",
        "\n",
        "from utils import (find_training_examples,\n",
        "                   load_uk_retail_data,\n",
        "                   engineer_features_uk_retail,\n",
        "                   preview,\n",
        "                   feature_importances)\n",
        "\n",
        "from sklearn.model_selection import train_test_split\n",
        "from sklearn.impute import SimpleImputer\n",
        "from sklearn.ensemble import RandomForestClassifier\n",
        "from sklearn.metrics import confusion_matrix\n",
        "\n",
        "print('Librerías importadas con éxito!')"
      ],
      "execution_count": null,
      "outputs": []
    },
    {
      "cell_type": "markdown",
      "metadata": {
        "id": "zZkmvGNKkhxu"
      },
      "source": [
        "# Datos"
      ]
    },
    {
      "cell_type": "markdown",
      "metadata": {
        "id": "32zqjv6nkhxv"
      },
      "source": [
        "Cargue la base de datos de ventas de diferentes productos en Reino Unido. Esto podría llevar unos minutos, así que sea paciente."
      ]
    },
    {
      "cell_type": "code",
      "source": [
        "item_purchases, invoices, items, customers = load_uk_retail_data()\n",
        "preview(items, 10)"
      ],
      "metadata": {
        "id": "eqyrP_3ZEWy3"
      },
      "execution_count": null,
      "outputs": []
    },
    {
      "cell_type": "code",
      "source": [
        "item_purchases = item_purchases.dropna(subset=\"item_purchase_id\")\n",
        "items = items.dropna(subset=\"StockCode\")\n",
        "customers = customers.dropna(subset=\"CustomerID\")\n",
        "invoices = invoices.dropna(subset=\"InvoiceNo\")"
      ],
      "metadata": {
        "id": "xGRq3_Mztawf"
      },
      "execution_count": null,
      "outputs": []
    },
    {
      "cell_type": "code",
      "source": [
        "entities = {\"item_purchases\": (item_purchases,\n",
        "                               \"item_purchase_id\",\n",
        "                               \"InvoiceDate\"),\n",
        "            \"items\": (items,\n",
        "                      \"StockCode\"),\n",
        "            \"customers\": (customers,\n",
        "                          \"CustomerID\"),\n",
        "            \"invoices\":(invoices,\n",
        "                        \"InvoiceNo\",\n",
        "                        \"first_item_purchases_time\")\n",
        "            }\n",
        "entities"
      ],
      "metadata": {
        "id": "RRX388zTX0ZA"
      },
      "execution_count": null,
      "outputs": []
    },
    {
      "cell_type": "code",
      "metadata": {
        "ExecuteTime": {
          "end_time": "2020-10-20T14:21:41.555700Z",
          "start_time": "2020-10-20T14:21:41.551904Z"
        },
        "id": "YbSIVmSykhx0"
      },
      "source": [
        "relationships = [(\"customers\",\"CustomerID\",\"invoices\",\"CustomerID\"),\n",
        "                 (\"invoices\", \"InvoiceNo\",\"item_purchases\", \"InvoiceNo\"),\n",
        "                 (\"items\", \"StockCode\",\"item_purchases\", \"StockCode\")]"
      ],
      "execution_count": null,
      "outputs": []
    },
    {
      "cell_type": "markdown",
      "metadata": {
        "id": "UcG0PCKH6_jP"
      },
      "source": [
        "## Encontrando ejemplos de entrenamiento"
      ]
    },
    {
      "cell_type": "code",
      "source": [
        "label_times = pd.DataFrame()"
      ],
      "metadata": {
        "id": "Cmz090pAswVs"
      },
      "execution_count": null,
      "outputs": []
    },
    {
      "cell_type": "code",
      "source": [
        "label_times = find_training_examples(item_purchases,\n",
        "                                     invoices,\n",
        "                                     prediction_window = pd.Timedelta(\"14d\"),\n",
        "                                     training_window = pd.Timedelta(\"21d\"),\n",
        "                                     lead = pd.Timedelta(\"7d\"),\n",
        "                                     threshold = 5)\n"
      ],
      "metadata": {
        "id": "9jKekpELJS-_"
      },
      "execution_count": null,
      "outputs": []
    },
    {
      "cell_type": "code",
      "source": [
        "label_times = label_times[['CustomerID','cutoff_time', 'purchases>threshold']].rename(columns={'cutoff_time': 'time', 'purchases>threshold': 'label'})"
      ],
      "metadata": {
        "id": "ul3Ldx8LszqQ"
      },
      "execution_count": null,
      "outputs": []
    },
    {
      "cell_type": "code",
      "metadata": {
        "id": "X-H1kXPt7pm_"
      },
      "source": [
        "preview(label_times, 5)"
      ],
      "execution_count": null,
      "outputs": []
    },
    {
      "cell_type": "markdown",
      "metadata": {
        "id": "CQZsGRhv7AIe"
      },
      "source": [
        "## Generación de variables"
      ]
    },
    {
      "cell_type": "code",
      "source": [
        "from featuretools.primitives import (Count, Day, Hour, Max, Mean, Median, Min,\n",
        "                                     Minute, Month, Std, Sum, Week, Weekday,\n",
        "                                     IsWeekend)\n",
        "\n",
        "trans_primitives = [Minute, Hour, Day, Week, Month, Weekday, IsWeekend]\n",
        "agg_primitives = [Mean, Max, Std]\n",
        "training_window='21d'\n",
        "\n",
        "feature_matrix, features = ft.dfs(dataframes=entities,\n",
        "                                  relationships=relationships,\n",
        "                                  target_dataframe_name=\"customers\",\n",
        "                                  trans_primitives=trans_primitives,\n",
        "                                  agg_primitives=agg_primitives,\n",
        "                                  cutoff_time=label_times,\n",
        "                                  cutoff_time_in_index=True,\n",
        "                                  training_window=training_window)\n",
        "feature_matrix.drop(\"Country\", axis=1, inplace=True)\n",
        "feature_matrix = feature_matrix.sort_index()"
      ],
      "metadata": {
        "id": "6zK9BlUUtRXL"
      },
      "execution_count": null,
      "outputs": []
    },
    {
      "cell_type": "code",
      "metadata": {
        "id": "n15c-YhM7uEj"
      },
      "source": [
        "preview(feature_matrix, 10)"
      ],
      "execution_count": null,
      "outputs": []
    },
    {
      "cell_type": "markdown",
      "metadata": {
        "id": "7rkqFxi57AWC"
      },
      "source": [
        "## Entrenamiento de un modelo con *Random Forest*"
      ]
    },
    {
      "cell_type": "code",
      "metadata": {
        "id": "9ajGd2Kc7Abw"
      },
      "source": [
        "X_y = feature_matrix\n",
        "y = X_y.pop('label')\n",
        "X_train, X_test, y_train, y_test = train_test_split(feature_matrix,\n",
        "                                                    y,\n",
        "                                                    test_size=0.35)"
      ],
      "execution_count": null,
      "outputs": []
    },
    {
      "cell_type": "code",
      "metadata": {
        "id": "yYfmcALj7z7R"
      },
      "source": [
        "imp = SimpleImputer(missing_values=np.nan,\n",
        "                    strategy='mean')\n",
        "imp = imp.fit(X_train)\n",
        "X_train_imp = imp.transform(X_train)"
      ],
      "execution_count": null,
      "outputs": []
    },
    {
      "cell_type": "code",
      "metadata": {
        "id": "nQEzsCkv70Ds"
      },
      "source": [
        "clf = RandomForestClassifier(random_state=0,\n",
        "                             n_estimators=100,\n",
        "                             class_weight=\"balanced\",\n",
        "                             verbose=True)\n",
        "clf.fit(X_train_imp, y_train)"
      ],
      "execution_count": null,
      "outputs": []
    },
    {
      "cell_type": "markdown",
      "metadata": {
        "id": "fqQMGaOS7AiJ"
      },
      "source": [
        "## Prueba del modelo"
      ]
    },
    {
      "cell_type": "code",
      "metadata": {
        "id": "qS3DvOac7AoB"
      },
      "source": [
        "X_test_imp = imp.transform(X_test)\n",
        "predicted_labels = clf.predict(X_test_imp)"
      ],
      "execution_count": null,
      "outputs": []
    },
    {
      "cell_type": "code",
      "metadata": {
        "id": "XoJJnacZ7crw"
      },
      "source": [
        "tn, fp, fn, tp = confusion_matrix(y_test, predicted_labels).ravel()\n",
        "tn, fp, fn, tp"
      ],
      "execution_count": null,
      "outputs": []
    },
    {
      "cell_type": "code",
      "metadata": {
        "id": "J9S_uxPX7eyZ"
      },
      "source": [
        "feature_importances(clf,feature_matrix.columns, n=15)"
      ],
      "execution_count": null,
      "outputs": []
    }
  ]
}