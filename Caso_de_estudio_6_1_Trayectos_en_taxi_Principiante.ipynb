{
  "cells": [
    {
      "cell_type": "markdown",
      "metadata": {
        "id": "view-in-github",
        "colab_type": "text"
      },
      "source": [
        "<a href=\"https://colab.research.google.com/github/simonbustamante/mit-modelospredictivos/blob/master/Caso_de_estudio_6_1_Trayectos_en_taxi_Principiante.ipynb\" target=\"_parent\"><img src=\"https://colab.research.google.com/assets/colab-badge.svg\" alt=\"Open In Colab\"/></a>"
      ]
    },
    {
      "cell_type": "markdown",
      "metadata": {
        "collapsed": true,
        "id": "CE1n2vWokhxb"
      },
      "source": [
        "# Caso de estudio 6.1 - Trayectos en taxi en Nueva York"
      ]
    },
    {
      "cell_type": "markdown",
      "metadata": {
        "id": "ozC4xarEkhxb"
      },
      "source": [
        "#### Nota: Si en algún momento cierra este notebook tendrá que volver a ejecutar todas las celdas de nuevo al abrirlo.\n",
        "\n",
        "#### Nota: Puede que obtenga diferentes resultados numéricos al ejecutar el notebook en diferentes ocasiones. Esto es normal, simplemente entregue los resultados obtenidos."
      ]
    },
    {
      "cell_type": "markdown",
      "metadata": {
        "id": "55SYKRFmkhxc"
      },
      "source": [
        "# PYTHON PRINCIPIANTE"
      ]
    },
    {
      "cell_type": "markdown",
      "metadata": {
        "id": "4vgHylYwkhxc"
      },
      "source": [
        "Como esta es la versión para principiantes, se ha incluído la mayor parte del código para ayudarle con el caso.\n",
        "\n",
        "**Primero, rellene su información de contacto en la celda siguiente. A continuación, únicamente tendrá que escribir las respuestas a las preguntas que se plantean. Para el resto de celdas, simplemente ejecútelas seleccionando el botón de Run, en la parte superior del notebook**\n"
      ]
    },
    {
      "cell_type": "markdown",
      "source": [
        "# Informacion del Alumno"
      ],
      "metadata": {
        "id": "4QrCCTbEb3E_"
      }
    },
    {
      "cell_type": "code",
      "source": [
        "# Simon Bustamante\n",
        "# simon.bustamante@gmail.com"
      ],
      "metadata": {
        "id": "E5fOEJxhcC3T"
      },
      "execution_count": 1,
      "outputs": []
    },
    {
      "cell_type": "markdown",
      "metadata": {
        "id": "g-J7g8S3khxg"
      },
      "source": [
        "# Configuración"
      ]
    },
    {
      "cell_type": "markdown",
      "metadata": {
        "id": "XoVn7Grskhxh"
      },
      "source": [
        "Ejecute (Run) estas celdas para instalar los paquetes necesarios para completar el caso de estudio. Esto podría llevar unos minutos así que sea paciente.\n",
        "\n",
        "<h1 style=\"color:red;\">ATENCIÓN: Puede que vea errores cuando ejecute las celdas siguientes. Sin embargo, no se preocupe, con tal de que pueda ejecutar la celda de importación de librerías (dos más abajo) y vea el mensaje \"Librerías importadas con éxito!\" es suficiente y puede continuar con el caso de estudio.<h1>"
      ]
    },
    {
      "cell_type": "code",
      "source": [
        "from google.colab import drive\n",
        "drive.mount('/content/drive')"
      ],
      "metadata": {
        "id": "OvmhipjAdIgr",
        "colab": {
          "base_uri": "https://localhost:8080/"
        },
        "outputId": "3e87798c-860e-4a3f-d4e1-02dd4003c08e"
      },
      "execution_count": 1,
      "outputs": [
        {
          "output_type": "stream",
          "name": "stdout",
          "text": [
            "Drive already mounted at /content/drive; to attempt to forcibly remount, call drive.mount(\"/content/drive\", force_remount=True).\n"
          ]
        }
      ]
    },
    {
      "cell_type": "code",
      "source": [
        "!pip install -q featuretools==1.29.0\n",
        "import featuretools as ft"
      ],
      "metadata": {
        "id": "Plp3vSElL_v0"
      },
      "execution_count": 2,
      "outputs": []
    },
    {
      "cell_type": "markdown",
      "metadata": {
        "id": "uT1aWH7zUSwj"
      },
      "source": [
        "from google.colab import drive\n",
        "drive.mount('/content/drive')"
      ]
    },
    {
      "cell_type": "markdown",
      "metadata": {
        "id": "FwtFi8pTlnjj"
      },
      "source": [
        "<h1>Atención:</h1>\n",
        "\n",
        "Ahora ha de reiniciar el entorno de ejecución. Para ello vaya a:\n",
        "\n",
        "> Entorno de ejecución > _Reiniciar entorno de ejecución_\n",
        "\n",
        "en la parte superior de su pantalla. Esto asegurará que sus cambio se han realizado con éxito.\n"
      ]
    },
    {
      "cell_type": "markdown",
      "metadata": {
        "id": "XbSeJMybkhxp"
      },
      "source": [
        "# Importar"
      ]
    },
    {
      "cell_type": "markdown",
      "metadata": {
        "id": "awHj7_vdpF1K"
      },
      "source": [
        "Sincronice su cuenta de Google. Para ello, siga el link que aparece en la salida de la siguiente celda una vez ejecutada. Copie el código que le aparece en pantalla e introdúzcalo en la salida de la celda. Una vez vea el mensaje: `Google Drive sincronizado con éxito!` puede continuar ejecutando el resto de celdas."
      ]
    },
    {
      "cell_type": "code",
      "execution_count": 3,
      "metadata": {
        "id": "AbnlWQ1EmBJA",
        "colab": {
          "base_uri": "https://localhost:8080/"
        },
        "outputId": "7e583957-f20b-4578-dce4-cfc15958ecfd"
      },
      "outputs": [
        {
          "output_type": "stream",
          "name": "stdout",
          "text": [
            "Google Drive sincronizado con éxito!\n"
          ]
        }
      ],
      "source": [
        "from google.colab import auth\n",
        "auth.authenticate_user()\n",
        "\n",
        "from pydrive2.auth import GoogleAuth\n",
        "from pydrive2.drive import GoogleDrive\n",
        "from google.colab import auth\n",
        "from oauth2client.client import GoogleCredentials\n",
        "\n",
        "gauth = GoogleAuth()\n",
        "gauth.credentials = GoogleCredentials.get_application_default()\n",
        "drive = GoogleDrive(gauth)\n",
        "data_drop = drive.CreateFile({'id':'10aXz56ohVOgF2gH4yvmrvTJFY990RHZ1'})\n",
        "data_drop.GetContentFile('dropoff_neighborhoods.csv')\n",
        "data_pick = drive.CreateFile({'id':'1zakjpcMUZTKanSeVlPWbYhL85zn5g8zX'})\n",
        "data_pick.GetContentFile('pickup_neighborhoods.csv')\n",
        "data_trips = drive.CreateFile({'id':'1D4OJPulDK-Z5l4mgwuI2C1zBr4JRC-Q5'})\n",
        "data_trips.GetContentFile('trips.pkl')\n",
        "utils_file = drive.CreateFile({'id':'1UbV2z7L5vonCz3KFLywGs4U-p2g5gQwy'})\n",
        "utils_file.GetContentFile('utils.py')\n",
        "\n",
        "print('Google Drive sincronizado con éxito!')"
      ]
    },
    {
      "cell_type": "markdown",
      "metadata": {
        "id": "rgSo2tCmkhxp"
      },
      "source": [
        "Importe las librerías necesarias para el desarrollo del caso."
      ]
    },
    {
      "cell_type": "code",
      "execution_count": 4,
      "metadata": {
        "id": "JcErESkZkhxp",
        "colab": {
          "base_uri": "https://localhost:8080/"
        },
        "outputId": "82113214-cec9-4b61-ea6f-da96c3b81245"
      },
      "outputs": [
        {
          "output_type": "stream",
          "name": "stdout",
          "text": [
            "Bibliotecas importadas com suceso!\n"
          ]
        }
      ],
      "source": [
        "import featuretools as ft\n",
        "import matplotlib\n",
        "import matplotlib.pyplot as plt\n",
        "import numpy as np\n",
        "import pandas as pd\n",
        "import utils\n",
        "from featuretools.primitives import (Count, Day, Hour, Max, Mean, Median, Min,\n",
        "                                     Minute, Month, Std, Sum, Week, Weekday,\n",
        "                                     IsWeekend)\n",
        "from sklearn.ensemble import GradientBoostingRegressor\n",
        "from utils import (compute_features, feature_importances, load_nyc_taxi_data,\n",
        "                   preview)\n",
        "%matplotlib inline\n",
        "\n",
        "print('Bibliotecas importadas com suceso!')"
      ]
    },
    {
      "cell_type": "markdown",
      "metadata": {
        "id": "zZkmvGNKkhxu"
      },
      "source": [
        "# Datos"
      ]
    },
    {
      "cell_type": "markdown",
      "metadata": {
        "id": "32zqjv6nkhxv"
      },
      "source": [
        "Cargue la base de datos de trayectos de taxi en NYC. Esto podría llevar unos minutos, así que sea paciente."
      ]
    },
    {
      "cell_type": "code",
      "execution_count": 5,
      "metadata": {
        "id": "5ANg9uwxkhxv",
        "colab": {
          "base_uri": "https://localhost:8080/"
        },
        "outputId": "09386853-c0b4-419d-952c-dc63b3965e38"
      },
      "outputs": [
        {
          "output_type": "stream",
          "name": "stdout",
          "text": [
            "       id  vendor_id     pickup_datetime    dropoff_datetime  passenger_count  \\\n",
            "0  514030          2 2016-04-02 00:00:00 2016-04-02 00:17:00                1   \n",
            "1  514031          1 2016-04-02 00:00:00 2016-04-02 00:24:00                2   \n",
            "2  514032          1 2016-04-02 00:00:00 2016-04-02 00:19:00                1   \n",
            "3  514033          2 2016-04-02 00:00:00 2016-04-02 00:01:00                1   \n",
            "4  514034          1 2016-04-02 00:01:00 2016-04-02 00:58:00                2   \n",
            "5  514035          1 2016-04-02 00:01:00 2016-04-02 00:09:00                2   \n",
            "6  514036          1 2016-04-02 00:01:00 2016-04-02 00:05:00                1   \n",
            "7  514037          1 2016-04-02 00:01:00 2016-04-02 00:20:00                1   \n",
            "8  514038          1 2016-04-02 00:01:00 2016-04-02 00:10:00                1   \n",
            "9  514039          1 2016-04-02 00:01:00 2016-04-02 00:17:00                1   \n",
            "\n",
            "   trip_distance  pickup_longitude  pickup_latitude  dropoff_longitude  \\\n",
            "0           2.46        -73.987595        40.754711         -73.959633   \n",
            "1           7.90        -73.924713        40.745567         -73.972763   \n",
            "2           1.00        -73.989800        40.732994         -74.000557   \n",
            "3           0.02        -73.987465        40.719822         -73.987289   \n",
            "4          19.00        -73.790131        40.643429         -73.975594   \n",
            "5           1.50        -73.981956        40.765518         -73.968124   \n",
            "6           1.50        -73.980019        40.780594         -73.968132   \n",
            "7           4.20        -73.990501        40.756561         -73.986008   \n",
            "8           0.60        -73.986198        40.730492         -73.991798   \n",
            "9           0.60        -73.990959        40.734890         -74.001816   \n",
            "\n",
            "   dropoff_latitude payment_type  trip_duration pickup_neighborhood  \\\n",
            "0         40.762836            1           1039                  AA   \n",
            "1         40.793354            1           1454                   L   \n",
            "2         40.742622            1           1168                   H   \n",
            "3         40.720016            2             35                  AC   \n",
            "4         40.779327            1           3470                   G   \n",
            "5         40.753407            1            458                  AR   \n",
            "6         40.799595            2            213                  AV   \n",
            "7         40.719414            2           1142                  AA   \n",
            "8         40.722240            1            501                  AT   \n",
            "9         40.739319            1            954                   R   \n",
            "\n",
            "  dropoff_neighborhood  \n",
            "0                    K  \n",
            "1                    U  \n",
            "2                    Q  \n",
            "3                   AC  \n",
            "4                    I  \n",
            "5                    N  \n",
            "6                    U  \n",
            "7                   AC  \n",
            "8                   AC  \n",
            "9                    Q  \n",
            "Datos cargados con éxito!\n"
          ]
        }
      ],
      "source": [
        "trips, pickup_neighborhoods, dropoff_neighborhoods = load_nyc_taxi_data()\n",
        "print(trips.head(10))\n",
        "print('Datos cargados con éxito!')"
      ]
    },
    {
      "cell_type": "markdown",
      "metadata": {
        "id": "ZndxuN_Zkhxx"
      },
      "source": [
        "También podemos generar algunos gráficos sobre algunos aspectos de los datos para conseguir una mejor idea de sus distribuciones. Por ejemplo, aquí se muestra la variable `trip_duration` (duración del trayecto) que vamos a intentar predecir."
      ]
    },
    {
      "cell_type": "code",
      "execution_count": 6,
      "metadata": {
        "id": "9mE8o30qkhxx",
        "colab": {
          "base_uri": "https://localhost:8080/",
          "height": 515
        },
        "outputId": "46241a00-5b09-4a83-e384-60d312bed659"
      },
      "outputs": [
        {
          "output_type": "display_data",
          "data": {
            "text/plain": [
              "<Figure size 640x480 with 1 Axes>"
            ],
            "image/png": "[encoded data removed]"
          },
          "metadata": {}
        },
        {
          "output_type": "stream",
          "name": "stdout",
          "text": [
            "Histograma generado con éxito!\n"
          ]
        }
      ],
      "source": [
        "trips.trip_duration.hist()\n",
        "plt.xlabel('Duración del trayecto [s]')\n",
        "plt.ylabel('Número de trayectos')\n",
        "plt.suptitle('Distribución de la duración de trayectos')\n",
        "plt.show()\n",
        "print('Histograma generado con éxito!')"
      ]
    },
    {
      "cell_type": "markdown",
      "metadata": {
        "id": "oqeTzpMlUAiq"
      },
      "source": [
        "Histograma se encuentra visible. Es importante revisar y validar aquellos datos atipicos con duración de trayecto de 2 segundos."
      ]
    },
    {
      "cell_type": "code",
      "execution_count": 7,
      "metadata": {
        "id": "YbSIVmSykhx0",
        "colab": {
          "base_uri": "https://localhost:8080/"
        },
        "outputId": "cc84981f-216f-4d7a-fd98-601ccd5be83f"
      },
      "outputs": [
        {
          "output_type": "execute_result",
          "data": {
            "text/plain": [
              "10000"
            ]
          },
          "metadata": {},
          "execution_count": 7
        }
      ],
      "source": [
        "trips.shape[0]  # Muestra la duracion del total de los trayectos mediante distribución en grafica."
      ]
    },
    {
      "cell_type": "code",
      "execution_count": 8,
      "metadata": {
        "id": "fXqpC9ajkhx2",
        "colab": {
          "base_uri": "https://localhost:8080/",
          "height": 313
        },
        "outputId": "72faf998-a0a7-4781-d904-0d66bb6a7fae"
      },
      "outputs": [
        {
          "output_type": "execute_result",
          "data": {
            "text/plain": [
              "       id  vendor_id     pickup_datetime    dropoff_datetime  passenger_count  \\\n",
              "0  514030          2 2016-04-02 00:00:00 2016-04-02 00:17:00                1   \n",
              "1  514031          1 2016-04-02 00:00:00 2016-04-02 00:24:00                2   \n",
              "2  514032          1 2016-04-02 00:00:00 2016-04-02 00:19:00                1   \n",
              "3  514033          2 2016-04-02 00:00:00 2016-04-02 00:01:00                1   \n",
              "4  514034          1 2016-04-02 00:01:00 2016-04-02 00:58:00                2   \n",
              "\n",
              "   trip_distance  pickup_longitude  pickup_latitude  dropoff_longitude  \\\n",
              "0           2.46        -73.987595        40.754711         -73.959633   \n",
              "1           7.90        -73.924713        40.745567         -73.972763   \n",
              "2           1.00        -73.989800        40.732994         -74.000557   \n",
              "3           0.02        -73.987465        40.719822         -73.987289   \n",
              "4          19.00        -73.790131        40.643429         -73.975594   \n",
              "\n",
              "   dropoff_latitude payment_type  trip_duration pickup_neighborhood  \\\n",
              "0         40.762836            1           1039                  AA   \n",
              "1         40.793354            1           1454                   L   \n",
              "2         40.742622            1           1168                   H   \n",
              "3         40.720016            2             35                  AC   \n",
              "4         40.779327            1           3470                   G   \n",
              "\n",
              "  dropoff_neighborhood  \n",
              "0                    K  \n",
              "1                    U  \n",
              "2                    Q  \n",
              "3                   AC  \n",
              "4                    I  "
            ],
            "text/html": [
              "\n",
              "  <div id=\"df-b283b385-8c57-40e3-9514-58a873fcb364\" class=\"colab-df-container\">\n",
              "    <div>\n",
              "<style scoped>\n",
              "    .dataframe tbody tr th:only-of-type {\n",
              "        vertical-align: middle;\n",
              "    }\n",
              "\n",
              "    .dataframe tbody tr th {\n",
              "        vertical-align: top;\n",
              "    }\n",
              "\n",
              "    .dataframe thead th {\n",
              "        text-align: right;\n",
              "    }\n",
              "</style>\n",
              "<table border=\"1\" class=\"dataframe\">\n",
              "  <thead>\n",
              "    <tr style=\"text-align: right;\">\n",
              "      <th></th>\n",
              "      <th>id</th>\n",
              "      <th>vendor_id</th>\n",
              "      <th>pickup_datetime</th>\n",
              "      <th>dropoff_datetime</th>\n",
              "      <th>passenger_count</th>\n",
              "      <th>trip_distance</th>\n",
              "      <th>pickup_longitude</th>\n",
              "      <th>pickup_latitude</th>\n",
              "      <th>dropoff_longitude</th>\n",
              "      <th>dropoff_latitude</th>\n",
              "      <th>payment_type</th>\n",
              "      <th>trip_duration</th>\n",
              "      <th>pickup_neighborhood</th>\n",
              "      <th>dropoff_neighborhood</th>\n",
              "    </tr>\n",
              "  </thead>\n",
              "  <tbody>\n",
              "    <tr>\n",
              "      <th>0</th>\n",
              "      <td>514030</td>\n",
              "      <td>2</td>\n",
              "      <td>2016-04-02 00:00:00</td>\n",
              "      <td>2016-04-02 00:17:00</td>\n",
              "      <td>1</td>\n",
              "      <td>2.46</td>\n",
              "      <td>-73.987595</td>\n",
              "      <td>40.754711</td>\n",
              "      <td>-73.959633</td>\n",
              "      <td>40.762836</td>\n",
              "      <td>1</td>\n",
              "      <td>1039</td>\n",
              "      <td>AA</td>\n",
              "      <td>K</td>\n",
              "    </tr>\n",
              "    <tr>\n",
              "      <th>1</th>\n",
              "      <td>514031</td>\n",
              "      <td>1</td>\n",
              "      <td>2016-04-02 00:00:00</td>\n",
              "      <td>2016-04-02 00:24:00</td>\n",
              "      <td>2</td>\n",
              "      <td>7.90</td>\n",
              "      <td>-73.924713</td>\n",
              "      <td>40.745567</td>\n",
              "      <td>-73.972763</td>\n",
              "      <td>40.793354</td>\n",
              "      <td>1</td>\n",
              "      <td>1454</td>\n",
              "      <td>L</td>\n",
              "      <td>U</td>\n",
              "    </tr>\n",
              "    <tr>\n",
              "      <th>2</th>\n",
              "      <td>514032</td>\n",
              "      <td>1</td>\n",
              "      <td>2016-04-02 00:00:00</td>\n",
              "      <td>2016-04-02 00:19:00</td>\n",
              "      <td>1</td>\n",
              "      <td>1.00</td>\n",
              "      <td>-73.989800</td>\n",
              "      <td>40.732994</td>\n",
              "      <td>-74.000557</td>\n",
              "      <td>40.742622</td>\n",
              "      <td>1</td>\n",
              "      <td>1168</td>\n",
              "      <td>H</td>\n",
              "      <td>Q</td>\n",
              "    </tr>\n",
              "    <tr>\n",
              "      <th>3</th>\n",
              "      <td>514033</td>\n",
              "      <td>2</td>\n",
              "      <td>2016-04-02 00:00:00</td>\n",
              "      <td>2016-04-02 00:01:00</td>\n",
              "      <td>1</td>\n",
              "      <td>0.02</td>\n",
              "      <td>-73.987465</td>\n",
              "      <td>40.719822</td>\n",
              "      <td>-73.987289</td>\n",
              "      <td>40.720016</td>\n",
              "      <td>2</td>\n",
              "      <td>35</td>\n",
              "      <td>AC</td>\n",
              "      <td>AC</td>\n",
              "    </tr>\n",
              "    <tr>\n",
              "      <th>4</th>\n",
              "      <td>514034</td>\n",
              "      <td>1</td>\n",
              "      <td>2016-04-02 00:01:00</td>\n",
              "      <td>2016-04-02 00:58:00</td>\n",
              "      <td>2</td>\n",
              "      <td>19.00</td>\n",
              "      <td>-73.790131</td>\n",
              "      <td>40.643429</td>\n",
              "      <td>-73.975594</td>\n",
              "      <td>40.779327</td>\n",
              "      <td>1</td>\n",
              "      <td>3470</td>\n",
              "      <td>G</td>\n",
              "      <td>I</td>\n",
              "    </tr>\n",
              "  </tbody>\n",
              "</table>\n",
              "</div>\n",
              "    <div class=\"colab-df-buttons\">\n",
              "\n",
              "  <div class=\"colab-df-container\">\n",
              "    <button class=\"colab-df-convert\" onclick=\"convertToInteractive('df-b283b385-8c57-40e3-9514-58a873fcb364')\"\n",
              "            title=\"Convert this dataframe to an interactive table.\"\n",
              "            style=\"display:none;\">\n",
              "\n",
              "  <svg xmlns=\"http://www.w3.org/2000/svg\" height=\"24px\" viewBox=\"0 -960 960 960\">\n",
              "    <path d=\"M120-120v-720h720v720H120Zm60-500h600v-160H180v160Zm220 220h160v-160H400v160Zm0 220h160v-160H400v160ZM180-400h160v-160H180v160Zm440 0h160v-160H620v160ZM180-180h160v-160H180v160Zm440 0h160v-160H620v160Z\"/>\n",
              "  </svg>\n",
              "    </button>\n",
              "\n",
              "  <style>\n",
              "    .colab-df-container {\n",
              "      display:flex;\n",
              "      gap: 12px;\n",
              "    }\n",
              "\n",
              "    .colab-df-convert {\n",
              "      background-color: #E8F0FE;\n",
              "      border: none;\n",
              "      border-radius: 50%;\n",
              "      cursor: pointer;\n",
              "      display: none;\n",
              "      fill: #1967D2;\n",
              "      height: 32px;\n",
              "      padding: 0 0 0 0;\n",
              "      width: 32px;\n",
              "    }\n",
              "\n",
              "    .colab-df-convert:hover {\n",
              "      background-color: #E2EBFA;\n",
              "      box-shadow: 0px 1px 2px rgba(60, 64, 67, 0.3), 0px 1px 3px 1px rgba(60, 64, 67, 0.15);\n",
              "      fill: #174EA6;\n",
              "    }\n",
              "\n",
              "    .colab-df-buttons div {\n",
              "      margin-bottom: 4px;\n",
              "    }\n",
              "\n",
              "    [theme=dark] .colab-df-convert {\n",
              "      background-color: #3B4455;\n",
              "      fill: #D2E3FC;\n",
              "    }\n",
              "\n",
              "    [theme=dark] .colab-df-convert:hover {\n",
              "      background-color: #434B5C;\n",
              "      box-shadow: 0px 1px 3px 1px rgba(0, 0, 0, 0.15);\n",
              "      filter: drop-shadow(0px 1px 2px rgba(0, 0, 0, 0.3));\n",
              "      fill: #FFFFFF;\n",
              "    }\n",
              "  </style>\n",
              "\n",
              "    <script>\n",
              "      const buttonEl =\n",
              "        document.querySelector('#df-b283b385-8c57-40e3-9514-58a873fcb364 button.colab-df-convert');\n",
              "      buttonEl.style.display =\n",
              "        google.colab.kernel.accessAllowed ? 'block' : 'none';\n",
              "\n",
              "      async function convertToInteractive(key) {\n",
              "        const element = document.querySelector('#df-b283b385-8c57-40e3-9514-58a873fcb364');\n",
              "        const dataTable =\n",
              "          await google.colab.kernel.invokeFunction('convertToInteractive',\n",
              "                                                    [key], {});\n",
              "        if (!dataTable) return;\n",
              "\n",
              "        const docLinkHtml = 'Like what you see? Visit the ' +\n",
              "          '<a target=\"_blank\" href=https://colab.research.google.com/notebooks/data_table.ipynb>data table notebook</a>'\n",
              "          + ' to learn more about interactive tables.';\n",
              "        element.innerHTML = '';\n",
              "        dataTable['output_type'] = 'display_data';\n",
              "        await google.colab.output.renderOutput(dataTable, element);\n",
              "        const docLink = document.createElement('div');\n",
              "        docLink.innerHTML = docLinkHtml;\n",
              "        element.appendChild(docLink);\n",
              "      }\n",
              "    </script>\n",
              "  </div>\n",
              "\n",
              "\n",
              "<div id=\"df-774c4124-f472-485c-be16-2dd283bd3572\">\n",
              "  <button class=\"colab-df-quickchart\" onclick=\"quickchart('df-774c4124-f472-485c-be16-2dd283bd3572')\"\n",
              "            title=\"Suggest charts\"\n",
              "            style=\"display:none;\">\n",
              "\n",
              "<svg xmlns=\"http://www.w3.org/2000/svg\" height=\"24px\"viewBox=\"0 0 24 24\"\n",
              "     width=\"24px\">\n",
              "    <g>\n",
              "        <path d=\"M19 3H5c-1.1 0-2 .9-2 2v14c0 1.1.9 2 2 2h14c1.1 0 2-.9 2-2V5c0-1.1-.9-2-2-2zM9 17H7v-7h2v7zm4 0h-2V7h2v10zm4 0h-2v-4h2v4z\"/>\n",
              "    </g>\n",
              "</svg>\n",
              "  </button>\n",
              "\n",
              "<style>\n",
              "  .colab-df-quickchart {\n",
              "      --bg-color: #E8F0FE;\n",
              "      --fill-color: #1967D2;\n",
              "      --hover-bg-color: #E2EBFA;\n",
              "      --hover-fill-color: #174EA6;\n",
              "      --disabled-fill-color: #AAA;\n",
              "      --disabled-bg-color: #DDD;\n",
              "  }\n",
              "\n",
              "  [theme=dark] .colab-df-quickchart {\n",
              "      --bg-color: #3B4455;\n",
              "      --fill-color: #D2E3FC;\n",
              "      --hover-bg-color: #434B5C;\n",
              "      --hover-fill-color: #FFFFFF;\n",
              "      --disabled-bg-color: #3B4455;\n",
              "      --disabled-fill-color: #666;\n",
              "  }\n",
              "\n",
              "  .colab-df-quickchart {\n",
              "    background-color: var(--bg-color);\n",
              "    border: none;\n",
              "    border-radius: 50%;\n",
              "    cursor: pointer;\n",
              "    display: none;\n",
              "    fill: var(--fill-color);\n",
              "    height: 32px;\n",
              "    padding: 0;\n",
              "    width: 32px;\n",
              "  }\n",
              "\n",
              "  .colab-df-quickchart:hover {\n",
              "    background-color: var(--hover-bg-color);\n",
              "    box-shadow: 0 1px 2px rgba(60, 64, 67, 0.3), 0 1px 3px 1px rgba(60, 64, 67, 0.15);\n",
              "    fill: var(--button-hover-fill-color);\n",
              "  }\n",
              "\n",
              "  .colab-df-quickchart-complete:disabled,\n",
              "  .colab-df-quickchart-complete:disabled:hover {\n",
              "    background-color: var(--disabled-bg-color);\n",
              "    fill: var(--disabled-fill-color);\n",
              "    box-shadow: none;\n",
              "  }\n",
              "\n",
              "  .colab-df-spinner {\n",
              "    border: 2px solid var(--fill-color);\n",
              "    border-color: transparent;\n",
              "    border-bottom-color: var(--fill-color);\n",
              "    animation:\n",
              "      spin 1s steps(1) infinite;\n",
              "  }\n",
              "\n",
              "  @keyframes spin {\n",
              "    0% {\n",
              "      border-color: transparent;\n",
              "      border-bottom-color: var(--fill-color);\n",
              "      border-left-color: var(--fill-color);\n",
              "    }\n",
              "    20% {\n",
              "      border-color: transparent;\n",
              "      border-left-color: var(--fill-color);\n",
              "      border-top-color: var(--fill-color);\n",
              "    }\n",
              "    30% {\n",
              "      border-color: transparent;\n",
              "      border-left-color: var(--fill-color);\n",
              "      border-top-color: var(--fill-color);\n",
              "      border-right-color: var(--fill-color);\n",
              "    }\n",
              "    40% {\n",
              "      border-color: transparent;\n",
              "      border-right-color: var(--fill-color);\n",
              "      border-top-color: var(--fill-color);\n",
              "    }\n",
              "    60% {\n",
              "      border-color: transparent;\n",
              "      border-right-color: var(--fill-color);\n",
              "    }\n",
              "    80% {\n",
              "      border-color: transparent;\n",
              "      border-right-color: var(--fill-color);\n",
              "      border-bottom-color: var(--fill-color);\n",
              "    }\n",
              "    90% {\n",
              "      border-color: transparent;\n",
              "      border-bottom-color: var(--fill-color);\n",
              "    }\n",
              "  }\n",
              "</style>\n",
              "\n",
              "  <script>\n",
              "    async function quickchart(key) {\n",
              "      const quickchartButtonEl =\n",
              "        document.querySelector('#' + key + ' button');\n",
              "      quickchartButtonEl.disabled = true;  // To prevent multiple clicks.\n",
              "      quickchartButtonEl.classList.add('colab-df-spinner');\n",
              "      try {\n",
              "        const charts = await google.colab.kernel.invokeFunction(\n",
              "            'suggestCharts', [key], {});\n",
              "      } catch (error) {\n",
              "        console.error('Error during call to suggestCharts:', error);\n",
              "      }\n",
              "      quickchartButtonEl.classList.remove('colab-df-spinner');\n",
              "      quickchartButtonEl.classList.add('colab-df-quickchart-complete');\n",
              "    }\n",
              "    (() => {\n",
              "      let quickchartButtonEl =\n",
              "        document.querySelector('#df-774c4124-f472-485c-be16-2dd283bd3572 button');\n",
              "      quickchartButtonEl.style.display =\n",
              "        google.colab.kernel.accessAllowed ? 'block' : 'none';\n",
              "    })();\n",
              "  </script>\n",
              "</div>\n",
              "\n",
              "    </div>\n",
              "  </div>\n"
            ],
            "application/vnd.google.colaboratory.intrinsic+json": {
              "type": "dataframe",
              "variable_name": "trips",
              "summary": "{\n  \"name\": \"trips\",\n  \"rows\": 10000,\n  \"fields\": [\n    {\n      \"column\": \"id\",\n      \"properties\": {\n        \"dtype\": \"number\",\n        \"std\": 2886,\n        \"min\": 514030,\n        \"max\": 524029,\n        \"num_unique_values\": 10000,\n        \"samples\": [\n          520282,\n          518714,\n          515761\n        ],\n        \"semantic_type\": \"\",\n        \"description\": \"\"\n      }\n    },\n    {\n      \"column\": \"vendor_id\",\n      \"properties\": {\n        \"dtype\": \"number\",\n        \"std\": 0,\n        \"min\": 1,\n        \"max\": 2,\n        \"num_unique_values\": 2,\n        \"samples\": [\n          1,\n          2\n        ],\n        \"semantic_type\": \"\",\n        \"description\": \"\"\n      }\n    },\n    {\n      \"column\": \"pickup_datetime\",\n      \"properties\": {\n        \"dtype\": \"date\",\n        \"min\": \"2016-04-02 00:00:00\",\n        \"max\": \"2016-04-03 14:58:00\",\n        \"num_unique_values\": 2174,\n        \"samples\": [\n          \"2016-04-02 04:57:00\",\n          \"2016-04-03 02:04:00\"\n        ],\n        \"semantic_type\": \"\",\n        \"description\": \"\"\n      }\n    },\n    {\n      \"column\": \"dropoff_datetime\",\n      \"properties\": {\n        \"dtype\": \"date\",\n        \"min\": \"2016-04-02 00:01:00\",\n        \"max\": \"2016-04-03 15:54:00\",\n        \"num_unique_values\": 2210,\n        \"samples\": [\n          \"2016-04-02 16:01:00\",\n          \"2016-04-03 03:08:00\"\n        ],\n        \"semantic_type\": \"\",\n        \"description\": \"\"\n      }\n    },\n    {\n      \"column\": \"passenger_count\",\n      \"properties\": {\n        \"dtype\": \"number\",\n        \"std\": 1,\n        \"min\": 1,\n        \"max\": 6,\n        \"num_unique_values\": 6,\n        \"samples\": [\n          1,\n          2\n        ],\n        \"semantic_type\": \"\",\n        \"description\": \"\"\n      }\n    },\n    {\n      \"column\": \"trip_distance\",\n      \"properties\": {\n        \"dtype\": \"number\",\n        \"std\": 3.1346474621761238,\n        \"min\": 0.0,\n        \"max\": 32.09,\n        \"num_unique_values\": 1044,\n        \"samples\": [\n          17.88,\n          10.1\n        ],\n        \"semantic_type\": \"\",\n        \"description\": \"\"\n      }\n    },\n    {\n      \"column\": \"pickup_longitude\",\n      \"properties\": {\n        \"dtype\": \"number\",\n        \"std\": 0.032755020855739475,\n        \"min\": -74.0272522,\n        \"max\": -73.77398682,\n        \"num_unique_values\": 5907,\n        \"samples\": [\n          -73.98241425,\n          -74.00324249\n        ],\n        \"semantic_type\": \"\",\n        \"description\": \"\"\n      }\n    },\n    {\n      \"column\": \"pickup_latitude\",\n      \"properties\": {\n        \"dtype\": \"number\",\n        \"std\": 0.027118830307997662,\n        \"min\": 40.63239288,\n        \"max\": 40.84966278,\n        \"num_unique_values\": 7923,\n        \"samples\": [\n          40.74463654,\n          40.78149033\n        ],\n        \"semantic_type\": \"\",\n        \"description\": \"\"\n      }\n    },\n    {\n      \"column\": \"dropoff_longitude\",\n      \"properties\": {\n        \"dtype\": \"number\",\n        \"std\": 0.031928059023217936,\n        \"min\": -74.0272522,\n        \"max\": -73.77626038,\n        \"num_unique_values\": 6223,\n        \"samples\": [\n          -73.99628448,\n          -73.97689819\n        ],\n        \"semantic_type\": \"\",\n        \"description\": \"\"\n      }\n    },\n    {\n      \"column\": \"dropoff_latitude\",\n      \"properties\": {\n        \"dtype\": \"number\",\n        \"std\": 0.030314394187601804,\n        \"min\": 40.63027954,\n        \"max\": 40.84968567,\n        \"num_unique_values\": 8072,\n        \"samples\": [\n          40.73513794,\n          40.73226166\n        ],\n        \"semantic_type\": \"\",\n        \"description\": \"\"\n      }\n    },\n    {\n      \"column\": \"payment_type\",\n      \"properties\": {\n        \"dtype\": \"category\",\n        \"num_unique_values\": 4,\n        \"samples\": [\n          \"2\",\n          \"4\"\n        ],\n        \"semantic_type\": \"\",\n        \"description\": \"\"\n      }\n    },\n    {\n      \"column\": \"trip_duration\",\n      \"properties\": {\n        \"dtype\": \"number\",\n        \"std\": 525,\n        \"min\": 2,\n        \"max\": 3573,\n        \"num_unique_values\": 2032,\n        \"samples\": [\n          2617,\n          1262\n        ],\n        \"semantic_type\": \"\",\n        \"description\": \"\"\n      }\n    },\n    {\n      \"column\": \"pickup_neighborhood\",\n      \"properties\": {\n        \"dtype\": \"category\",\n        \"num_unique_values\": 49,\n        \"samples\": [\n          \"K\",\n          \"AI\"\n        ],\n        \"semantic_type\": \"\",\n        \"description\": \"\"\n      }\n    },\n    {\n      \"column\": \"dropoff_neighborhood\",\n      \"properties\": {\n        \"dtype\": \"category\",\n        \"num_unique_values\": 49,\n        \"samples\": [\n          \"R\",\n          \"AI\"\n        ],\n        \"semantic_type\": \"\",\n        \"description\": \"\"\n      }\n    }\n  ]\n}"
            }
          },
          "metadata": {},
          "execution_count": 8
        }
      ],
      "source": [
        "trips.head()"
      ]
    },
    {
      "cell_type": "code",
      "execution_count": 9,
      "metadata": {
        "id": "F8O0_XlwahPi",
        "colab": {
          "base_uri": "https://localhost:8080/",
          "height": 424
        },
        "outputId": "1cffe68b-8636-4597-aab3-977bea2af28a"
      },
      "outputs": [
        {
          "output_type": "execute_result",
          "data": {
            "text/plain": [
              "                 id     vendor_id             pickup_datetime  \\\n",
              "count   10000.00000  10000.000000                       10000   \n",
              "mean   519029.50000      1.527400  2016-04-02 19:38:41.568000   \n",
              "min    514030.00000      1.000000         2016-04-02 00:00:00   \n",
              "25%    516529.75000      1.000000         2016-04-02 11:56:00   \n",
              "50%    519029.50000      2.000000         2016-04-02 19:34:00   \n",
              "75%    521529.25000      2.000000         2016-04-03 02:32:00   \n",
              "max    524029.00000      2.000000         2016-04-03 14:58:00   \n",
              "std      2886.89568      0.499274                         NaN   \n",
              "\n",
              "                 dropoff_datetime  passenger_count  trip_distance  \\\n",
              "count                       10000     10000.000000   10000.000000   \n",
              "mean   2016-04-02 19:51:07.368000         1.698100       2.743312   \n",
              "min           2016-04-02 00:01:00         1.000000       0.000000   \n",
              "25%           2016-04-02 12:08:00         1.000000       1.000000   \n",
              "50%           2016-04-02 19:48:00         1.000000       1.700000   \n",
              "75%           2016-04-03 02:45:00         2.000000       3.200000   \n",
              "max           2016-04-03 15:54:00         6.000000      32.090000   \n",
              "std                           NaN         1.303045       3.134647   \n",
              "\n",
              "       pickup_longitude  pickup_latitude  dropoff_longitude  dropoff_latitude  \\\n",
              "count      10000.000000     10000.000000       10000.000000      10000.000000   \n",
              "mean         -73.976702        40.749273         -73.974212         40.750304   \n",
              "min          -74.027252        40.632393         -74.027252         40.630280   \n",
              "25%          -73.992891        40.733330         -73.992287         40.732718   \n",
              "50%          -73.983452        40.750420         -73.981422         40.752056   \n",
              "75%          -73.968937        40.766482         -73.962952         40.768576   \n",
              "max          -73.773987        40.849663         -73.776260         40.849686   \n",
              "std            0.032755         0.027119           0.031928          0.030314   \n",
              "\n",
              "       trip_duration  \n",
              "count   10000.000000  \n",
              "mean      746.098900  \n",
              "min         2.000000  \n",
              "25%       364.000000  \n",
              "50%       616.000000  \n",
              "75%       988.000000  \n",
              "max      3573.000000  \n",
              "std       525.049496  "
            ],
            "text/html": [
              "\n",
              "  <div id=\"df-a512e816-2236-4f50-a61e-13c1f9c4de92\" class=\"colab-df-container\">\n",
              "    <div>\n",
              "<style scoped>\n",
              "    .dataframe tbody tr th:only-of-type {\n",
              "        vertical-align: middle;\n",
              "    }\n",
              "\n",
              "    .dataframe tbody tr th {\n",
              "        vertical-align: top;\n",
              "    }\n",
              "\n",
              "    .dataframe thead th {\n",
              "        text-align: right;\n",
              "    }\n",
              "</style>\n",
              "<table border=\"1\" class=\"dataframe\">\n",
              "  <thead>\n",
              "    <tr style=\"text-align: right;\">\n",
              "      <th></th>\n",
              "      <th>id</th>\n",
              "      <th>vendor_id</th>\n",
              "      <th>pickup_datetime</th>\n",
              "      <th>dropoff_datetime</th>\n",
              "      <th>passenger_count</th>\n",
              "      <th>trip_distance</th>\n",
              "      <th>pickup_longitude</th>\n",
              "      <th>pickup_latitude</th>\n",
              "      <th>dropoff_longitude</th>\n",
              "      <th>dropoff_latitude</th>\n",
              "      <th>trip_duration</th>\n",
              "    </tr>\n",
              "  </thead>\n",
              "  <tbody>\n",
              "    <tr>\n",
              "      <th>count</th>\n",
              "      <td>10000.00000</td>\n",
              "      <td>10000.000000</td>\n",
              "      <td>10000</td>\n",
              "      <td>10000</td>\n",
              "      <td>10000.000000</td>\n",
              "      <td>10000.000000</td>\n",
              "      <td>10000.000000</td>\n",
              "      <td>10000.000000</td>\n",
              "      <td>10000.000000</td>\n",
              "      <td>10000.000000</td>\n",
              "      <td>10000.000000</td>\n",
              "    </tr>\n",
              "    <tr>\n",
              "      <th>mean</th>\n",
              "      <td>519029.50000</td>\n",
              "      <td>1.527400</td>\n",
              "      <td>2016-04-02 19:38:41.568000</td>\n",
              "      <td>2016-04-02 19:51:07.368000</td>\n",
              "      <td>1.698100</td>\n",
              "      <td>2.743312</td>\n",
              "      <td>-73.976702</td>\n",
              "      <td>40.749273</td>\n",
              "      <td>-73.974212</td>\n",
              "      <td>40.750304</td>\n",
              "      <td>746.098900</td>\n",
              "    </tr>\n",
              "    <tr>\n",
              "      <th>min</th>\n",
              "      <td>514030.00000</td>\n",
              "      <td>1.000000</td>\n",
              "      <td>2016-04-02 00:00:00</td>\n",
              "      <td>2016-04-02 00:01:00</td>\n",
              "      <td>1.000000</td>\n",
              "      <td>0.000000</td>\n",
              "      <td>-74.027252</td>\n",
              "      <td>40.632393</td>\n",
              "      <td>-74.027252</td>\n",
              "      <td>40.630280</td>\n",
              "      <td>2.000000</td>\n",
              "    </tr>\n",
              "    <tr>\n",
              "      <th>25%</th>\n",
              "      <td>516529.75000</td>\n",
              "      <td>1.000000</td>\n",
              "      <td>2016-04-02 11:56:00</td>\n",
              "      <td>2016-04-02 12:08:00</td>\n",
              "      <td>1.000000</td>\n",
              "      <td>1.000000</td>\n",
              "      <td>-73.992891</td>\n",
              "      <td>40.733330</td>\n",
              "      <td>-73.992287</td>\n",
              "      <td>40.732718</td>\n",
              "      <td>364.000000</td>\n",
              "    </tr>\n",
              "    <tr>\n",
              "      <th>50%</th>\n",
              "      <td>519029.50000</td>\n",
              "      <td>2.000000</td>\n",
              "      <td>2016-04-02 19:34:00</td>\n",
              "      <td>2016-04-02 19:48:00</td>\n",
              "      <td>1.000000</td>\n",
              "      <td>1.700000</td>\n",
              "      <td>-73.983452</td>\n",
              "      <td>40.750420</td>\n",
              "      <td>-73.981422</td>\n",
              "      <td>40.752056</td>\n",
              "      <td>616.000000</td>\n",
              "    </tr>\n",
              "    <tr>\n",
              "      <th>75%</th>\n",
              "      <td>521529.25000</td>\n",
              "      <td>2.000000</td>\n",
              "      <td>2016-04-03 02:32:00</td>\n",
              "      <td>2016-04-03 02:45:00</td>\n",
              "      <td>2.000000</td>\n",
              "      <td>3.200000</td>\n",
              "      <td>-73.968937</td>\n",
              "      <td>40.766482</td>\n",
              "      <td>-73.962952</td>\n",
              "      <td>40.768576</td>\n",
              "      <td>988.000000</td>\n",
              "    </tr>\n",
              "    <tr>\n",
              "      <th>max</th>\n",
              "      <td>524029.00000</td>\n",
              "      <td>2.000000</td>\n",
              "      <td>2016-04-03 14:58:00</td>\n",
              "      <td>2016-04-03 15:54:00</td>\n",
              "      <td>6.000000</td>\n",
              "      <td>32.090000</td>\n",
              "      <td>-73.773987</td>\n",
              "      <td>40.849663</td>\n",
              "      <td>-73.776260</td>\n",
              "      <td>40.849686</td>\n",
              "      <td>3573.000000</td>\n",
              "    </tr>\n",
              "    <tr>\n",
              "      <th>std</th>\n",
              "      <td>2886.89568</td>\n",
              "      <td>0.499274</td>\n",
              "      <td>NaN</td>\n",
              "      <td>NaN</td>\n",
              "      <td>1.303045</td>\n",
              "      <td>3.134647</td>\n",
              "      <td>0.032755</td>\n",
              "      <td>0.027119</td>\n",
              "      <td>0.031928</td>\n",
              "      <td>0.030314</td>\n",
              "      <td>525.049496</td>\n",
              "    </tr>\n",
              "  </tbody>\n",
              "</table>\n",
              "</div>\n",
              "    <div class=\"colab-df-buttons\">\n",
              "\n",
              "  <div class=\"colab-df-container\">\n",
              "    <button class=\"colab-df-convert\" onclick=\"convertToInteractive('df-a512e816-2236-4f50-a61e-13c1f9c4de92')\"\n",
              "            title=\"Convert this dataframe to an interactive table.\"\n",
              "            style=\"display:none;\">\n",
              "\n",
              "  <svg xmlns=\"http://www.w3.org/2000/svg\" height=\"24px\" viewBox=\"0 -960 960 960\">\n",
              "    <path d=\"M120-120v-720h720v720H120Zm60-500h600v-160H180v160Zm220 220h160v-160H400v160Zm0 220h160v-160H400v160ZM180-400h160v-160H180v160Zm440 0h160v-160H620v160ZM180-180h160v-160H180v160Zm440 0h160v-160H620v160Z\"/>\n",
              "  </svg>\n",
              "    </button>\n",
              "\n",
              "  <style>\n",
              "    .colab-df-container {\n",
              "      display:flex;\n",
              "      gap: 12px;\n",
              "    }\n",
              "\n",
              "    .colab-df-convert {\n",
              "      background-color: #E8F0FE;\n",
              "      border: none;\n",
              "      border-radius: 50%;\n",
              "      cursor: pointer;\n",
              "      display: none;\n",
              "      fill: #1967D2;\n",
              "      height: 32px;\n",
              "      padding: 0 0 0 0;\n",
              "      width: 32px;\n",
              "    }\n",
              "\n",
              "    .colab-df-convert:hover {\n",
              "      background-color: #E2EBFA;\n",
              "      box-shadow: 0px 1px 2px rgba(60, 64, 67, 0.3), 0px 1px 3px 1px rgba(60, 64, 67, 0.15);\n",
              "      fill: #174EA6;\n",
              "    }\n",
              "\n",
              "    .colab-df-buttons div {\n",
              "      margin-bottom: 4px;\n",
              "    }\n",
              "\n",
              "    [theme=dark] .colab-df-convert {\n",
              "      background-color: #3B4455;\n",
              "      fill: #D2E3FC;\n",
              "    }\n",
              "\n",
              "    [theme=dark] .colab-df-convert:hover {\n",
              "      background-color: #434B5C;\n",
              "      box-shadow: 0px 1px 3px 1px rgba(0, 0, 0, 0.15);\n",
              "      filter: drop-shadow(0px 1px 2px rgba(0, 0, 0, 0.3));\n",
              "      fill: #FFFFFF;\n",
              "    }\n",
              "  </style>\n",
              "\n",
              "    <script>\n",
              "      const buttonEl =\n",
              "        document.querySelector('#df-a512e816-2236-4f50-a61e-13c1f9c4de92 button.colab-df-convert');\n",
              "      buttonEl.style.display =\n",
              "        google.colab.kernel.accessAllowed ? 'block' : 'none';\n",
              "\n",
              "      async function convertToInteractive(key) {\n",
              "        const element = document.querySelector('#df-a512e816-2236-4f50-a61e-13c1f9c4de92');\n",
              "        const dataTable =\n",
              "          await google.colab.kernel.invokeFunction('convertToInteractive',\n",
              "                                                    [key], {});\n",
              "        if (!dataTable) return;\n",
              "\n",
              "        const docLinkHtml = 'Like what you see? Visit the ' +\n",
              "          '<a target=\"_blank\" href=https://colab.research.google.com/notebooks/data_table.ipynb>data table notebook</a>'\n",
              "          + ' to learn more about interactive tables.';\n",
              "        element.innerHTML = '';\n",
              "        dataTable['output_type'] = 'display_data';\n",
              "        await google.colab.output.renderOutput(dataTable, element);\n",
              "        const docLink = document.createElement('div');\n",
              "        docLink.innerHTML = docLinkHtml;\n",
              "        element.appendChild(docLink);\n",
              "      }\n",
              "    </script>\n",
              "  </div>\n",
              "\n",
              "\n",
              "<div id=\"df-48f2f4ad-ec4b-434a-a17f-a1d70a63423e\">\n",
              "  <button class=\"colab-df-quickchart\" onclick=\"quickchart('df-48f2f4ad-ec4b-434a-a17f-a1d70a63423e')\"\n",
              "            title=\"Suggest charts\"\n",
              "            style=\"display:none;\">\n",
              "\n",
              "<svg xmlns=\"http://www.w3.org/2000/svg\" height=\"24px\"viewBox=\"0 0 24 24\"\n",
              "     width=\"24px\">\n",
              "    <g>\n",
              "        <path d=\"M19 3H5c-1.1 0-2 .9-2 2v14c0 1.1.9 2 2 2h14c1.1 0 2-.9 2-2V5c0-1.1-.9-2-2-2zM9 17H7v-7h2v7zm4 0h-2V7h2v10zm4 0h-2v-4h2v4z\"/>\n",
              "    </g>\n",
              "</svg>\n",
              "  </button>\n",
              "\n",
              "<style>\n",
              "  .colab-df-quickchart {\n",
              "      --bg-color: #E8F0FE;\n",
              "      --fill-color: #1967D2;\n",
              "      --hover-bg-color: #E2EBFA;\n",
              "      --hover-fill-color: #174EA6;\n",
              "      --disabled-fill-color: #AAA;\n",
              "      --disabled-bg-color: #DDD;\n",
              "  }\n",
              "\n",
              "  [theme=dark] .colab-df-quickchart {\n",
              "      --bg-color: #3B4455;\n",
              "      --fill-color: #D2E3FC;\n",
              "      --hover-bg-color: #434B5C;\n",
              "      --hover-fill-color: #FFFFFF;\n",
              "      --disabled-bg-color: #3B4455;\n",
              "      --disabled-fill-color: #666;\n",
              "  }\n",
              "\n",
              "  .colab-df-quickchart {\n",
              "    background-color: var(--bg-color);\n",
              "    border: none;\n",
              "    border-radius: 50%;\n",
              "    cursor: pointer;\n",
              "    display: none;\n",
              "    fill: var(--fill-color);\n",
              "    height: 32px;\n",
              "    padding: 0;\n",
              "    width: 32px;\n",
              "  }\n",
              "\n",
              "  .colab-df-quickchart:hover {\n",
              "    background-color: var(--hover-bg-color);\n",
              "    box-shadow: 0 1px 2px rgba(60, 64, 67, 0.3), 0 1px 3px 1px rgba(60, 64, 67, 0.15);\n",
              "    fill: var(--button-hover-fill-color);\n",
              "  }\n",
              "\n",
              "  .colab-df-quickchart-complete:disabled,\n",
              "  .colab-df-quickchart-complete:disabled:hover {\n",
              "    background-color: var(--disabled-bg-color);\n",
              "    fill: var(--disabled-fill-color);\n",
              "    box-shadow: none;\n",
              "  }\n",
              "\n",
              "  .colab-df-spinner {\n",
              "    border: 2px solid var(--fill-color);\n",
              "    border-color: transparent;\n",
              "    border-bottom-color: var(--fill-color);\n",
              "    animation:\n",
              "      spin 1s steps(1) infinite;\n",
              "  }\n",
              "\n",
              "  @keyframes spin {\n",
              "    0% {\n",
              "      border-color: transparent;\n",
              "      border-bottom-color: var(--fill-color);\n",
              "      border-left-color: var(--fill-color);\n",
              "    }\n",
              "    20% {\n",
              "      border-color: transparent;\n",
              "      border-left-color: var(--fill-color);\n",
              "      border-top-color: var(--fill-color);\n",
              "    }\n",
              "    30% {\n",
              "      border-color: transparent;\n",
              "      border-left-color: var(--fill-color);\n",
              "      border-top-color: var(--fill-color);\n",
              "      border-right-color: var(--fill-color);\n",
              "    }\n",
              "    40% {\n",
              "      border-color: transparent;\n",
              "      border-right-color: var(--fill-color);\n",
              "      border-top-color: var(--fill-color);\n",
              "    }\n",
              "    60% {\n",
              "      border-color: transparent;\n",
              "      border-right-color: var(--fill-color);\n",
              "    }\n",
              "    80% {\n",
              "      border-color: transparent;\n",
              "      border-right-color: var(--fill-color);\n",
              "      border-bottom-color: var(--fill-color);\n",
              "    }\n",
              "    90% {\n",
              "      border-color: transparent;\n",
              "      border-bottom-color: var(--fill-color);\n",
              "    }\n",
              "  }\n",
              "</style>\n",
              "\n",
              "  <script>\n",
              "    async function quickchart(key) {\n",
              "      const quickchartButtonEl =\n",
              "        document.querySelector('#' + key + ' button');\n",
              "      quickchartButtonEl.disabled = true;  // To prevent multiple clicks.\n",
              "      quickchartButtonEl.classList.add('colab-df-spinner');\n",
              "      try {\n",
              "        const charts = await google.colab.kernel.invokeFunction(\n",
              "            'suggestCharts', [key], {});\n",
              "      } catch (error) {\n",
              "        console.error('Error during call to suggestCharts:', error);\n",
              "      }\n",
              "      quickchartButtonEl.classList.remove('colab-df-spinner');\n",
              "      quickchartButtonEl.classList.add('colab-df-quickchart-complete');\n",
              "    }\n",
              "    (() => {\n",
              "      let quickchartButtonEl =\n",
              "        document.querySelector('#df-48f2f4ad-ec4b-434a-a17f-a1d70a63423e button');\n",
              "      quickchartButtonEl.style.display =\n",
              "        google.colab.kernel.accessAllowed ? 'block' : 'none';\n",
              "    })();\n",
              "  </script>\n",
              "</div>\n",
              "\n",
              "    </div>\n",
              "  </div>\n"
            ],
            "application/vnd.google.colaboratory.intrinsic+json": {
              "type": "dataframe",
              "summary": "{\n  \"name\": \"trips\",\n  \"rows\": 8,\n  \"fields\": [\n    {\n      \"column\": \"id\",\n      \"properties\": {\n        \"dtype\": \"number\",\n        \"std\": 237307.6595388635,\n        \"min\": 2886.8956799071675,\n        \"max\": 524029.0,\n        \"num_unique_values\": 7,\n        \"samples\": [\n          10000.0,\n          519029.5,\n          524029.0\n        ],\n        \"semantic_type\": \"\",\n        \"description\": \"\"\n      }\n    },\n    {\n      \"column\": \"vendor_id\",\n      \"properties\": {\n        \"dtype\": \"number\",\n        \"std\": 3535.027527299416,\n        \"min\": 0.49927363981762707,\n        \"max\": 10000.0,\n        \"num_unique_values\": 5,\n        \"samples\": [\n          1.5274,\n          0.49927363981762707,\n          1.0\n        ],\n        \"semantic_type\": \"\",\n        \"description\": \"\"\n      }\n    },\n    {\n      \"column\": \"pickup_datetime\",\n      \"properties\": {\n        \"dtype\": \"date\",\n        \"min\": \"1970-01-01 00:00:00.000010\",\n        \"max\": \"2016-04-03 14:58:00\",\n        \"num_unique_values\": 7,\n        \"samples\": [\n          \"10000\",\n          \"2016-04-02 19:38:41.568000\",\n          \"2016-04-03 02:32:00\"\n        ],\n        \"semantic_type\": \"\",\n        \"description\": \"\"\n      }\n    },\n    {\n      \"column\": \"dropoff_datetime\",\n      \"properties\": {\n        \"dtype\": \"date\",\n        \"min\": \"1970-01-01 00:00:00.000010\",\n        \"max\": \"2016-04-03 15:54:00\",\n        \"num_unique_values\": 7,\n        \"samples\": [\n          \"10000\",\n          \"2016-04-02 19:51:07.368000\",\n          \"2016-04-03 02:45:00\"\n        ],\n        \"semantic_type\": \"\",\n        \"description\": \"\"\n      }\n    },\n    {\n      \"column\": \"passenger_count\",\n      \"properties\": {\n        \"dtype\": \"number\",\n        \"std\": 3534.8271369140534,\n        \"min\": 1.0,\n        \"max\": 10000.0,\n        \"num_unique_values\": 6,\n        \"samples\": [\n          10000.0,\n          1.6981,\n          1.3030449656931498\n        ],\n        \"semantic_type\": \"\",\n        \"description\": \"\"\n      }\n    },\n    {\n      \"column\": \"trip_distance\",\n      \"properties\": {\n        \"dtype\": \"number\",\n        \"std\": 3533.334135699323,\n        \"min\": 0.0,\n        \"max\": 10000.0,\n        \"num_unique_values\": 8,\n        \"samples\": [\n          2.7433120000000004,\n          3.2,\n          10000.0\n        ],\n        \"semantic_type\": \"\",\n        \"description\": \"\"\n      }\n    },\n    {\n      \"column\": \"pickup_longitude\",\n      \"properties\": {\n        \"dtype\": \"number\",\n        \"std\": 3558.0378541734094,\n        \"min\": -74.0272522,\n        \"max\": 10000.0,\n        \"num_unique_values\": 8,\n        \"samples\": [\n          -73.97670169074601,\n          -73.9689369175,\n          10000.0\n        ],\n        \"semantic_type\": \"\",\n        \"description\": \"\"\n      }\n    },\n    {\n      \"column\": \"pickup_latitude\",\n      \"properties\": {\n        \"dtype\": \"number\",\n        \"std\": 3523.213166916465,\n        \"min\": 0.027118830307997662,\n        \"max\": 10000.0,\n        \"num_unique_values\": 8,\n        \"samples\": [\n          40.749273248359,\n          40.7664823525,\n          10000.0\n        ],\n        \"semantic_type\": \"\",\n        \"description\": \"\"\n      }\n    },\n    {\n      \"column\": \"dropoff_longitude\",\n      \"properties\": {\n        \"dtype\": \"number\",\n        \"std\": 3558.037443813368,\n        \"min\": -74.0272522,\n        \"max\": 10000.0,\n        \"num_unique_values\": 8,\n        \"samples\": [\n          -73.974211965179,\n          -73.96295166,\n          10000.0\n        ],\n        \"semantic_type\": \"\",\n        \"description\": \"\"\n      }\n    },\n    {\n      \"column\": \"dropoff_latitude\",\n      \"properties\": {\n        \"dtype\": \"number\",\n        \"std\": 3523.2128975196083,\n        \"min\": 0.030314394187601804,\n        \"max\": 10000.0,\n        \"num_unique_values\": 8,\n        \"samples\": [\n          40.750303780058005,\n          40.7685756675,\n          10000.0\n        ],\n        \"semantic_type\": \"\",\n        \"description\": \"\"\n      }\n    },\n    {\n      \"column\": \"trip_duration\",\n      \"properties\": {\n        \"dtype\": \"number\",\n        \"std\": 3375.2739837147833,\n        \"min\": 2.0,\n        \"max\": 10000.0,\n        \"num_unique_values\": 8,\n        \"samples\": [\n          746.0989,\n          988.0,\n          10000.0\n        ],\n        \"semantic_type\": \"\",\n        \"description\": \"\"\n      }\n    }\n  ]\n}"
            }
          },
          "metadata": {},
          "execution_count": 9
        }
      ],
      "source": [
        "trips.describe()"
      ]
    },
    {
      "cell_type": "markdown",
      "metadata": {
        "id": "uigUJZU_khx4"
      },
      "source": [
        "**<h1>PREGUNTA 1: ANÁLISIS DE DATOS</h1>**\n",
        "\n",
        "Describa la base de datos. ¿Cuántos trayectos hay en la base de datos? ¿Cómo describiría la distribución de la duración de los trayectos? ¿Hay algo que debamos observar? Asegúrese de que el histograma se muestra visible en el notebook.\n",
        "\n",
        "\n",
        "\n"
      ]
    },
    {
      "cell_type": "markdown",
      "metadata": {
        "id": "hkJLa08V9q-f"
      },
      "source": [
        "\n",
        "La base de datos contiene información sobre trayectos de taxi en la ciudad de Nueva York. A partir del histograma y de la información proporcionada, podemos ver que hay 10,000 trayectos en la base de datos, que es el número de entradas que muestra el método `shape[0]` aplicado a la estructura de datos `trips`.\n",
        "\n",
        "La distribución de la duración de los trayectos, como se observa en el histograma, parece estar sesgada hacia la derecha, con la mayoría de los trayectos durando menos de 1000 segundos. La mayor frecuencia de trayectos parece ocurrir entre 500 y 1000 segundos. La cantidad de trayectos disminuye a medida que aumenta la duración de estos, lo que es un patrón típico para muchas actividades humanas, donde hay muchos eventos de corta duración y pocos de larga duración.\n",
        "\n",
        "Sin embargo, hay algo a destacar en el histograma: existe una cantidad significativa de trayectos con duraciones muy cortas, incluso de pocos segundos, lo cual es atípico y podría ser indicativo de registros erróneos o de trayectos cancelados que se han registrado como completos. Estos datos atípicos podrían afectar el rendimiento de un modelo predictivo y podrían necesitar una inspección más detallada para determinar si deberían ser excluidos o tratados de alguna manera especial durante el análisis.\n",
        "\n",
        "Por tanto, al describir la distribución, se debe mencionar la sesgadura, el rango de duraciones más común, y la presencia de valores atípicos que podrían requerir atención adicional en el análisis de datos."
      ]
    },
    {
      "cell_type": "markdown",
      "metadata": {
        "id": "hy_suiunkhx6"
      },
      "source": [
        "# Entidades y relaciones"
      ]
    },
    {
      "cell_type": "code",
      "source": [
        "pickup_neighborhoods = pickup_neighborhoods.dropna(subset=\"neighborhood_id\")\n",
        "dropoff_neighborhoods = dropoff_neighborhoods.dropna(subset=\"neighborhood_id\")"
      ],
      "metadata": {
        "id": "vnxQjVeUNfMd"
      },
      "execution_count": 10,
      "outputs": []
    },
    {
      "cell_type": "code",
      "execution_count": 11,
      "metadata": {
        "id": "lbucIL3lkhx6",
        "colab": {
          "base_uri": "https://localhost:8080/"
        },
        "outputId": "dbe72f8c-e1b1-4fe6-ef34-8432abff237f"
      },
      "outputs": [
        {
          "output_type": "stream",
          "name": "stdout",
          "text": [
            "Entidades y relaciones definidas con éxito!\n"
          ]
        }
      ],
      "source": [
        "entities = {\n",
        "    \"trips\": (trips, \"id\", 'pickup_datetime'),\n",
        "    \"pickup_neighborhoods\": (pickup_neighborhoods, \"neighborhood_id\"),\n",
        "    \"dropoff_neighborhoods\": (dropoff_neighborhoods, \"neighborhood_id\"),\n",
        "}\n",
        "\n",
        "relationships = [(\"pickup_neighborhoods\", \"neighborhood_id\", \"trips\", \"pickup_neighborhood\"),\n",
        "                 (\"dropoff_neighborhoods\", \"neighborhood_id\", \"trips\", \"dropoff_neighborhood\")]\n",
        "\n",
        "print('Entidades y relaciones definidas con éxito!')"
      ]
    },
    {
      "cell_type": "markdown",
      "metadata": {
        "id": "2vpGXeGckhx8"
      },
      "source": [
        "# Primitivas de transformación"
      ]
    },
    {
      "cell_type": "code",
      "execution_count": 12,
      "metadata": {
        "id": "rbMhdBjQkhx8",
        "scrolled": false,
        "colab": {
          "base_uri": "https://localhost:8080/"
        },
        "outputId": "17c84717-c9f1-46eb-f964-4ae46702e841"
      },
      "outputs": [
        {
          "output_type": "stream",
          "name": "stderr",
          "text": [
            "/usr/local/lib/python3.10/dist-packages/woodwork/type_sys/utils.py:40: UserWarning: Could not infer format, so each element will be parsed individually, falling back to `dateutil`. To ensure parsing is consistent and as-expected, please specify a format.\n",
            "  pd.to_datetime(\n",
            "/usr/local/lib/python3.10/dist-packages/woodwork/type_sys/utils.py:40: UserWarning: Could not infer format, so each element will be parsed individually, falling back to `dateutil`. To ensure parsing is consistent and as-expected, please specify a format.\n",
            "  pd.to_datetime(\n",
            "/usr/local/lib/python3.10/dist-packages/woodwork/type_sys/utils.py:40: UserWarning: Could not infer format, so each element will be parsed individually, falling back to `dateutil`. To ensure parsing is consistent and as-expected, please specify a format.\n",
            "  pd.to_datetime(\n",
            "/usr/local/lib/python3.10/dist-packages/woodwork/type_sys/utils.py:40: UserWarning: Could not infer format, so each element will be parsed individually, falling back to `dateutil`. To ensure parsing is consistent and as-expected, please specify a format.\n",
            "  pd.to_datetime(\n"
          ]
        },
        {
          "output_type": "stream",
          "name": "stdout",
          "text": [
            "Primitivas de transformación definidas con éxito!\n"
          ]
        },
        {
          "output_type": "stream",
          "name": "stderr",
          "text": [
            "/usr/local/lib/python3.10/dist-packages/woodwork/type_sys/utils.py:40: UserWarning: Could not infer format, so each element will be parsed individually, falling back to `dateutil`. To ensure parsing is consistent and as-expected, please specify a format.\n",
            "  pd.to_datetime(\n",
            "/usr/local/lib/python3.10/dist-packages/woodwork/type_sys/utils.py:40: UserWarning: Could not infer format, so each element will be parsed individually, falling back to `dateutil`. To ensure parsing is consistent and as-expected, please specify a format.\n",
            "  pd.to_datetime(\n",
            "/usr/local/lib/python3.10/dist-packages/woodwork/type_sys/utils.py:40: UserWarning: Could not infer format, so each element will be parsed individually, falling back to `dateutil`. To ensure parsing is consistent and as-expected, please specify a format.\n",
            "  pd.to_datetime(\n",
            "/usr/local/lib/python3.10/dist-packages/woodwork/type_sys/utils.py:40: UserWarning: Could not infer format, so each element will be parsed individually, falling back to `dateutil`. To ensure parsing is consistent and as-expected, please specify a format.\n",
            "  pd.to_datetime(\n",
            "/usr/local/lib/python3.10/dist-packages/woodwork/type_sys/utils.py:40: UserWarning: Could not infer format, so each element will be parsed individually, falling back to `dateutil`. To ensure parsing is consistent and as-expected, please specify a format.\n",
            "  pd.to_datetime(\n",
            "/usr/local/lib/python3.10/dist-packages/woodwork/type_sys/utils.py:40: UserWarning: Could not infer format, so each element will be parsed individually, falling back to `dateutil`. To ensure parsing is consistent and as-expected, please specify a format.\n",
            "  pd.to_datetime(\n",
            "/usr/local/lib/python3.10/dist-packages/featuretools/entityset/entityset.py:414: UserWarning: Logical type Categorical for child column pickup_neighborhood does not match parent column neighborhood_id logical type Unknown. Changing child logical type to match parent.\n",
            "  warnings.warn(\n",
            "/usr/local/lib/python3.10/dist-packages/featuretools/entityset/entityset.py:414: UserWarning: Logical type Categorical for child column dropoff_neighborhood does not match parent column neighborhood_id logical type Unknown. Changing child logical type to match parent.\n",
            "  warnings.warn(\n"
          ]
        }
      ],
      "source": [
        "# ==============================================\n",
        "# Listado de las primitivas creadas en este paso\n",
        "trans_primitives = [IsWeekend]\n",
        "# ==============================================\n",
        "\n",
        "\n",
        "# This may take some time to compute\n",
        "features = ft.dfs(dataframes=entities,\n",
        "                  relationships=relationships,\n",
        "                  target_dataframe_name=\"trips\",\n",
        "                  trans_primitives=trans_primitives,\n",
        "                  agg_primitives=[],\n",
        "                  ignore_columns={\"trips\": [\"pickup_latitude\", \"pickup_longitude\",\n",
        "                                              \"dropoff_latitude\", \"dropoff_longitude\", \"trip_duration\"]},\n",
        "                  features_only=True)\n",
        "\n",
        "print('Primitivas de transformación definidas con éxito!')"
      ]
    },
    {
      "cell_type": "markdown",
      "metadata": {
        "id": "LiwmeZZLkhx-"
      },
      "source": [
        "Aquí hay algunos atributos que acabamos de crear:"
      ]
    },
    {
      "cell_type": "code",
      "execution_count": 13,
      "metadata": {
        "id": "dZqqDOrgkhx_",
        "colab": {
          "base_uri": "https://localhost:8080/"
        },
        "outputId": "75278f79-1edb-4c95-a677-f773b2bfe7c6"
      },
      "outputs": [
        {
          "output_type": "stream",
          "name": "stdout",
          "text": [
            "Número de atributos: 10\n"
          ]
        },
        {
          "output_type": "execute_result",
          "data": {
            "text/plain": [
              "[<Feature: vendor_id>,\n",
              " <Feature: passenger_count>,\n",
              " <Feature: trip_distance>,\n",
              " <Feature: payment_type>,\n",
              " <Feature: IS_WEEKEND(dropoff_datetime)>,\n",
              " <Feature: IS_WEEKEND(pickup_datetime)>,\n",
              " <Feature: pickup_neighborhoods.latitude>,\n",
              " <Feature: pickup_neighborhoods.longitude>,\n",
              " <Feature: dropoff_neighborhoods.latitude>,\n",
              " <Feature: dropoff_neighborhoods.longitude>]"
            ]
          },
          "metadata": {},
          "execution_count": 13
        }
      ],
      "source": [
        "print(f\"Número de atributos: {len(features)}\")\n",
        "features"
      ]
    },
    {
      "cell_type": "markdown",
      "metadata": {
        "id": "ChplS6abkhyA"
      },
      "source": [
        "Finalmente, calculamos la matriz de atributos con dichos atributos:"
      ]
    },
    {
      "cell_type": "code",
      "execution_count": 14,
      "metadata": {
        "id": "FWrtELGnkhyB",
        "colab": {
          "base_uri": "https://localhost:8080/",
          "height": 396
        },
        "outputId": "9e5e4a51-7bd3-4aa2-c806-31120207f70b"
      },
      "outputs": [
        {
          "output_type": "stream",
          "name": "stderr",
          "text": [
            "/usr/local/lib/python3.10/dist-packages/featuretools/entityset/entityset.py:754: UserWarning: A Woodwork-initialized DataFrame was provided, so the following parameters were ignored: index, time_index\n",
            "  warnings.warn(\n",
            "/usr/local/lib/python3.10/dist-packages/featuretools/entityset/entityset.py:754: UserWarning: A Woodwork-initialized DataFrame was provided, so the following parameters were ignored: index\n",
            "  warnings.warn(\n",
            "/usr/local/lib/python3.10/dist-packages/featuretools/computational_backends/calculate_feature_matrix.py:239: UserWarning: Using approximate with a single cutoff_time value or no cutoff_time provides no computational efficiency benefit\n",
            "  warnings.warn(msg)\n"
          ]
        },
        {
          "output_type": "stream",
          "name": "stdout",
          "text": [
            "Elapsed: 00:00 | Progress: 100%|██████████\n",
            "Finishing computing...\n"
          ]
        },
        {
          "output_type": "execute_result",
          "data": {
            "text/plain": [
              "        IS_WEEKEND(dropoff_datetime)  payment_type  \\\n",
              "id                                                   \n",
              "514030                          True             1   \n",
              "514031                          True             1   \n",
              "514032                          True             1   \n",
              "514033                          True             2   \n",
              "514034                          True             1   \n",
              "\n",
              "        dropoff_neighborhoods.latitude  passenger_count  trip_distance  \\\n",
              "id                                                                       \n",
              "514030                       40.766809                1           2.46   \n",
              "514031                       40.793597                2           7.90   \n",
              "514032                       40.740333                1           1.00   \n",
              "514033                       40.720245                1           0.02   \n",
              "514034                       40.785005                2          19.00   \n",
              "\n",
              "        dropoff_neighborhoods.longitude  vendor_id  \\\n",
              "id                                                   \n",
              "514030                       -73.956886          2   \n",
              "514031                       -73.969822          1   \n",
              "514032                       -74.005107          1   \n",
              "514033                       -73.987205          2   \n",
              "514034                       -73.976050          1   \n",
              "\n",
              "        IS_WEEKEND(pickup_datetime)  pickup_neighborhoods.longitude  \\\n",
              "id                                                                    \n",
              "514030                         True                      -73.986446   \n",
              "514031                         True                      -73.919159   \n",
              "514032                         True                      -73.991595   \n",
              "514033                         True                      -73.987205   \n",
              "514034                         True                      -73.785073   \n",
              "\n",
              "        pickup_neighborhoods.latitude  \n",
              "id                                     \n",
              "514030                      40.757707  \n",
              "514031                      40.744928  \n",
              "514032                      40.729652  \n",
              "514033                      40.720245  \n",
              "514034                      40.646194  "
            ],
            "text/html": [
              "\n",
              "  <div id=\"df-128b05b3-24ea-43e8-b90e-a24ab993ee17\" class=\"colab-df-container\">\n",
              "    <div>\n",
              "<style scoped>\n",
              "    .dataframe tbody tr th:only-of-type {\n",
              "        vertical-align: middle;\n",
              "    }\n",
              "\n",
              "    .dataframe tbody tr th {\n",
              "        vertical-align: top;\n",
              "    }\n",
              "\n",
              "    .dataframe thead th {\n",
              "        text-align: right;\n",
              "    }\n",
              "</style>\n",
              "<table border=\"1\" class=\"dataframe\">\n",
              "  <thead>\n",
              "    <tr style=\"text-align: right;\">\n",
              "      <th></th>\n",
              "      <th>IS_WEEKEND(dropoff_datetime)</th>\n",
              "      <th>payment_type</th>\n",
              "      <th>dropoff_neighborhoods.latitude</th>\n",
              "      <th>passenger_count</th>\n",
              "      <th>trip_distance</th>\n",
              "      <th>dropoff_neighborhoods.longitude</th>\n",
              "      <th>vendor_id</th>\n",
              "      <th>IS_WEEKEND(pickup_datetime)</th>\n",
              "      <th>pickup_neighborhoods.longitude</th>\n",
              "      <th>pickup_neighborhoods.latitude</th>\n",
              "    </tr>\n",
              "    <tr>\n",
              "      <th>id</th>\n",
              "      <th></th>\n",
              "      <th></th>\n",
              "      <th></th>\n",
              "      <th></th>\n",
              "      <th></th>\n",
              "      <th></th>\n",
              "      <th></th>\n",
              "      <th></th>\n",
              "      <th></th>\n",
              "      <th></th>\n",
              "    </tr>\n",
              "  </thead>\n",
              "  <tbody>\n",
              "    <tr>\n",
              "      <th>514030</th>\n",
              "      <td>True</td>\n",
              "      <td>1</td>\n",
              "      <td>40.766809</td>\n",
              "      <td>1</td>\n",
              "      <td>2.46</td>\n",
              "      <td>-73.956886</td>\n",
              "      <td>2</td>\n",
              "      <td>True</td>\n",
              "      <td>-73.986446</td>\n",
              "      <td>40.757707</td>\n",
              "    </tr>\n",
              "    <tr>\n",
              "      <th>514031</th>\n",
              "      <td>True</td>\n",
              "      <td>1</td>\n",
              "      <td>40.793597</td>\n",
              "      <td>2</td>\n",
              "      <td>7.90</td>\n",
              "      <td>-73.969822</td>\n",
              "      <td>1</td>\n",
              "      <td>True</td>\n",
              "      <td>-73.919159</td>\n",
              "      <td>40.744928</td>\n",
              "    </tr>\n",
              "    <tr>\n",
              "      <th>514032</th>\n",
              "      <td>True</td>\n",
              "      <td>1</td>\n",
              "      <td>40.740333</td>\n",
              "      <td>1</td>\n",
              "      <td>1.00</td>\n",
              "      <td>-74.005107</td>\n",
              "      <td>1</td>\n",
              "      <td>True</td>\n",
              "      <td>-73.991595</td>\n",
              "      <td>40.729652</td>\n",
              "    </tr>\n",
              "    <tr>\n",
              "      <th>514033</th>\n",
              "      <td>True</td>\n",
              "      <td>2</td>\n",
              "      <td>40.720245</td>\n",
              "      <td>1</td>\n",
              "      <td>0.02</td>\n",
              "      <td>-73.987205</td>\n",
              "      <td>2</td>\n",
              "      <td>True</td>\n",
              "      <td>-73.987205</td>\n",
              "      <td>40.720245</td>\n",
              "    </tr>\n",
              "    <tr>\n",
              "      <th>514034</th>\n",
              "      <td>True</td>\n",
              "      <td>1</td>\n",
              "      <td>40.785005</td>\n",
              "      <td>2</td>\n",
              "      <td>19.00</td>\n",
              "      <td>-73.976050</td>\n",
              "      <td>1</td>\n",
              "      <td>True</td>\n",
              "      <td>-73.785073</td>\n",
              "      <td>40.646194</td>\n",
              "    </tr>\n",
              "  </tbody>\n",
              "</table>\n",
              "</div>\n",
              "    <div class=\"colab-df-buttons\">\n",
              "\n",
              "  <div class=\"colab-df-container\">\n",
              "    <button class=\"colab-df-convert\" onclick=\"convertToInteractive('df-128b05b3-24ea-43e8-b90e-a24ab993ee17')\"\n",
              "            title=\"Convert this dataframe to an interactive table.\"\n",
              "            style=\"display:none;\">\n",
              "\n",
              "  <svg xmlns=\"http://www.w3.org/2000/svg\" height=\"24px\" viewBox=\"0 -960 960 960\">\n",
              "    <path d=\"M120-120v-720h720v720H120Zm60-500h600v-160H180v160Zm220 220h160v-160H400v160Zm0 220h160v-160H400v160ZM180-400h160v-160H180v160Zm440 0h160v-160H620v160ZM180-180h160v-160H180v160Zm440 0h160v-160H620v160Z\"/>\n",
              "  </svg>\n",
              "    </button>\n",
              "\n",
              "  <style>\n",
              "    .colab-df-container {\n",
              "      display:flex;\n",
              "      gap: 12px;\n",
              "    }\n",
              "\n",
              "    .colab-df-convert {\n",
              "      background-color: #E8F0FE;\n",
              "      border: none;\n",
              "      border-radius: 50%;\n",
              "      cursor: pointer;\n",
              "      display: none;\n",
              "      fill: #1967D2;\n",
              "      height: 32px;\n",
              "      padding: 0 0 0 0;\n",
              "      width: 32px;\n",
              "    }\n",
              "\n",
              "    .colab-df-convert:hover {\n",
              "      background-color: #E2EBFA;\n",
              "      box-shadow: 0px 1px 2px rgba(60, 64, 67, 0.3), 0px 1px 3px 1px rgba(60, 64, 67, 0.15);\n",
              "      fill: #174EA6;\n",
              "    }\n",
              "\n",
              "    .colab-df-buttons div {\n",
              "      margin-bottom: 4px;\n",
              "    }\n",
              "\n",
              "    [theme=dark] .colab-df-convert {\n",
              "      background-color: #3B4455;\n",
              "      fill: #D2E3FC;\n",
              "    }\n",
              "\n",
              "    [theme=dark] .colab-df-convert:hover {\n",
              "      background-color: #434B5C;\n",
              "      box-shadow: 0px 1px 3px 1px rgba(0, 0, 0, 0.15);\n",
              "      filter: drop-shadow(0px 1px 2px rgba(0, 0, 0, 0.3));\n",
              "      fill: #FFFFFF;\n",
              "    }\n",
              "  </style>\n",
              "\n",
              "    <script>\n",
              "      const buttonEl =\n",
              "        document.querySelector('#df-128b05b3-24ea-43e8-b90e-a24ab993ee17 button.colab-df-convert');\n",
              "      buttonEl.style.display =\n",
              "        google.colab.kernel.accessAllowed ? 'block' : 'none';\n",
              "\n",
              "      async function convertToInteractive(key) {\n",
              "        const element = document.querySelector('#df-128b05b3-24ea-43e8-b90e-a24ab993ee17');\n",
              "        const dataTable =\n",
              "          await google.colab.kernel.invokeFunction('convertToInteractive',\n",
              "                                                    [key], {});\n",
              "        if (!dataTable) return;\n",
              "\n",
              "        const docLinkHtml = 'Like what you see? Visit the ' +\n",
              "          '<a target=\"_blank\" href=https://colab.research.google.com/notebooks/data_table.ipynb>data table notebook</a>'\n",
              "          + ' to learn more about interactive tables.';\n",
              "        element.innerHTML = '';\n",
              "        dataTable['output_type'] = 'display_data';\n",
              "        await google.colab.output.renderOutput(dataTable, element);\n",
              "        const docLink = document.createElement('div');\n",
              "        docLink.innerHTML = docLinkHtml;\n",
              "        element.appendChild(docLink);\n",
              "      }\n",
              "    </script>\n",
              "  </div>\n",
              "\n",
              "\n",
              "<div id=\"df-964c4770-04e2-4ff2-aed5-8fb9f0d87f9a\">\n",
              "  <button class=\"colab-df-quickchart\" onclick=\"quickchart('df-964c4770-04e2-4ff2-aed5-8fb9f0d87f9a')\"\n",
              "            title=\"Suggest charts\"\n",
              "            style=\"display:none;\">\n",
              "\n",
              "<svg xmlns=\"http://www.w3.org/2000/svg\" height=\"24px\"viewBox=\"0 0 24 24\"\n",
              "     width=\"24px\">\n",
              "    <g>\n",
              "        <path d=\"M19 3H5c-1.1 0-2 .9-2 2v14c0 1.1.9 2 2 2h14c1.1 0 2-.9 2-2V5c0-1.1-.9-2-2-2zM9 17H7v-7h2v7zm4 0h-2V7h2v10zm4 0h-2v-4h2v4z\"/>\n",
              "    </g>\n",
              "</svg>\n",
              "  </button>\n",
              "\n",
              "<style>\n",
              "  .colab-df-quickchart {\n",
              "      --bg-color: #E8F0FE;\n",
              "      --fill-color: #1967D2;\n",
              "      --hover-bg-color: #E2EBFA;\n",
              "      --hover-fill-color: #174EA6;\n",
              "      --disabled-fill-color: #AAA;\n",
              "      --disabled-bg-color: #DDD;\n",
              "  }\n",
              "\n",
              "  [theme=dark] .colab-df-quickchart {\n",
              "      --bg-color: #3B4455;\n",
              "      --fill-color: #D2E3FC;\n",
              "      --hover-bg-color: #434B5C;\n",
              "      --hover-fill-color: #FFFFFF;\n",
              "      --disabled-bg-color: #3B4455;\n",
              "      --disabled-fill-color: #666;\n",
              "  }\n",
              "\n",
              "  .colab-df-quickchart {\n",
              "    background-color: var(--bg-color);\n",
              "    border: none;\n",
              "    border-radius: 50%;\n",
              "    cursor: pointer;\n",
              "    display: none;\n",
              "    fill: var(--fill-color);\n",
              "    height: 32px;\n",
              "    padding: 0;\n",
              "    width: 32px;\n",
              "  }\n",
              "\n",
              "  .colab-df-quickchart:hover {\n",
              "    background-color: var(--hover-bg-color);\n",
              "    box-shadow: 0 1px 2px rgba(60, 64, 67, 0.3), 0 1px 3px 1px rgba(60, 64, 67, 0.15);\n",
              "    fill: var(--button-hover-fill-color);\n",
              "  }\n",
              "\n",
              "  .colab-df-quickchart-complete:disabled,\n",
              "  .colab-df-quickchart-complete:disabled:hover {\n",
              "    background-color: var(--disabled-bg-color);\n",
              "    fill: var(--disabled-fill-color);\n",
              "    box-shadow: none;\n",
              "  }\n",
              "\n",
              "  .colab-df-spinner {\n",
              "    border: 2px solid var(--fill-color);\n",
              "    border-color: transparent;\n",
              "    border-bottom-color: var(--fill-color);\n",
              "    animation:\n",
              "      spin 1s steps(1) infinite;\n",
              "  }\n",
              "\n",
              "  @keyframes spin {\n",
              "    0% {\n",
              "      border-color: transparent;\n",
              "      border-bottom-color: var(--fill-color);\n",
              "      border-left-color: var(--fill-color);\n",
              "    }\n",
              "    20% {\n",
              "      border-color: transparent;\n",
              "      border-left-color: var(--fill-color);\n",
              "      border-top-color: var(--fill-color);\n",
              "    }\n",
              "    30% {\n",
              "      border-color: transparent;\n",
              "      border-left-color: var(--fill-color);\n",
              "      border-top-color: var(--fill-color);\n",
              "      border-right-color: var(--fill-color);\n",
              "    }\n",
              "    40% {\n",
              "      border-color: transparent;\n",
              "      border-right-color: var(--fill-color);\n",
              "      border-top-color: var(--fill-color);\n",
              "    }\n",
              "    60% {\n",
              "      border-color: transparent;\n",
              "      border-right-color: var(--fill-color);\n",
              "    }\n",
              "    80% {\n",
              "      border-color: transparent;\n",
              "      border-right-color: var(--fill-color);\n",
              "      border-bottom-color: var(--fill-color);\n",
              "    }\n",
              "    90% {\n",
              "      border-color: transparent;\n",
              "      border-bottom-color: var(--fill-color);\n",
              "    }\n",
              "  }\n",
              "</style>\n",
              "\n",
              "  <script>\n",
              "    async function quickchart(key) {\n",
              "      const quickchartButtonEl =\n",
              "        document.querySelector('#' + key + ' button');\n",
              "      quickchartButtonEl.disabled = true;  // To prevent multiple clicks.\n",
              "      quickchartButtonEl.classList.add('colab-df-spinner');\n",
              "      try {\n",
              "        const charts = await google.colab.kernel.invokeFunction(\n",
              "            'suggestCharts', [key], {});\n",
              "      } catch (error) {\n",
              "        console.error('Error during call to suggestCharts:', error);\n",
              "      }\n",
              "      quickchartButtonEl.classList.remove('colab-df-spinner');\n",
              "      quickchartButtonEl.classList.add('colab-df-quickchart-complete');\n",
              "    }\n",
              "    (() => {\n",
              "      let quickchartButtonEl =\n",
              "        document.querySelector('#df-964c4770-04e2-4ff2-aed5-8fb9f0d87f9a button');\n",
              "      quickchartButtonEl.style.display =\n",
              "        google.colab.kernel.accessAllowed ? 'block' : 'none';\n",
              "    })();\n",
              "  </script>\n",
              "</div>\n",
              "\n",
              "    </div>\n",
              "  </div>\n"
            ],
            "application/vnd.google.colaboratory.intrinsic+json": {
              "type": "dataframe",
              "summary": "{\n  \"name\": \"preview(feature_matrix, 5)\",\n  \"rows\": 5,\n  \"fields\": [\n    {\n      \"column\": \"id\",\n      \"properties\": {\n        \"dtype\": \"number\",\n        \"std\": 1,\n        \"min\": 514030,\n        \"max\": 514034,\n        \"num_unique_values\": 5,\n        \"samples\": [\n          514031,\n          514034,\n          514032\n        ],\n        \"semantic_type\": \"\",\n        \"description\": \"\"\n      }\n    },\n    {\n      \"column\": \"IS_WEEKEND(dropoff_datetime)\",\n      \"properties\": {\n        \"dtype\": \"boolean\",\n        \"num_unique_values\": 1,\n        \"samples\": [\n          true\n        ],\n        \"semantic_type\": \"\",\n        \"description\": \"\"\n      }\n    },\n    {\n      \"column\": \"payment_type\",\n      \"properties\": {\n        \"dtype\": \"number\",\n        \"std\": 0,\n        \"min\": 1,\n        \"max\": 2,\n        \"num_unique_values\": 2,\n        \"samples\": [\n          2\n        ],\n        \"semantic_type\": \"\",\n        \"description\": \"\"\n      }\n    },\n    {\n      \"column\": \"dropoff_neighborhoods.latitude\",\n      \"properties\": {\n        \"dtype\": \"number\",\n        \"std\": 0.030661183325506648,\n        \"min\": 40.7202450246,\n        \"max\": 40.7935967707,\n        \"num_unique_values\": 5,\n        \"samples\": [\n          40.7935967707\n        ],\n        \"semantic_type\": \"\",\n        \"description\": \"\"\n      }\n    },\n    {\n      \"column\": \"passenger_count\",\n      \"properties\": {\n        \"dtype\": \"number\",\n        \"std\": 0,\n        \"min\": 1,\n        \"max\": 2,\n        \"num_unique_values\": 2,\n        \"samples\": [\n          2\n        ],\n        \"semantic_type\": \"\",\n        \"description\": \"\"\n      }\n    },\n    {\n      \"column\": \"trip_distance\",\n      \"properties\": {\n        \"dtype\": \"number\",\n        \"std\": 7.840170916504308,\n        \"min\": 0.02,\n        \"max\": 19.0,\n        \"num_unique_values\": 5,\n        \"samples\": [\n          7.9\n        ],\n        \"semantic_type\": \"\",\n        \"description\": \"\"\n      }\n    },\n    {\n      \"column\": \"dropoff_neighborhoods.longitude\",\n      \"properties\": {\n        \"dtype\": \"number\",\n        \"std\": 0.018240240970304328,\n        \"min\": -74.0051067234,\n        \"max\": -73.9568862642,\n        \"num_unique_values\": 5,\n        \"samples\": [\n          -73.9698224285\n        ],\n        \"semantic_type\": \"\",\n        \"description\": \"\"\n      }\n    },\n    {\n      \"column\": \"vendor_id\",\n      \"properties\": {\n        \"dtype\": \"number\",\n        \"std\": 0,\n        \"min\": 1,\n        \"max\": 2,\n        \"num_unique_values\": 2,\n        \"samples\": [\n          1\n        ],\n        \"semantic_type\": \"\",\n        \"description\": \"\"\n      }\n    },\n    {\n      \"column\": \"IS_WEEKEND(pickup_datetime)\",\n      \"properties\": {\n        \"dtype\": \"boolean\",\n        \"num_unique_values\": 1,\n        \"samples\": [\n          true\n        ],\n        \"semantic_type\": \"\",\n        \"description\": \"\"\n      }\n    },\n    {\n      \"column\": \"pickup_neighborhoods.longitude\",\n      \"properties\": {\n        \"dtype\": \"number\",\n        \"std\": 0.08845634469529726,\n        \"min\": -73.9915951756,\n        \"max\": -73.7850725678,\n        \"num_unique_values\": 5,\n        \"samples\": [\n          -73.9191588636\n        ],\n        \"semantic_type\": \"\",\n        \"description\": \"\"\n      }\n    },\n    {\n      \"column\": \"pickup_neighborhoods.latitude\",\n      \"properties\": {\n        \"dtype\": \"number\",\n        \"std\": 0.043541552400487814,\n        \"min\": 40.6461938419,\n        \"max\": 40.7577070564,\n        \"num_unique_values\": 5,\n        \"samples\": [\n          40.7449280019\n        ],\n        \"semantic_type\": \"\",\n        \"description\": \"\"\n      }\n    }\n  ]\n}"
            }
          },
          "metadata": {},
          "execution_count": 14
        }
      ],
      "source": [
        "feature_matrix = compute_features(features, entities, relationships)\n",
        "preview(feature_matrix, 5)"
      ]
    },
    {
      "cell_type": "code",
      "execution_count": 15,
      "metadata": {
        "id": "hzR1NFAwRf6L",
        "colab": {
          "base_uri": "https://localhost:8080/"
        },
        "outputId": "5bad5618-57bd-415e-faae-5caa515ee11c"
      },
      "outputs": [
        {
          "output_type": "execute_result",
          "data": {
            "text/plain": [
              "Index(['IS_WEEKEND(dropoff_datetime)', 'payment_type',\n",
              "       'dropoff_neighborhoods.latitude', 'passenger_count', 'trip_distance',\n",
              "       'dropoff_neighborhoods.longitude', 'vendor_id',\n",
              "       'IS_WEEKEND(pickup_datetime)', 'pickup_neighborhoods.longitude',\n",
              "       'pickup_neighborhoods.latitude'],\n",
              "      dtype='object')"
            ]
          },
          "metadata": {},
          "execution_count": 15
        }
      ],
      "source": [
        "feature_matrix.columns"
      ]
    },
    {
      "cell_type": "markdown",
      "metadata": {
        "id": "qu-oiBMFkhyD"
      },
      "source": [
        "# Primer modelo"
      ]
    },
    {
      "cell_type": "code",
      "execution_count": 16,
      "metadata": {
        "id": "M5_1FTDmkhyD",
        "colab": {
          "base_uri": "https://localhost:8080/"
        },
        "outputId": "a82e3b9a-4f67-46b9-9c8f-ec42a7fc203c"
      },
      "outputs": [
        {
          "output_type": "stream",
          "name": "stdout",
          "text": [
            "Dados separados com sucesso!\n"
          ]
        }
      ],
      "source": [
        "# Separación de los datos de entrenamiento y prueba\n",
        "X_train, y_train, X_test, y_test = utils.get_train_test_fm(feature_matrix, trips, .75)\n",
        "y_train = np.log(y_train + 1)\n",
        "y_test = np.log(y_test + 1)\n",
        "\n",
        "print('Dados separados com sucesso!')"
      ]
    },
    {
      "cell_type": "code",
      "execution_count": 17,
      "metadata": {
        "id": "4dKGdrskkhyF",
        "colab": {
          "base_uri": "https://localhost:8080/"
        },
        "outputId": "f0fbd305-20b5-4b6b-bf82-49c0bf25baff"
      },
      "outputs": [
        {
          "output_type": "stream",
          "name": "stdout",
          "text": [
            "      Iter       Train Loss   Remaining Time \n",
            "         1           0.4736            0.92s\n",
            "         2           0.4148            0.84s\n",
            "         3           0.3661            0.80s\n",
            "         4           0.3266            0.77s\n",
            "         5           0.2934            0.75s\n",
            "         6           0.2665            0.74s\n",
            "         7           0.2441            0.73s\n",
            "         8           0.2257            0.72s\n",
            "         9           0.2103            0.70s\n",
            "        10           0.1973            0.69s\n",
            "        20           0.1435            0.59s\n",
            "        30           0.1315            0.51s\n",
            "        40           0.1262            0.43s\n",
            "        50           0.1231            0.36s\n",
            "        60           0.1209            0.28s\n",
            "        70           0.1188            0.21s\n",
            "        80           0.1167            0.14s\n",
            "        90           0.1154            0.07s\n",
            "       100           0.1139            0.00s\n",
            "0.7562183415378823\n",
            "Fase de entrenamiento realizada con éxito!\n"
          ]
        }
      ],
      "source": [
        "# El entrenamiento debería durar alrededor de un minuto\n",
        "model = GradientBoostingRegressor(verbose=True)\n",
        "model.fit(X_train, y_train)\n",
        "print(model.score(X_test, y_test)) # Valor R^2 de la predicción\n",
        "\n",
        "print('Fase de entrenamiento realizada con éxito!')"
      ]
    },
    {
      "cell_type": "markdown",
      "metadata": {
        "id": "J5kj5EaskhyH"
      },
      "source": [
        "**<h1 style=\"color:red;\">PREGUNTA 2: PRIMER MODELO</h1>**"
      ]
    },
    {
      "cell_type": "markdown",
      "metadata": {
        "id": "vMxOoWEPkhyH"
      },
      "source": [
        "Describa todos los atributos que hemos añadido al modelo. ¿Cree que han mejorado el desempeño respecto al modelo que no contaba con ellos? ¿Por qué?"
      ]
    },
    {
      "cell_type": "markdown",
      "metadata": {
        "id": "hQ0Gaa8gWyd1"
      },
      "source": [
        "Los atributos que se han añadido al modelo según la descripción proporcionada son:\n",
        "\n",
        "1. **vendor_id**: Identificador del proveedor del servicio de taxi, lo cual podría influir en la duración del viaje en función de la eficiencia operativa del proveedor.\n",
        "\n",
        "2. **passenger_count**: Número de pasajeros en el viaje, que puede relacionarse con la duración del trayecto si es que las paradas para recoger o dejar pasajeros adicionales están involucradas.\n",
        "\n",
        "3. **trip_distance**: La distancia del trayecto que directamente impactará en la duración del viaje.\n",
        "\n",
        "4. **payment_type**: Método de pago, que podría correlacionarse indirectamente con la duración del trayecto si es que ciertos tipos de pago están asociados con diferentes tipos de viajes o si el procesamiento del pago tiene algún efecto.\n",
        "\n",
        "5. **IS_WEEKEND(dropoff_datetime)**: Un atributo booleano que indica si el viaje terminó en fin de semana, lo cual podría influir en la duración del trayecto debido a patrones de tráfico diferentes.\n",
        "\n",
        "6. **IS_WEEKEND(pickup_datetime)**: Similar al anterior pero para el inicio del viaje, proporcionando contexto sobre el tráfico y posibles retrasos.\n",
        "\n",
        "7. **pickup_neighborhoods.latitude** y **pickup_neighborhoods.longitude**: Coordenadas geográficas de donde el viaje comenzó, que podrían ser útiles para detectar zonas de partida que implican viajes más largos.\n",
        "\n",
        "8. **dropoff_neighborhoods.latitude** y **dropoff_neighborhoods.longitude**: Coordenadas geográficas de donde el viaje terminó, útiles para el mismo análisis pero en el destino.\n",
        "\n",
        "Estos atributos añaden una dimensión adicional al modelo y son muy pertinentes para predecir la duración de los trayectos, ya que incluyen información sobre quién proporciona el servicio, quiénes lo usan, cómo y cuándo se realiza el viaje, y dónde comienza y termina.\n",
        "\n",
        "Respecto a si estos atributos han mejorado el desempeño del modelo en comparación con uno que no los incluía, podemos inferir, aunque no de forma definitiva sin una comparación directa, que sí lo han hecho. La incorporación de atributos relevantes que tienen una relación lógica con el objetivo de predicción (en este caso, la duración del trayecto) generalmente conduce a una mejora en la capacidad del modelo para capturar la varianza en los datos y, por lo tanto, mejorar su precisión y eficacia.\n",
        "\n",
        "La última parte del texto menciona un entrenamiento del modelo que parece haberse ejecutado con éxito, y el valor proporcionado (0.7562183415378823) podría sugerir una métrica de rendimiento del modelo, como R^2 o precisión, que parece ser razonablemente alta. Esto apoya la idea de que los atributos añadidos son efectivos para mejorar el desempeño del modelo, asumiendo que esta métrica es superior a una obtenida de un modelo sin estos atributos. Sin embargo, para afirmar categóricamente que ha habido una mejora, sería necesario ver las métricas de rendimiento de ambos modelos (con y sin los nuevos atributos) y realizar una comparación directa."
      ]
    },
    {
      "cell_type": "code",
      "execution_count": 18,
      "metadata": {
        "id": "2D2DE5aUkhyI",
        "colab": {
          "base_uri": "https://localhost:8080/"
        },
        "outputId": "f6ecf711-e79c-42ba-da9d-a373b1f75892"
      },
      "outputs": [
        {
          "output_type": "stream",
          "name": "stdout",
          "text": [
            "Primitivas de tranformación definidas con éxito!\n"
          ]
        },
        {
          "output_type": "stream",
          "name": "stderr",
          "text": [
            "/usr/local/lib/python3.10/dist-packages/featuretools/entityset/entityset.py:754: UserWarning: A Woodwork-initialized DataFrame was provided, so the following parameters were ignored: index, time_index\n",
            "  warnings.warn(\n",
            "/usr/local/lib/python3.10/dist-packages/featuretools/entityset/entityset.py:754: UserWarning: A Woodwork-initialized DataFrame was provided, so the following parameters were ignored: index\n",
            "  warnings.warn(\n"
          ]
        }
      ],
      "source": [
        "# ==============================================\n",
        "# Listado de las primitivas creadas en este paso\n",
        "trans_primitives = [Minute, Hour, Day, Week, Month, Weekday, IsWeekend]\n",
        "# ==============================================\n",
        "\n",
        "features = ft.dfs(dataframes=entities,\n",
        "                  relationships=relationships,\n",
        "                  target_dataframe_name=\"trips\",\n",
        "                  trans_primitives=trans_primitives,\n",
        "                  agg_primitives=[],\n",
        "                  ignore_columns={\"trips\": [\"pickup_latitude\", \"pickup_longitude\",\n",
        "                                              \"dropoff_latitude\", \"dropoff_longitude\", \"trip_duration\"]},\n",
        "                  features_only=True)\n",
        "\n",
        "print('Primitivas de tranformación definidas con éxito!')"
      ]
    },
    {
      "cell_type": "code",
      "execution_count": 19,
      "metadata": {
        "id": "EZwHaz5kkhyK",
        "colab": {
          "base_uri": "https://localhost:8080/"
        },
        "outputId": "101e9189-2b54-4dd9-86a2-be3f22fc2a61"
      },
      "outputs": [
        {
          "output_type": "stream",
          "name": "stdout",
          "text": [
            "Número de atributos: 22\n"
          ]
        },
        {
          "output_type": "execute_result",
          "data": {
            "text/plain": [
              "[<Feature: vendor_id>,\n",
              " <Feature: passenger_count>,\n",
              " <Feature: trip_distance>,\n",
              " <Feature: payment_type>,\n",
              " <Feature: DAY(dropoff_datetime)>,\n",
              " <Feature: DAY(pickup_datetime)>,\n",
              " <Feature: HOUR(dropoff_datetime)>,\n",
              " <Feature: HOUR(pickup_datetime)>,\n",
              " <Feature: IS_WEEKEND(dropoff_datetime)>,\n",
              " <Feature: IS_WEEKEND(pickup_datetime)>,\n",
              " <Feature: MINUTE(dropoff_datetime)>,\n",
              " <Feature: MINUTE(pickup_datetime)>,\n",
              " <Feature: MONTH(dropoff_datetime)>,\n",
              " <Feature: MONTH(pickup_datetime)>,\n",
              " <Feature: WEEK(dropoff_datetime)>,\n",
              " <Feature: WEEK(pickup_datetime)>,\n",
              " <Feature: WEEKDAY(dropoff_datetime)>,\n",
              " <Feature: WEEKDAY(pickup_datetime)>,\n",
              " <Feature: pickup_neighborhoods.latitude>,\n",
              " <Feature: pickup_neighborhoods.longitude>,\n",
              " <Feature: dropoff_neighborhoods.latitude>,\n",
              " <Feature: dropoff_neighborhoods.longitude>]"
            ]
          },
          "metadata": {},
          "execution_count": 19
        }
      ],
      "source": [
        "print(f\"Número de atributos: {len(features)}\")\n",
        "features"
      ]
    },
    {
      "cell_type": "code",
      "execution_count": 21,
      "metadata": {
        "id": "Z5bRM1BqkhyM",
        "colab": {
          "base_uri": "https://localhost:8080/",
          "height": 426
        },
        "outputId": "c8fd0c0f-4b09-473b-c98d-7ac8f0225683"
      },
      "outputs": [
        {
          "output_type": "stream",
          "name": "stderr",
          "text": [
            "/usr/local/lib/python3.10/dist-packages/featuretools/entityset/entityset.py:754: UserWarning: A Woodwork-initialized DataFrame was provided, so the following parameters were ignored: index, time_index\n",
            "  warnings.warn(\n",
            "/usr/local/lib/python3.10/dist-packages/featuretools/entityset/entityset.py:754: UserWarning: A Woodwork-initialized DataFrame was provided, so the following parameters were ignored: index\n",
            "  warnings.warn(\n",
            "/usr/local/lib/python3.10/dist-packages/featuretools/computational_backends/calculate_feature_matrix.py:239: UserWarning: Using approximate with a single cutoff_time value or no cutoff_time provides no computational efficiency benefit\n",
            "  warnings.warn(msg)\n"
          ]
        },
        {
          "output_type": "stream",
          "name": "stdout",
          "text": [
            "Elapsed: 00:00 | Progress: 100%|██████████\n",
            "Finishing computing...\n"
          ]
        },
        {
          "output_type": "execute_result",
          "data": {
            "text/plain": [
              "       MONTH(dropoff_datetime) WEEK(dropoff_datetime)  vendor_id  \\\n",
              "id                                                                 \n",
              "514030                       4                     13          2   \n",
              "514031                       4                     13          1   \n",
              "514032                       4                     13          1   \n",
              "514033                       4                     13          2   \n",
              "514034                       4                     13          1   \n",
              "\n",
              "       WEEKDAY(pickup_datetime)  trip_distance WEEK(pickup_datetime)  \\\n",
              "id                                                                     \n",
              "514030                        5           2.46                    13   \n",
              "514031                        5           7.90                    13   \n",
              "514032                        5           1.00                    13   \n",
              "514033                        5           0.02                    13   \n",
              "514034                        5          19.00                    13   \n",
              "\n",
              "       DAY(dropoff_datetime) DAY(pickup_datetime)  \\\n",
              "id                                                  \n",
              "514030                     2                    2   \n",
              "514031                     2                    2   \n",
              "514032                     2                    2   \n",
              "514033                     2                    2   \n",
              "514034                     2                    2   \n",
              "\n",
              "        dropoff_neighborhoods.longitude HOUR(dropoff_datetime)  ...  \\\n",
              "id                                                              ...   \n",
              "514030                       -73.956886                      0  ...   \n",
              "514031                       -73.969822                      0  ...   \n",
              "514032                       -74.005107                      0  ...   \n",
              "514033                       -73.987205                      0  ...   \n",
              "514034                       -73.976050                      0  ...   \n",
              "\n",
              "        dropoff_neighborhoods.latitude  WEEKDAY(dropoff_datetime)  \\\n",
              "id                                                                  \n",
              "514030                       40.766809                          5   \n",
              "514031                       40.793597                          5   \n",
              "514032                       40.740333                          5   \n",
              "514033                       40.720245                          5   \n",
              "514034                       40.785005                          5   \n",
              "\n",
              "        MINUTE(dropoff_datetime) MONTH(pickup_datetime)  \\\n",
              "id                                                        \n",
              "514030                        17                      4   \n",
              "514031                        24                      4   \n",
              "514032                        19                      4   \n",
              "514033                         1                      4   \n",
              "514034                        58                      4   \n",
              "\n",
              "       pickup_neighborhoods.latitude passenger_count  MINUTE(pickup_datetime)  \\\n",
              "id                                                                              \n",
              "514030                     40.757707               1                        0   \n",
              "514031                     40.744928               2                        0   \n",
              "514032                     40.729652               1                        0   \n",
              "514033                     40.720245               1                        0   \n",
              "514034                     40.646194               2                        1   \n",
              "\n",
              "        pickup_neighborhoods.longitude HOUR(pickup_datetime)  \\\n",
              "id                                                             \n",
              "514030                      -73.986446                     0   \n",
              "514031                      -73.919159                     0   \n",
              "514032                      -73.991595                     0   \n",
              "514033                      -73.987205                     0   \n",
              "514034                      -73.785073                     0   \n",
              "\n",
              "        IS_WEEKEND(dropoff_datetime)  \n",
              "id                                    \n",
              "514030                          True  \n",
              "514031                          True  \n",
              "514032                          True  \n",
              "514033                          True  \n",
              "514034                          True  \n",
              "\n",
              "[5 rows x 22 columns]"
            ],
            "text/html": [
              "\n",
              "  <div id=\"df-5badc027-99c0-494f-a09d-2fd1ebbc9bda\" class=\"colab-df-container\">\n",
              "    <div>\n",
              "<style scoped>\n",
              "    .dataframe tbody tr th:only-of-type {\n",
              "        vertical-align: middle;\n",
              "    }\n",
              "\n",
              "    .dataframe tbody tr th {\n",
              "        vertical-align: top;\n",
              "    }\n",
              "\n",
              "    .dataframe thead th {\n",
              "        text-align: right;\n",
              "    }\n",
              "</style>\n",
              "<table border=\"1\" class=\"dataframe\">\n",
              "  <thead>\n",
              "    <tr style=\"text-align: right;\">\n",
              "      <th></th>\n",
              "      <th>MONTH(dropoff_datetime)</th>\n",
              "      <th>WEEK(dropoff_datetime)</th>\n",
              "      <th>vendor_id</th>\n",
              "      <th>WEEKDAY(pickup_datetime)</th>\n",
              "      <th>trip_distance</th>\n",
              "      <th>WEEK(pickup_datetime)</th>\n",
              "      <th>DAY(dropoff_datetime)</th>\n",
              "      <th>DAY(pickup_datetime)</th>\n",
              "      <th>dropoff_neighborhoods.longitude</th>\n",
              "      <th>HOUR(dropoff_datetime)</th>\n",
              "      <th>...</th>\n",
              "      <th>dropoff_neighborhoods.latitude</th>\n",
              "      <th>WEEKDAY(dropoff_datetime)</th>\n",
              "      <th>MINUTE(dropoff_datetime)</th>\n",
              "      <th>MONTH(pickup_datetime)</th>\n",
              "      <th>pickup_neighborhoods.latitude</th>\n",
              "      <th>passenger_count</th>\n",
              "      <th>MINUTE(pickup_datetime)</th>\n",
              "      <th>pickup_neighborhoods.longitude</th>\n",
              "      <th>HOUR(pickup_datetime)</th>\n",
              "      <th>IS_WEEKEND(dropoff_datetime)</th>\n",
              "    </tr>\n",
              "    <tr>\n",
              "      <th>id</th>\n",
              "      <th></th>\n",
              "      <th></th>\n",
              "      <th></th>\n",
              "      <th></th>\n",
              "      <th></th>\n",
              "      <th></th>\n",
              "      <th></th>\n",
              "      <th></th>\n",
              "      <th></th>\n",
              "      <th></th>\n",
              "      <th></th>\n",
              "      <th></th>\n",
              "      <th></th>\n",
              "      <th></th>\n",
              "      <th></th>\n",
              "      <th></th>\n",
              "      <th></th>\n",
              "      <th></th>\n",
              "      <th></th>\n",
              "      <th></th>\n",
              "      <th></th>\n",
              "    </tr>\n",
              "  </thead>\n",
              "  <tbody>\n",
              "    <tr>\n",
              "      <th>514030</th>\n",
              "      <td>4</td>\n",
              "      <td>13</td>\n",
              "      <td>2</td>\n",
              "      <td>5</td>\n",
              "      <td>2.46</td>\n",
              "      <td>13</td>\n",
              "      <td>2</td>\n",
              "      <td>2</td>\n",
              "      <td>-73.956886</td>\n",
              "      <td>0</td>\n",
              "      <td>...</td>\n",
              "      <td>40.766809</td>\n",
              "      <td>5</td>\n",
              "      <td>17</td>\n",
              "      <td>4</td>\n",
              "      <td>40.757707</td>\n",
              "      <td>1</td>\n",
              "      <td>0</td>\n",
              "      <td>-73.986446</td>\n",
              "      <td>0</td>\n",
              "      <td>True</td>\n",
              "    </tr>\n",
              "    <tr>\n",
              "      <th>514031</th>\n",
              "      <td>4</td>\n",
              "      <td>13</td>\n",
              "      <td>1</td>\n",
              "      <td>5</td>\n",
              "      <td>7.90</td>\n",
              "      <td>13</td>\n",
              "      <td>2</td>\n",
              "      <td>2</td>\n",
              "      <td>-73.969822</td>\n",
              "      <td>0</td>\n",
              "      <td>...</td>\n",
              "      <td>40.793597</td>\n",
              "      <td>5</td>\n",
              "      <td>24</td>\n",
              "      <td>4</td>\n",
              "      <td>40.744928</td>\n",
              "      <td>2</td>\n",
              "      <td>0</td>\n",
              "      <td>-73.919159</td>\n",
              "      <td>0</td>\n",
              "      <td>True</td>\n",
              "    </tr>\n",
              "    <tr>\n",
              "      <th>514032</th>\n",
              "      <td>4</td>\n",
              "      <td>13</td>\n",
              "      <td>1</td>\n",
              "      <td>5</td>\n",
              "      <td>1.00</td>\n",
              "      <td>13</td>\n",
              "      <td>2</td>\n",
              "      <td>2</td>\n",
              "      <td>-74.005107</td>\n",
              "      <td>0</td>\n",
              "      <td>...</td>\n",
              "      <td>40.740333</td>\n",
              "      <td>5</td>\n",
              "      <td>19</td>\n",
              "      <td>4</td>\n",
              "      <td>40.729652</td>\n",
              "      <td>1</td>\n",
              "      <td>0</td>\n",
              "      <td>-73.991595</td>\n",
              "      <td>0</td>\n",
              "      <td>True</td>\n",
              "    </tr>\n",
              "    <tr>\n",
              "      <th>514033</th>\n",
              "      <td>4</td>\n",
              "      <td>13</td>\n",
              "      <td>2</td>\n",
              "      <td>5</td>\n",
              "      <td>0.02</td>\n",
              "      <td>13</td>\n",
              "      <td>2</td>\n",
              "      <td>2</td>\n",
              "      <td>-73.987205</td>\n",
              "      <td>0</td>\n",
              "      <td>...</td>\n",
              "      <td>40.720245</td>\n",
              "      <td>5</td>\n",
              "      <td>1</td>\n",
              "      <td>4</td>\n",
              "      <td>40.720245</td>\n",
              "      <td>1</td>\n",
              "      <td>0</td>\n",
              "      <td>-73.987205</td>\n",
              "      <td>0</td>\n",
              "      <td>True</td>\n",
              "    </tr>\n",
              "    <tr>\n",
              "      <th>514034</th>\n",
              "      <td>4</td>\n",
              "      <td>13</td>\n",
              "      <td>1</td>\n",
              "      <td>5</td>\n",
              "      <td>19.00</td>\n",
              "      <td>13</td>\n",
              "      <td>2</td>\n",
              "      <td>2</td>\n",
              "      <td>-73.976050</td>\n",
              "      <td>0</td>\n",
              "      <td>...</td>\n",
              "      <td>40.785005</td>\n",
              "      <td>5</td>\n",
              "      <td>58</td>\n",
              "      <td>4</td>\n",
              "      <td>40.646194</td>\n",
              "      <td>2</td>\n",
              "      <td>1</td>\n",
              "      <td>-73.785073</td>\n",
              "      <td>0</td>\n",
              "      <td>True</td>\n",
              "    </tr>\n",
              "  </tbody>\n",
              "</table>\n",
              "<p>5 rows × 22 columns</p>\n",
              "</div>\n",
              "    <div class=\"colab-df-buttons\">\n",
              "\n",
              "  <div class=\"colab-df-container\">\n",
              "    <button class=\"colab-df-convert\" onclick=\"convertToInteractive('df-5badc027-99c0-494f-a09d-2fd1ebbc9bda')\"\n",
              "            title=\"Convert this dataframe to an interactive table.\"\n",
              "            style=\"display:none;\">\n",
              "\n",
              "  <svg xmlns=\"http://www.w3.org/2000/svg\" height=\"24px\" viewBox=\"0 -960 960 960\">\n",
              "    <path d=\"M120-120v-720h720v720H120Zm60-500h600v-160H180v160Zm220 220h160v-160H400v160Zm0 220h160v-160H400v160ZM180-400h160v-160H180v160Zm440 0h160v-160H620v160ZM180-180h160v-160H180v160Zm440 0h160v-160H620v160Z\"/>\n",
              "  </svg>\n",
              "    </button>\n",
              "\n",
              "  <style>\n",
              "    .colab-df-container {\n",
              "      display:flex;\n",
              "      gap: 12px;\n",
              "    }\n",
              "\n",
              "    .colab-df-convert {\n",
              "      background-color: #E8F0FE;\n",
              "      border: none;\n",
              "      border-radius: 50%;\n",
              "      cursor: pointer;\n",
              "      display: none;\n",
              "      fill: #1967D2;\n",
              "      height: 32px;\n",
              "      padding: 0 0 0 0;\n",
              "      width: 32px;\n",
              "    }\n",
              "\n",
              "    .colab-df-convert:hover {\n",
              "      background-color: #E2EBFA;\n",
              "      box-shadow: 0px 1px 2px rgba(60, 64, 67, 0.3), 0px 1px 3px 1px rgba(60, 64, 67, 0.15);\n",
              "      fill: #174EA6;\n",
              "    }\n",
              "\n",
              "    .colab-df-buttons div {\n",
              "      margin-bottom: 4px;\n",
              "    }\n",
              "\n",
              "    [theme=dark] .colab-df-convert {\n",
              "      background-color: #3B4455;\n",
              "      fill: #D2E3FC;\n",
              "    }\n",
              "\n",
              "    [theme=dark] .colab-df-convert:hover {\n",
              "      background-color: #434B5C;\n",
              "      box-shadow: 0px 1px 3px 1px rgba(0, 0, 0, 0.15);\n",
              "      filter: drop-shadow(0px 1px 2px rgba(0, 0, 0, 0.3));\n",
              "      fill: #FFFFFF;\n",
              "    }\n",
              "  </style>\n",
              "\n",
              "    <script>\n",
              "      const buttonEl =\n",
              "        document.querySelector('#df-5badc027-99c0-494f-a09d-2fd1ebbc9bda button.colab-df-convert');\n",
              "      buttonEl.style.display =\n",
              "        google.colab.kernel.accessAllowed ? 'block' : 'none';\n",
              "\n",
              "      async function convertToInteractive(key) {\n",
              "        const element = document.querySelector('#df-5badc027-99c0-494f-a09d-2fd1ebbc9bda');\n",
              "        const dataTable =\n",
              "          await google.colab.kernel.invokeFunction('convertToInteractive',\n",
              "                                                    [key], {});\n",
              "        if (!dataTable) return;\n",
              "\n",
              "        const docLinkHtml = 'Like what you see? Visit the ' +\n",
              "          '<a target=\"_blank\" href=https://colab.research.google.com/notebooks/data_table.ipynb>data table notebook</a>'\n",
              "          + ' to learn more about interactive tables.';\n",
              "        element.innerHTML = '';\n",
              "        dataTable['output_type'] = 'display_data';\n",
              "        await google.colab.output.renderOutput(dataTable, element);\n",
              "        const docLink = document.createElement('div');\n",
              "        docLink.innerHTML = docLinkHtml;\n",
              "        element.appendChild(docLink);\n",
              "      }\n",
              "    </script>\n",
              "  </div>\n",
              "\n",
              "\n",
              "<div id=\"df-42baeae2-97bc-430f-80ba-2158651f78ad\">\n",
              "  <button class=\"colab-df-quickchart\" onclick=\"quickchart('df-42baeae2-97bc-430f-80ba-2158651f78ad')\"\n",
              "            title=\"Suggest charts\"\n",
              "            style=\"display:none;\">\n",
              "\n",
              "<svg xmlns=\"http://www.w3.org/2000/svg\" height=\"24px\"viewBox=\"0 0 24 24\"\n",
              "     width=\"24px\">\n",
              "    <g>\n",
              "        <path d=\"M19 3H5c-1.1 0-2 .9-2 2v14c0 1.1.9 2 2 2h14c1.1 0 2-.9 2-2V5c0-1.1-.9-2-2-2zM9 17H7v-7h2v7zm4 0h-2V7h2v10zm4 0h-2v-4h2v4z\"/>\n",
              "    </g>\n",
              "</svg>\n",
              "  </button>\n",
              "\n",
              "<style>\n",
              "  .colab-df-quickchart {\n",
              "      --bg-color: #E8F0FE;\n",
              "      --fill-color: #1967D2;\n",
              "      --hover-bg-color: #E2EBFA;\n",
              "      --hover-fill-color: #174EA6;\n",
              "      --disabled-fill-color: #AAA;\n",
              "      --disabled-bg-color: #DDD;\n",
              "  }\n",
              "\n",
              "  [theme=dark] .colab-df-quickchart {\n",
              "      --bg-color: #3B4455;\n",
              "      --fill-color: #D2E3FC;\n",
              "      --hover-bg-color: #434B5C;\n",
              "      --hover-fill-color: #FFFFFF;\n",
              "      --disabled-bg-color: #3B4455;\n",
              "      --disabled-fill-color: #666;\n",
              "  }\n",
              "\n",
              "  .colab-df-quickchart {\n",
              "    background-color: var(--bg-color);\n",
              "    border: none;\n",
              "    border-radius: 50%;\n",
              "    cursor: pointer;\n",
              "    display: none;\n",
              "    fill: var(--fill-color);\n",
              "    height: 32px;\n",
              "    padding: 0;\n",
              "    width: 32px;\n",
              "  }\n",
              "\n",
              "  .colab-df-quickchart:hover {\n",
              "    background-color: var(--hover-bg-color);\n",
              "    box-shadow: 0 1px 2px rgba(60, 64, 67, 0.3), 0 1px 3px 1px rgba(60, 64, 67, 0.15);\n",
              "    fill: var(--button-hover-fill-color);\n",
              "  }\n",
              "\n",
              "  .colab-df-quickchart-complete:disabled,\n",
              "  .colab-df-quickchart-complete:disabled:hover {\n",
              "    background-color: var(--disabled-bg-color);\n",
              "    fill: var(--disabled-fill-color);\n",
              "    box-shadow: none;\n",
              "  }\n",
              "\n",
              "  .colab-df-spinner {\n",
              "    border: 2px solid var(--fill-color);\n",
              "    border-color: transparent;\n",
              "    border-bottom-color: var(--fill-color);\n",
              "    animation:\n",
              "      spin 1s steps(1) infinite;\n",
              "  }\n",
              "\n",
              "  @keyframes spin {\n",
              "    0% {\n",
              "      border-color: transparent;\n",
              "      border-bottom-color: var(--fill-color);\n",
              "      border-left-color: var(--fill-color);\n",
              "    }\n",
              "    20% {\n",
              "      border-color: transparent;\n",
              "      border-left-color: var(--fill-color);\n",
              "      border-top-color: var(--fill-color);\n",
              "    }\n",
              "    30% {\n",
              "      border-color: transparent;\n",
              "      border-left-color: var(--fill-color);\n",
              "      border-top-color: var(--fill-color);\n",
              "      border-right-color: var(--fill-color);\n",
              "    }\n",
              "    40% {\n",
              "      border-color: transparent;\n",
              "      border-right-color: var(--fill-color);\n",
              "      border-top-color: var(--fill-color);\n",
              "    }\n",
              "    60% {\n",
              "      border-color: transparent;\n",
              "      border-right-color: var(--fill-color);\n",
              "    }\n",
              "    80% {\n",
              "      border-color: transparent;\n",
              "      border-right-color: var(--fill-color);\n",
              "      border-bottom-color: var(--fill-color);\n",
              "    }\n",
              "    90% {\n",
              "      border-color: transparent;\n",
              "      border-bottom-color: var(--fill-color);\n",
              "    }\n",
              "  }\n",
              "</style>\n",
              "\n",
              "  <script>\n",
              "    async function quickchart(key) {\n",
              "      const quickchartButtonEl =\n",
              "        document.querySelector('#' + key + ' button');\n",
              "      quickchartButtonEl.disabled = true;  // To prevent multiple clicks.\n",
              "      quickchartButtonEl.classList.add('colab-df-spinner');\n",
              "      try {\n",
              "        const charts = await google.colab.kernel.invokeFunction(\n",
              "            'suggestCharts', [key], {});\n",
              "      } catch (error) {\n",
              "        console.error('Error during call to suggestCharts:', error);\n",
              "      }\n",
              "      quickchartButtonEl.classList.remove('colab-df-spinner');\n",
              "      quickchartButtonEl.classList.add('colab-df-quickchart-complete');\n",
              "    }\n",
              "    (() => {\n",
              "      let quickchartButtonEl =\n",
              "        document.querySelector('#df-42baeae2-97bc-430f-80ba-2158651f78ad button');\n",
              "      quickchartButtonEl.style.display =\n",
              "        google.colab.kernel.accessAllowed ? 'block' : 'none';\n",
              "    })();\n",
              "  </script>\n",
              "</div>\n",
              "\n",
              "    </div>\n",
              "  </div>\n"
            ],
            "application/vnd.google.colaboratory.intrinsic+json": {
              "type": "dataframe"
            }
          },
          "metadata": {},
          "execution_count": 21
        }
      ],
      "source": [
        "feature_matrix = compute_features(features, entities, relationships)\n",
        "preview(feature_matrix, 5)"
      ]
    },
    {
      "cell_type": "code",
      "source": [
        "feature_matrix.columns"
      ],
      "metadata": {
        "id": "H0QHp_SvPSly",
        "colab": {
          "base_uri": "https://localhost:8080/"
        },
        "outputId": "fc2a6ac0-c560-46fb-985f-5d539a14f628"
      },
      "execution_count": 22,
      "outputs": [
        {
          "output_type": "execute_result",
          "data": {
            "text/plain": [
              "Index(['MONTH(dropoff_datetime)', 'WEEK(dropoff_datetime)', 'vendor_id',\n",
              "       'WEEKDAY(pickup_datetime)', 'trip_distance', 'WEEK(pickup_datetime)',\n",
              "       'DAY(dropoff_datetime)', 'DAY(pickup_datetime)',\n",
              "       'dropoff_neighborhoods.longitude', 'HOUR(dropoff_datetime)',\n",
              "       'IS_WEEKEND(pickup_datetime)', 'payment_type',\n",
              "       'dropoff_neighborhoods.latitude', 'WEEKDAY(dropoff_datetime)',\n",
              "       'MINUTE(dropoff_datetime)', 'MONTH(pickup_datetime)',\n",
              "       'pickup_neighborhoods.latitude', 'passenger_count',\n",
              "       'MINUTE(pickup_datetime)', 'pickup_neighborhoods.longitude',\n",
              "       'HOUR(pickup_datetime)', 'IS_WEEKEND(dropoff_datetime)'],\n",
              "      dtype='object')"
            ]
          },
          "metadata": {},
          "execution_count": 22
        }
      ]
    },
    {
      "cell_type": "code",
      "execution_count": 23,
      "metadata": {
        "id": "t1LHubLekhyO",
        "colab": {
          "base_uri": "https://localhost:8080/"
        },
        "outputId": "396a3ffe-9fca-4081-fdcc-750d4df62d54"
      },
      "outputs": [
        {
          "output_type": "stream",
          "name": "stdout",
          "text": [
            "Datos separados con éxito!\n"
          ]
        }
      ],
      "source": [
        "# Volver a separar los datos\n",
        "X_train, y_train, X_test, y_test = utils.get_train_test_fm(feature_matrix, trips, .75)\n",
        "y_train = np.log(y_train + 1)\n",
        "y_test = np.log(y_test + 1)\n",
        "\n",
        "print('Datos separados con éxito!')"
      ]
    },
    {
      "cell_type": "code",
      "execution_count": 24,
      "metadata": {
        "id": "2ro_IFmDkhyR",
        "colab": {
          "base_uri": "https://localhost:8080/"
        },
        "outputId": "17a6c19f-273a-4de3-9382-ba785272008b"
      },
      "outputs": [
        {
          "output_type": "stream",
          "name": "stdout",
          "text": [
            "      Iter       Train Loss   Remaining Time \n",
            "         1           0.4736            1.25s\n",
            "         2           0.4148            1.23s\n",
            "         3           0.3661            1.20s\n",
            "         4           0.3264            1.17s\n",
            "         5           0.2930            1.16s\n",
            "         6           0.2660            1.13s\n",
            "         7           0.2432            1.13s\n",
            "         8           0.2245            1.12s\n",
            "         9           0.2090            1.09s\n",
            "        10           0.1960            1.11s\n",
            "        20           0.1362            1.14s\n",
            "        30           0.1202            1.02s\n",
            "        40           0.1128            0.89s\n",
            "        50           0.1082            0.75s\n",
            "        60           0.1049            0.61s\n",
            "        70           0.1027            0.46s\n",
            "        80           0.1006            0.31s\n",
            "        90           0.0962            0.15s\n",
            "       100           0.0913            0.00s\n",
            "0.8082514529399136\n",
            "Fase de entrenamiento realizada con éxito!\n"
          ]
        }
      ],
      "source": [
        "# El entrenamiento debería durar alrededor de un minuto\n",
        "model = GradientBoostingRegressor(verbose=True)\n",
        "model.fit(X_train, y_train)\n",
        "print(model.score(X_test, y_test)) # Valor R^2 de la predicción\n",
        "\n",
        "print('Fase de entrenamiento realizada con éxito!')"
      ]
    },
    {
      "cell_type": "markdown",
      "metadata": {
        "id": "_Y5FUpIMkhyT"
      },
      "source": [
        "**<h1 style=\"color:red;\">PREGUNTA 3: SEGUNDO MODELO</h1>**"
      ]
    },
    {
      "cell_type": "markdown",
      "metadata": {
        "id": "94xJzvJqkhyU"
      },
      "source": [
        "Describa el resto de nuevos atributos que acaba de añadir al modelo. ¿Cómo afectó esto al rendimiento del modelo? ¿Ha sido necesario sacrificar tiempo de entrenamiento?\n",
        "\n",
        "\n"
      ]
    },
    {
      "cell_type": "markdown",
      "metadata": {
        "id": "U_FwdJCiccKr"
      },
      "source": [
        "Los nuevos atributos que se han añadido al modelo son derivados de las fechas y horas de recogida y entrega (pickup y dropoff) de los trayectos en taxi, utilizando primitivas de transformación en el proceso de feature engineering. Los atributos específicos son:\n",
        "\n",
        "1. **DAY(pickup_datetime/dropoff_datetime)**: Día del mes en que ocurrió el pickup y dropoff.\n",
        "2. **HOUR(pickup_datetime/dropoff_datetime)**: Hora del día en que ocurrió el pickup y dropoff.\n",
        "3. **MINUTE(pickup_datetime/dropoff_datetime)**: Minuto en la hora en que ocurrió el pickup y dropoff.\n",
        "4. **MONTH(pickup_datetime/dropoff_datetime)**: Mes en que ocurrió el pickup y dropoff.\n",
        "5. **WEEK(pickup_datetime/dropoff_datetime)**: Semana del año en que ocurrió el pickup y dropoff.\n",
        "6. **WEEKDAY(pickup_datetime/dropoff_datetime)**: Día de la semana en que ocurrió el pickup y dropoff.\n",
        "7. **IsWeekend(pickup_datetime/dropoff_datetime)**: Indica si el pickup y dropoff ocurrieron en un fin de semana.\n",
        "\n",
        "El número total de atributos después de este proceso de ingeniería de atributos es de 22.\n",
        "\n",
        "Estos atributos tienen el potencial de capturar patrones temporales en los datos, que son esenciales en el contexto de los trayectos en taxi, ya que la demanda de taxis y la duración de los trayectos pueden variar considerablemente en diferentes momentos del día, días de la semana y épocas del año debido a factores como el tráfico, la disponibilidad de taxis y los comportamientos de los pasajeros.\n",
        "\n",
        "El impacto en el rendimiento del modelo se puede evaluar a través de la métrica R^2, que indica cuánta varianza de la variable objetivo puede ser explicada por el modelo. En este caso, el modelo con los nuevos atributos tiene un valor R^2 de 0.8082514529399136, que es una mejora sustancial en comparación con el valor mencionado previamente de 0.7562183415378823, indicando un mejor ajuste del modelo a los datos.\n",
        "\n",
        "En cuanto al tiempo de entrenamiento, el log indica que el entrenamiento del modelo con los nuevos atributos tomó aproximadamente un minuto, lo cual es razonable y no indica un sacrificio significativo de tiempo. Sin embargo, dependiendo del número de datos y de la complejidad de los atributos adicionales, puede haber un aumento en el tiempo de entrenamiento. En este caso, el registro sugiere que el tiempo adicional fue mínimo y que la ganancia en el rendimiento del modelo justifica cualquier incremento en el tiempo de entrenamiento. El registro también muestra una mejora en la pérdida de entrenamiento, pasando de un valor inicial de 0.4736 a 0.0913, lo que sugiere una convergencia adecuada del modelo y un aprendizaje eficaz de los patrones en los datos."
      ]
    },
    {
      "cell_type": "markdown",
      "metadata": {
        "id": "1F0pZNyXkhyV"
      },
      "source": [
        "# Primitivas de agregación"
      ]
    },
    {
      "cell_type": "code",
      "execution_count": 25,
      "metadata": {
        "id": "pfv6tmCekhyV",
        "colab": {
          "base_uri": "https://localhost:8080/"
        },
        "outputId": "7c209060-5993-4140-fa11-77d646bbef94"
      },
      "outputs": [
        {
          "output_type": "stream",
          "name": "stdout",
          "text": [
            "Primitivas de tranformación definidas con éxito!\n"
          ]
        },
        {
          "output_type": "stream",
          "name": "stderr",
          "text": [
            "/usr/local/lib/python3.10/dist-packages/featuretools/entityset/entityset.py:754: UserWarning: A Woodwork-initialized DataFrame was provided, so the following parameters were ignored: index, time_index\n",
            "  warnings.warn(\n",
            "/usr/local/lib/python3.10/dist-packages/featuretools/entityset/entityset.py:754: UserWarning: A Woodwork-initialized DataFrame was provided, so the following parameters were ignored: index\n",
            "  warnings.warn(\n"
          ]
        }
      ],
      "source": [
        "# ==============================================\n",
        "# Listado de las primitivas creadas en este paso\n",
        "trans_primitives = [Minute, Hour, Day, Week, Month, Weekday, IsWeekend]\n",
        "aggregation_primitives = [Count, Sum, Mean, Median, Std, Max, Min]\n",
        "# ==============================================\n",
        "\n",
        "features = ft.dfs(dataframes=entities,\n",
        "                  relationships=relationships,\n",
        "                  target_dataframe_name=\"trips\",\n",
        "                  trans_primitives=trans_primitives,\n",
        "                  agg_primitives=aggregation_primitives,\n",
        "                  ignore_columns={\"trips\": [\"pickup_latitude\", \"pickup_longitude\",\n",
        "                                              \"dropoff_latitude\", \"dropoff_longitude\", \"trip_duration\"]},\n",
        "                  features_only=True)\n",
        "\n",
        "print('Primitivas de tranformación definidas con éxito!')"
      ]
    },
    {
      "cell_type": "code",
      "execution_count": 26,
      "metadata": {
        "id": "0jQVtnBpkhyX",
        "colab": {
          "base_uri": "https://localhost:8080/"
        },
        "outputId": "82c80b2d-478b-4b1e-da2d-2d57a0bc3985"
      },
      "outputs": [
        {
          "output_type": "stream",
          "name": "stdout",
          "text": [
            "Número de atributos: 72\n"
          ]
        },
        {
          "output_type": "execute_result",
          "data": {
            "text/plain": [
              "[<Feature: vendor_id>,\n",
              " <Feature: passenger_count>,\n",
              " <Feature: trip_distance>,\n",
              " <Feature: payment_type>,\n",
              " <Feature: DAY(dropoff_datetime)>,\n",
              " <Feature: DAY(pickup_datetime)>,\n",
              " <Feature: HOUR(dropoff_datetime)>,\n",
              " <Feature: HOUR(pickup_datetime)>,\n",
              " <Feature: IS_WEEKEND(dropoff_datetime)>,\n",
              " <Feature: IS_WEEKEND(pickup_datetime)>,\n",
              " <Feature: MINUTE(dropoff_datetime)>,\n",
              " <Feature: MINUTE(pickup_datetime)>,\n",
              " <Feature: MONTH(dropoff_datetime)>,\n",
              " <Feature: MONTH(pickup_datetime)>,\n",
              " <Feature: WEEK(dropoff_datetime)>,\n",
              " <Feature: WEEK(pickup_datetime)>,\n",
              " <Feature: WEEKDAY(dropoff_datetime)>,\n",
              " <Feature: WEEKDAY(pickup_datetime)>,\n",
              " <Feature: pickup_neighborhoods.latitude>,\n",
              " <Feature: pickup_neighborhoods.longitude>,\n",
              " <Feature: dropoff_neighborhoods.latitude>,\n",
              " <Feature: dropoff_neighborhoods.longitude>,\n",
              " <Feature: pickup_neighborhoods.COUNT(trips)>,\n",
              " <Feature: pickup_neighborhoods.MAX(trips.passenger_count)>,\n",
              " <Feature: pickup_neighborhoods.MAX(trips.payment_type)>,\n",
              " <Feature: pickup_neighborhoods.MAX(trips.trip_distance)>,\n",
              " <Feature: pickup_neighborhoods.MAX(trips.vendor_id)>,\n",
              " <Feature: pickup_neighborhoods.MEAN(trips.passenger_count)>,\n",
              " <Feature: pickup_neighborhoods.MEAN(trips.payment_type)>,\n",
              " <Feature: pickup_neighborhoods.MEAN(trips.trip_distance)>,\n",
              " <Feature: pickup_neighborhoods.MEAN(trips.vendor_id)>,\n",
              " <Feature: pickup_neighborhoods.MEDIAN(trips.passenger_count)>,\n",
              " <Feature: pickup_neighborhoods.MEDIAN(trips.payment_type)>,\n",
              " <Feature: pickup_neighborhoods.MEDIAN(trips.trip_distance)>,\n",
              " <Feature: pickup_neighborhoods.MEDIAN(trips.vendor_id)>,\n",
              " <Feature: pickup_neighborhoods.MIN(trips.passenger_count)>,\n",
              " <Feature: pickup_neighborhoods.MIN(trips.payment_type)>,\n",
              " <Feature: pickup_neighborhoods.MIN(trips.trip_distance)>,\n",
              " <Feature: pickup_neighborhoods.MIN(trips.vendor_id)>,\n",
              " <Feature: pickup_neighborhoods.STD(trips.passenger_count)>,\n",
              " <Feature: pickup_neighborhoods.STD(trips.payment_type)>,\n",
              " <Feature: pickup_neighborhoods.STD(trips.trip_distance)>,\n",
              " <Feature: pickup_neighborhoods.STD(trips.vendor_id)>,\n",
              " <Feature: pickup_neighborhoods.SUM(trips.passenger_count)>,\n",
              " <Feature: pickup_neighborhoods.SUM(trips.payment_type)>,\n",
              " <Feature: pickup_neighborhoods.SUM(trips.trip_distance)>,\n",
              " <Feature: pickup_neighborhoods.SUM(trips.vendor_id)>,\n",
              " <Feature: dropoff_neighborhoods.COUNT(trips)>,\n",
              " <Feature: dropoff_neighborhoods.MAX(trips.passenger_count)>,\n",
              " <Feature: dropoff_neighborhoods.MAX(trips.payment_type)>,\n",
              " <Feature: dropoff_neighborhoods.MAX(trips.trip_distance)>,\n",
              " <Feature: dropoff_neighborhoods.MAX(trips.vendor_id)>,\n",
              " <Feature: dropoff_neighborhoods.MEAN(trips.passenger_count)>,\n",
              " <Feature: dropoff_neighborhoods.MEAN(trips.payment_type)>,\n",
              " <Feature: dropoff_neighborhoods.MEAN(trips.trip_distance)>,\n",
              " <Feature: dropoff_neighborhoods.MEAN(trips.vendor_id)>,\n",
              " <Feature: dropoff_neighborhoods.MEDIAN(trips.passenger_count)>,\n",
              " <Feature: dropoff_neighborhoods.MEDIAN(trips.payment_type)>,\n",
              " <Feature: dropoff_neighborhoods.MEDIAN(trips.trip_distance)>,\n",
              " <Feature: dropoff_neighborhoods.MEDIAN(trips.vendor_id)>,\n",
              " <Feature: dropoff_neighborhoods.MIN(trips.passenger_count)>,\n",
              " <Feature: dropoff_neighborhoods.MIN(trips.payment_type)>,\n",
              " <Feature: dropoff_neighborhoods.MIN(trips.trip_distance)>,\n",
              " <Feature: dropoff_neighborhoods.MIN(trips.vendor_id)>,\n",
              " <Feature: dropoff_neighborhoods.STD(trips.passenger_count)>,\n",
              " <Feature: dropoff_neighborhoods.STD(trips.payment_type)>,\n",
              " <Feature: dropoff_neighborhoods.STD(trips.trip_distance)>,\n",
              " <Feature: dropoff_neighborhoods.STD(trips.vendor_id)>,\n",
              " <Feature: dropoff_neighborhoods.SUM(trips.passenger_count)>,\n",
              " <Feature: dropoff_neighborhoods.SUM(trips.payment_type)>,\n",
              " <Feature: dropoff_neighborhoods.SUM(trips.trip_distance)>,\n",
              " <Feature: dropoff_neighborhoods.SUM(trips.vendor_id)>]"
            ]
          },
          "metadata": {},
          "execution_count": 26
        }
      ],
      "source": [
        "print(f\"Número de atributos: {len(features)}\")\n",
        "features"
      ]
    },
    {
      "cell_type": "code",
      "execution_count": 27,
      "metadata": {
        "id": "dwq-iTDYkhyZ",
        "colab": {
          "base_uri": "https://localhost:8080/",
          "height": 356
        },
        "outputId": "ef8b3fae-1544-415e-a450-58ceb65c2412"
      },
      "outputs": [
        {
          "output_type": "stream",
          "name": "stderr",
          "text": [
            "/usr/local/lib/python3.10/dist-packages/featuretools/computational_backends/calculate_feature_matrix.py:239: UserWarning: Using approximate with a single cutoff_time value or no cutoff_time provides no computational efficiency benefit\n",
            "  warnings.warn(msg)\n"
          ]
        },
        {
          "output_type": "stream",
          "name": "stdout",
          "text": [
            "Elapsed: 00:00 | Progress: 100%|██████████\n",
            "Finishing computing...\n"
          ]
        },
        {
          "output_type": "execute_result",
          "data": {
            "text/plain": [
              "       MONTH(dropoff_datetime)  trip_distance  \\\n",
              "id                                              \n",
              "514030                       4           2.46   \n",
              "514031                       4           7.90   \n",
              "514032                       4           1.00   \n",
              "514033                       4           0.02   \n",
              "514034                       4          19.00   \n",
              "\n",
              "        pickup_neighborhoods.MIN(trips.trip_distance)  payment_type  \\\n",
              "id                                                                    \n",
              "514030                                            0.0             1   \n",
              "514031                                            0.0             1   \n",
              "514032                                            0.1             1   \n",
              "514033                                            0.0             2   \n",
              "514034                                            0.0             1   \n",
              "\n",
              "        dropoff_neighborhoods.MEAN(trips.trip_distance)  \\\n",
              "id                                                        \n",
              "514030                                         2.044915   \n",
              "514031                                         2.451602   \n",
              "514032                                         1.899113   \n",
              "514033                                         2.532340   \n",
              "514034                                         2.257918   \n",
              "\n",
              "        dropoff_neighborhoods.STD(trips.payment_type)  \\\n",
              "id                                                      \n",
              "514030                                       0.470580   \n",
              "514031                                       0.467941   \n",
              "514032                                       0.486889   \n",
              "514033                                       0.467893   \n",
              "514034                                       0.474956   \n",
              "\n",
              "        dropoff_neighborhoods.STD(trips.trip_distance)  \\\n",
              "id                                                       \n",
              "514030                                        2.086730   \n",
              "514031                                        2.742837   \n",
              "514032                                        1.706576   \n",
              "514033                                        2.745361   \n",
              "514034                                        2.664571   \n",
              "\n",
              "        pickup_neighborhoods.STD(trips.vendor_id)  \\\n",
              "id                                                  \n",
              "514030                                   0.500544   \n",
              "514031                                   0.501206   \n",
              "514032                                   0.498302   \n",
              "514033                                   0.500275   \n",
              "514034                                   0.486120   \n",
              "\n",
              "        dropoff_neighborhoods.SUM(trips.trip_distance)  passenger_count  ...  \\\n",
              "id                                                                       ...   \n",
              "514030                                          603.25                1  ...   \n",
              "514031                                          443.74                2  ...   \n",
              "514032                                          556.44                1  ...   \n",
              "514033                                          714.12                1  ...   \n",
              "514034                                          661.57                2  ...   \n",
              "\n",
              "        dropoff_neighborhoods.MAX(trips.payment_type)  \\\n",
              "id                                                      \n",
              "514030                                            2.0   \n",
              "514031                                            2.0   \n",
              "514032                                            3.0   \n",
              "514033                                            3.0   \n",
              "514034                                            2.0   \n",
              "\n",
              "        pickup_neighborhoods.MAX(trips.passenger_count)  \\\n",
              "id                                                        \n",
              "514030                                              6.0   \n",
              "514031                                              6.0   \n",
              "514032                                              6.0   \n",
              "514033                                              6.0   \n",
              "514034                                              6.0   \n",
              "\n",
              "       pickup_neighborhoods.MIN(trips.payment_type)  \\\n",
              "id                                                    \n",
              "514030                                          1.0   \n",
              "514031                                          1.0   \n",
              "514032                                          1.0   \n",
              "514033                                          1.0   \n",
              "514034                                          1.0   \n",
              "\n",
              "        dropoff_neighborhoods.SUM(trips.payment_type)  \\\n",
              "id                                                      \n",
              "514030                                          392.0   \n",
              "514031                                          239.0   \n",
              "514032                                          391.0   \n",
              "514033                                          358.0   \n",
              "514034                                          393.0   \n",
              "\n",
              "       pickup_neighborhoods.MAX(trips.vendor_id)  \\\n",
              "id                                                 \n",
              "514030                                       2.0   \n",
              "514031                                       2.0   \n",
              "514032                                       2.0   \n",
              "514033                                       2.0   \n",
              "514034                                       2.0   \n",
              "\n",
              "        pickup_neighborhoods.COUNT(trips)  \\\n",
              "id                                          \n",
              "514030                                444   \n",
              "514031                                 46   \n",
              "514032                                370   \n",
              "514033                                407   \n",
              "514034                                154   \n",
              "\n",
              "        dropoff_neighborhoods.MEAN(trips.vendor_id)  \\\n",
              "id                                                    \n",
              "514030                                     1.572881   \n",
              "514031                                     1.574586   \n",
              "514032                                     1.518771   \n",
              "514033                                     1.510638   \n",
              "514034                                     1.529010   \n",
              "\n",
              "        dropoff_neighborhoods.MIN(trips.vendor_id) HOUR(pickup_datetime)  \\\n",
              "id                                                                         \n",
              "514030                                         1.0                     0   \n",
              "514031                                         1.0                     0   \n",
              "514032                                         1.0                     0   \n",
              "514033                                         1.0                     0   \n",
              "514034                                         1.0                     0   \n",
              "\n",
              "        dropoff_neighborhoods.MEDIAN(trips.passenger_count)  \n",
              "id                                                           \n",
              "514030                                                1.0    \n",
              "514031                                                1.0    \n",
              "514032                                                1.0    \n",
              "514033                                                1.0    \n",
              "514034                                                1.0    \n",
              "\n",
              "[5 rows x 72 columns]"
            ],
            "text/html": [
              "\n",
              "  <div id=\"df-bcc6ed4f-cc1f-478b-8f0f-170289fbacca\" class=\"colab-df-container\">\n",
              "    <div>\n",
              "<style scoped>\n",
              "    .dataframe tbody tr th:only-of-type {\n",
              "        vertical-align: middle;\n",
              "    }\n",
              "\n",
              "    .dataframe tbody tr th {\n",
              "        vertical-align: top;\n",
              "    }\n",
              "\n",
              "    .dataframe thead th {\n",
              "        text-align: right;\n",
              "    }\n",
              "</style>\n",
              "<table border=\"1\" class=\"dataframe\">\n",
              "  <thead>\n",
              "    <tr style=\"text-align: right;\">\n",
              "      <th></th>\n",
              "      <th>MONTH(dropoff_datetime)</th>\n",
              "      <th>trip_distance</th>\n",
              "      <th>pickup_neighborhoods.MIN(trips.trip_distance)</th>\n",
              "      <th>payment_type</th>\n",
              "      <th>dropoff_neighborhoods.MEAN(trips.trip_distance)</th>\n",
              "      <th>dropoff_neighborhoods.STD(trips.payment_type)</th>\n",
              "      <th>dropoff_neighborhoods.STD(trips.trip_distance)</th>\n",
              "      <th>pickup_neighborhoods.STD(trips.vendor_id)</th>\n",
              "      <th>dropoff_neighborhoods.SUM(trips.trip_distance)</th>\n",
              "      <th>passenger_count</th>\n",
              "      <th>...</th>\n",
              "      <th>dropoff_neighborhoods.MAX(trips.payment_type)</th>\n",
              "      <th>pickup_neighborhoods.MAX(trips.passenger_count)</th>\n",
              "      <th>pickup_neighborhoods.MIN(trips.payment_type)</th>\n",
              "      <th>dropoff_neighborhoods.SUM(trips.payment_type)</th>\n",
              "      <th>pickup_neighborhoods.MAX(trips.vendor_id)</th>\n",
              "      <th>pickup_neighborhoods.COUNT(trips)</th>\n",
              "      <th>dropoff_neighborhoods.MEAN(trips.vendor_id)</th>\n",
              "      <th>dropoff_neighborhoods.MIN(trips.vendor_id)</th>\n",
              "      <th>HOUR(pickup_datetime)</th>\n",
              "      <th>dropoff_neighborhoods.MEDIAN(trips.passenger_count)</th>\n",
              "    </tr>\n",
              "    <tr>\n",
              "      <th>id</th>\n",
              "      <th></th>\n",
              "      <th></th>\n",
              "      <th></th>\n",
              "      <th></th>\n",
              "      <th></th>\n",
              "      <th></th>\n",
              "      <th></th>\n",
              "      <th></th>\n",
              "      <th></th>\n",
              "      <th></th>\n",
              "      <th></th>\n",
              "      <th></th>\n",
              "      <th></th>\n",
              "      <th></th>\n",
              "      <th></th>\n",
              "      <th></th>\n",
              "      <th></th>\n",
              "      <th></th>\n",
              "      <th></th>\n",
              "      <th></th>\n",
              "      <th></th>\n",
              "    </tr>\n",
              "  </thead>\n",
              "  <tbody>\n",
              "    <tr>\n",
              "      <th>514030</th>\n",
              "      <td>4</td>\n",
              "      <td>2.46</td>\n",
              "      <td>0.0</td>\n",
              "      <td>1</td>\n",
              "      <td>2.044915</td>\n",
              "      <td>0.470580</td>\n",
              "      <td>2.086730</td>\n",
              "      <td>0.500544</td>\n",
              "      <td>603.25</td>\n",
              "      <td>1</td>\n",
              "      <td>...</td>\n",
              "      <td>2.0</td>\n",
              "      <td>6.0</td>\n",
              "      <td>1.0</td>\n",
              "      <td>392.0</td>\n",
              "      <td>2.0</td>\n",
              "      <td>444</td>\n",
              "      <td>1.572881</td>\n",
              "      <td>1.0</td>\n",
              "      <td>0</td>\n",
              "      <td>1.0</td>\n",
              "    </tr>\n",
              "    <tr>\n",
              "      <th>514031</th>\n",
              "      <td>4</td>\n",
              "      <td>7.90</td>\n",
              "      <td>0.0</td>\n",
              "      <td>1</td>\n",
              "      <td>2.451602</td>\n",
              "      <td>0.467941</td>\n",
              "      <td>2.742837</td>\n",
              "      <td>0.501206</td>\n",
              "      <td>443.74</td>\n",
              "      <td>2</td>\n",
              "      <td>...</td>\n",
              "      <td>2.0</td>\n",
              "      <td>6.0</td>\n",
              "      <td>1.0</td>\n",
              "      <td>239.0</td>\n",
              "      <td>2.0</td>\n",
              "      <td>46</td>\n",
              "      <td>1.574586</td>\n",
              "      <td>1.0</td>\n",
              "      <td>0</td>\n",
              "      <td>1.0</td>\n",
              "    </tr>\n",
              "    <tr>\n",
              "      <th>514032</th>\n",
              "      <td>4</td>\n",
              "      <td>1.00</td>\n",
              "      <td>0.1</td>\n",
              "      <td>1</td>\n",
              "      <td>1.899113</td>\n",
              "      <td>0.486889</td>\n",
              "      <td>1.706576</td>\n",
              "      <td>0.498302</td>\n",
              "      <td>556.44</td>\n",
              "      <td>1</td>\n",
              "      <td>...</td>\n",
              "      <td>3.0</td>\n",
              "      <td>6.0</td>\n",
              "      <td>1.0</td>\n",
              "      <td>391.0</td>\n",
              "      <td>2.0</td>\n",
              "      <td>370</td>\n",
              "      <td>1.518771</td>\n",
              "      <td>1.0</td>\n",
              "      <td>0</td>\n",
              "      <td>1.0</td>\n",
              "    </tr>\n",
              "    <tr>\n",
              "      <th>514033</th>\n",
              "      <td>4</td>\n",
              "      <td>0.02</td>\n",
              "      <td>0.0</td>\n",
              "      <td>2</td>\n",
              "      <td>2.532340</td>\n",
              "      <td>0.467893</td>\n",
              "      <td>2.745361</td>\n",
              "      <td>0.500275</td>\n",
              "      <td>714.12</td>\n",
              "      <td>1</td>\n",
              "      <td>...</td>\n",
              "      <td>3.0</td>\n",
              "      <td>6.0</td>\n",
              "      <td>1.0</td>\n",
              "      <td>358.0</td>\n",
              "      <td>2.0</td>\n",
              "      <td>407</td>\n",
              "      <td>1.510638</td>\n",
              "      <td>1.0</td>\n",
              "      <td>0</td>\n",
              "      <td>1.0</td>\n",
              "    </tr>\n",
              "    <tr>\n",
              "      <th>514034</th>\n",
              "      <td>4</td>\n",
              "      <td>19.00</td>\n",
              "      <td>0.0</td>\n",
              "      <td>1</td>\n",
              "      <td>2.257918</td>\n",
              "      <td>0.474956</td>\n",
              "      <td>2.664571</td>\n",
              "      <td>0.486120</td>\n",
              "      <td>661.57</td>\n",
              "      <td>2</td>\n",
              "      <td>...</td>\n",
              "      <td>2.0</td>\n",
              "      <td>6.0</td>\n",
              "      <td>1.0</td>\n",
              "      <td>393.0</td>\n",
              "      <td>2.0</td>\n",
              "      <td>154</td>\n",
              "      <td>1.529010</td>\n",
              "      <td>1.0</td>\n",
              "      <td>0</td>\n",
              "      <td>1.0</td>\n",
              "    </tr>\n",
              "  </tbody>\n",
              "</table>\n",
              "<p>5 rows × 72 columns</p>\n",
              "</div>\n",
              "    <div class=\"colab-df-buttons\">\n",
              "\n",
              "  <div class=\"colab-df-container\">\n",
              "    <button class=\"colab-df-convert\" onclick=\"convertToInteractive('df-bcc6ed4f-cc1f-478b-8f0f-170289fbacca')\"\n",
              "            title=\"Convert this dataframe to an interactive table.\"\n",
              "            style=\"display:none;\">\n",
              "\n",
              "  <svg xmlns=\"http://www.w3.org/2000/svg\" height=\"24px\" viewBox=\"0 -960 960 960\">\n",
              "    <path d=\"M120-120v-720h720v720H120Zm60-500h600v-160H180v160Zm220 220h160v-160H400v160Zm0 220h160v-160H400v160ZM180-400h160v-160H180v160Zm440 0h160v-160H620v160ZM180-180h160v-160H180v160Zm440 0h160v-160H620v160Z\"/>\n",
              "  </svg>\n",
              "    </button>\n",
              "\n",
              "  <style>\n",
              "    .colab-df-container {\n",
              "      display:flex;\n",
              "      gap: 12px;\n",
              "    }\n",
              "\n",
              "    .colab-df-convert {\n",
              "      background-color: #E8F0FE;\n",
              "      border: none;\n",
              "      border-radius: 50%;\n",
              "      cursor: pointer;\n",
              "      display: none;\n",
              "      fill: #1967D2;\n",
              "      height: 32px;\n",
              "      padding: 0 0 0 0;\n",
              "      width: 32px;\n",
              "    }\n",
              "\n",
              "    .colab-df-convert:hover {\n",
              "      background-color: #E2EBFA;\n",
              "      box-shadow: 0px 1px 2px rgba(60, 64, 67, 0.3), 0px 1px 3px 1px rgba(60, 64, 67, 0.15);\n",
              "      fill: #174EA6;\n",
              "    }\n",
              "\n",
              "    .colab-df-buttons div {\n",
              "      margin-bottom: 4px;\n",
              "    }\n",
              "\n",
              "    [theme=dark] .colab-df-convert {\n",
              "      background-color: #3B4455;\n",
              "      fill: #D2E3FC;\n",
              "    }\n",
              "\n",
              "    [theme=dark] .colab-df-convert:hover {\n",
              "      background-color: #434B5C;\n",
              "      box-shadow: 0px 1px 3px 1px rgba(0, 0, 0, 0.15);\n",
              "      filter: drop-shadow(0px 1px 2px rgba(0, 0, 0, 0.3));\n",
              "      fill: #FFFFFF;\n",
              "    }\n",
              "  </style>\n",
              "\n",
              "    <script>\n",
              "      const buttonEl =\n",
              "        document.querySelector('#df-bcc6ed4f-cc1f-478b-8f0f-170289fbacca button.colab-df-convert');\n",
              "      buttonEl.style.display =\n",
              "        google.colab.kernel.accessAllowed ? 'block' : 'none';\n",
              "\n",
              "      async function convertToInteractive(key) {\n",
              "        const element = document.querySelector('#df-bcc6ed4f-cc1f-478b-8f0f-170289fbacca');\n",
              "        const dataTable =\n",
              "          await google.colab.kernel.invokeFunction('convertToInteractive',\n",
              "                                                    [key], {});\n",
              "        if (!dataTable) return;\n",
              "\n",
              "        const docLinkHtml = 'Like what you see? Visit the ' +\n",
              "          '<a target=\"_blank\" href=https://colab.research.google.com/notebooks/data_table.ipynb>data table notebook</a>'\n",
              "          + ' to learn more about interactive tables.';\n",
              "        element.innerHTML = '';\n",
              "        dataTable['output_type'] = 'display_data';\n",
              "        await google.colab.output.renderOutput(dataTable, element);\n",
              "        const docLink = document.createElement('div');\n",
              "        docLink.innerHTML = docLinkHtml;\n",
              "        element.appendChild(docLink);\n",
              "      }\n",
              "    </script>\n",
              "  </div>\n",
              "\n",
              "\n",
              "<div id=\"df-c01a5235-8584-47f2-b650-ec5ba8ddd501\">\n",
              "  <button class=\"colab-df-quickchart\" onclick=\"quickchart('df-c01a5235-8584-47f2-b650-ec5ba8ddd501')\"\n",
              "            title=\"Suggest charts\"\n",
              "            style=\"display:none;\">\n",
              "\n",
              "<svg xmlns=\"http://www.w3.org/2000/svg\" height=\"24px\"viewBox=\"0 0 24 24\"\n",
              "     width=\"24px\">\n",
              "    <g>\n",
              "        <path d=\"M19 3H5c-1.1 0-2 .9-2 2v14c0 1.1.9 2 2 2h14c1.1 0 2-.9 2-2V5c0-1.1-.9-2-2-2zM9 17H7v-7h2v7zm4 0h-2V7h2v10zm4 0h-2v-4h2v4z\"/>\n",
              "    </g>\n",
              "</svg>\n",
              "  </button>\n",
              "\n",
              "<style>\n",
              "  .colab-df-quickchart {\n",
              "      --bg-color: #E8F0FE;\n",
              "      --fill-color: #1967D2;\n",
              "      --hover-bg-color: #E2EBFA;\n",
              "      --hover-fill-color: #174EA6;\n",
              "      --disabled-fill-color: #AAA;\n",
              "      --disabled-bg-color: #DDD;\n",
              "  }\n",
              "\n",
              "  [theme=dark] .colab-df-quickchart {\n",
              "      --bg-color: #3B4455;\n",
              "      --fill-color: #D2E3FC;\n",
              "      --hover-bg-color: #434B5C;\n",
              "      --hover-fill-color: #FFFFFF;\n",
              "      --disabled-bg-color: #3B4455;\n",
              "      --disabled-fill-color: #666;\n",
              "  }\n",
              "\n",
              "  .colab-df-quickchart {\n",
              "    background-color: var(--bg-color);\n",
              "    border: none;\n",
              "    border-radius: 50%;\n",
              "    cursor: pointer;\n",
              "    display: none;\n",
              "    fill: var(--fill-color);\n",
              "    height: 32px;\n",
              "    padding: 0;\n",
              "    width: 32px;\n",
              "  }\n",
              "\n",
              "  .colab-df-quickchart:hover {\n",
              "    background-color: var(--hover-bg-color);\n",
              "    box-shadow: 0 1px 2px rgba(60, 64, 67, 0.3), 0 1px 3px 1px rgba(60, 64, 67, 0.15);\n",
              "    fill: var(--button-hover-fill-color);\n",
              "  }\n",
              "\n",
              "  .colab-df-quickchart-complete:disabled,\n",
              "  .colab-df-quickchart-complete:disabled:hover {\n",
              "    background-color: var(--disabled-bg-color);\n",
              "    fill: var(--disabled-fill-color);\n",
              "    box-shadow: none;\n",
              "  }\n",
              "\n",
              "  .colab-df-spinner {\n",
              "    border: 2px solid var(--fill-color);\n",
              "    border-color: transparent;\n",
              "    border-bottom-color: var(--fill-color);\n",
              "    animation:\n",
              "      spin 1s steps(1) infinite;\n",
              "  }\n",
              "\n",
              "  @keyframes spin {\n",
              "    0% {\n",
              "      border-color: transparent;\n",
              "      border-bottom-color: var(--fill-color);\n",
              "      border-left-color: var(--fill-color);\n",
              "    }\n",
              "    20% {\n",
              "      border-color: transparent;\n",
              "      border-left-color: var(--fill-color);\n",
              "      border-top-color: var(--fill-color);\n",
              "    }\n",
              "    30% {\n",
              "      border-color: transparent;\n",
              "      border-left-color: var(--fill-color);\n",
              "      border-top-color: var(--fill-color);\n",
              "      border-right-color: var(--fill-color);\n",
              "    }\n",
              "    40% {\n",
              "      border-color: transparent;\n",
              "      border-right-color: var(--fill-color);\n",
              "      border-top-color: var(--fill-color);\n",
              "    }\n",
              "    60% {\n",
              "      border-color: transparent;\n",
              "      border-right-color: var(--fill-color);\n",
              "    }\n",
              "    80% {\n",
              "      border-color: transparent;\n",
              "      border-right-color: var(--fill-color);\n",
              "      border-bottom-color: var(--fill-color);\n",
              "    }\n",
              "    90% {\n",
              "      border-color: transparent;\n",
              "      border-bottom-color: var(--fill-color);\n",
              "    }\n",
              "  }\n",
              "</style>\n",
              "\n",
              "  <script>\n",
              "    async function quickchart(key) {\n",
              "      const quickchartButtonEl =\n",
              "        document.querySelector('#' + key + ' button');\n",
              "      quickchartButtonEl.disabled = true;  // To prevent multiple clicks.\n",
              "      quickchartButtonEl.classList.add('colab-df-spinner');\n",
              "      try {\n",
              "        const charts = await google.colab.kernel.invokeFunction(\n",
              "            'suggestCharts', [key], {});\n",
              "      } catch (error) {\n",
              "        console.error('Error during call to suggestCharts:', error);\n",
              "      }\n",
              "      quickchartButtonEl.classList.remove('colab-df-spinner');\n",
              "      quickchartButtonEl.classList.add('colab-df-quickchart-complete');\n",
              "    }\n",
              "    (() => {\n",
              "      let quickchartButtonEl =\n",
              "        document.querySelector('#df-c01a5235-8584-47f2-b650-ec5ba8ddd501 button');\n",
              "      quickchartButtonEl.style.display =\n",
              "        google.colab.kernel.accessAllowed ? 'block' : 'none';\n",
              "    })();\n",
              "  </script>\n",
              "</div>\n",
              "\n",
              "    </div>\n",
              "  </div>\n"
            ],
            "application/vnd.google.colaboratory.intrinsic+json": {
              "type": "dataframe"
            }
          },
          "metadata": {},
          "execution_count": 27
        }
      ],
      "source": [
        "# Esto podría llevar cierto tiempo de computación, así que sea paciente\n",
        "feature_matrix = compute_features(features, entities, relationships)\n",
        "preview(feature_matrix, 5)"
      ]
    },
    {
      "cell_type": "code",
      "source": [
        "feature_matrix.columns"
      ],
      "metadata": {
        "id": "k_Fh88JgPvxP",
        "colab": {
          "base_uri": "https://localhost:8080/"
        },
        "outputId": "208e3fef-059d-4d44-fbc0-eafe2a0491e8"
      },
      "execution_count": 28,
      "outputs": [
        {
          "output_type": "execute_result",
          "data": {
            "text/plain": [
              "Index(['MONTH(dropoff_datetime)', 'trip_distance',\n",
              "       'pickup_neighborhoods.MIN(trips.trip_distance)', 'payment_type',\n",
              "       'dropoff_neighborhoods.MEAN(trips.trip_distance)',\n",
              "       'dropoff_neighborhoods.STD(trips.payment_type)',\n",
              "       'dropoff_neighborhoods.STD(trips.trip_distance)',\n",
              "       'pickup_neighborhoods.STD(trips.vendor_id)',\n",
              "       'dropoff_neighborhoods.SUM(trips.trip_distance)', 'passenger_count',\n",
              "       'dropoff_neighborhoods.SUM(trips.passenger_count)',\n",
              "       'dropoff_neighborhoods.STD(trips.passenger_count)',\n",
              "       'MINUTE(pickup_datetime)', 'pickup_neighborhoods.latitude',\n",
              "       'MONTH(pickup_datetime)', 'pickup_neighborhoods.longitude',\n",
              "       'pickup_neighborhoods.STD(trips.payment_type)',\n",
              "       'dropoff_neighborhoods.MAX(trips.vendor_id)', 'WEEK(pickup_datetime)',\n",
              "       'pickup_neighborhoods.MEDIAN(trips.vendor_id)',\n",
              "       'pickup_neighborhoods.MEDIAN(trips.payment_type)',\n",
              "       'pickup_neighborhoods.MIN(trips.vendor_id)',\n",
              "       'pickup_neighborhoods.MEAN(trips.vendor_id)',\n",
              "       'pickup_neighborhoods.SUM(trips.payment_type)',\n",
              "       'pickup_neighborhoods.STD(trips.passenger_count)',\n",
              "       'pickup_neighborhoods.MEAN(trips.trip_distance)',\n",
              "       'dropoff_neighborhoods.MIN(trips.trip_distance)',\n",
              "       'pickup_neighborhoods.SUM(trips.trip_distance)',\n",
              "       'dropoff_neighborhoods.longitude',\n",
              "       'pickup_neighborhoods.SUM(trips.passenger_count)',\n",
              "       'pickup_neighborhoods.SUM(trips.vendor_id)',\n",
              "       'dropoff_neighborhoods.MAX(trips.passenger_count)',\n",
              "       'dropoff_neighborhoods.MEDIAN(trips.payment_type)',\n",
              "       'dropoff_neighborhoods.MIN(trips.payment_type)',\n",
              "       'pickup_neighborhoods.MAX(trips.trip_distance)',\n",
              "       'dropoff_neighborhoods.MEAN(trips.payment_type)',\n",
              "       'pickup_neighborhoods.MEAN(trips.passenger_count)',\n",
              "       'DAY(dropoff_datetime)', 'IS_WEEKEND(pickup_datetime)',\n",
              "       'IS_WEEKEND(dropoff_datetime)', 'vendor_id', 'WEEK(dropoff_datetime)',\n",
              "       'dropoff_neighborhoods.MAX(trips.trip_distance)',\n",
              "       'pickup_neighborhoods.MIN(trips.passenger_count)',\n",
              "       'dropoff_neighborhoods.latitude', 'MINUTE(dropoff_datetime)',\n",
              "       'dropoff_neighborhoods.MEDIAN(trips.vendor_id)',\n",
              "       'WEEKDAY(dropoff_datetime)',\n",
              "       'dropoff_neighborhoods.STD(trips.vendor_id)', 'DAY(pickup_datetime)',\n",
              "       'pickup_neighborhoods.MEDIAN(trips.trip_distance)',\n",
              "       'pickup_neighborhoods.MEDIAN(trips.passenger_count)',\n",
              "       'pickup_neighborhoods.MAX(trips.payment_type)',\n",
              "       'WEEKDAY(pickup_datetime)',\n",
              "       'dropoff_neighborhoods.MIN(trips.passenger_count)',\n",
              "       'dropoff_neighborhoods.SUM(trips.vendor_id)',\n",
              "       'dropoff_neighborhoods.MEAN(trips.passenger_count)',\n",
              "       'pickup_neighborhoods.STD(trips.trip_distance)',\n",
              "       'pickup_neighborhoods.MEAN(trips.payment_type)',\n",
              "       'dropoff_neighborhoods.COUNT(trips)', 'HOUR(dropoff_datetime)',\n",
              "       'dropoff_neighborhoods.MEDIAN(trips.trip_distance)',\n",
              "       'dropoff_neighborhoods.MAX(trips.payment_type)',\n",
              "       'pickup_neighborhoods.MAX(trips.passenger_count)',\n",
              "       'pickup_neighborhoods.MIN(trips.payment_type)',\n",
              "       'dropoff_neighborhoods.SUM(trips.payment_type)',\n",
              "       'pickup_neighborhoods.MAX(trips.vendor_id)',\n",
              "       'pickup_neighborhoods.COUNT(trips)',\n",
              "       'dropoff_neighborhoods.MEAN(trips.vendor_id)',\n",
              "       'dropoff_neighborhoods.MIN(trips.vendor_id)', 'HOUR(pickup_datetime)',\n",
              "       'dropoff_neighborhoods.MEDIAN(trips.passenger_count)'],\n",
              "      dtype='object')"
            ]
          },
          "metadata": {},
          "execution_count": 28
        }
      ]
    },
    {
      "cell_type": "code",
      "execution_count": 29,
      "metadata": {
        "id": "GFjz1k_1khyb",
        "colab": {
          "base_uri": "https://localhost:8080/"
        },
        "outputId": "947c1c47-f404-4b89-b9ad-1586c127397b"
      },
      "outputs": [
        {
          "output_type": "stream",
          "name": "stdout",
          "text": [
            "Datos separados con éxito!\n"
          ]
        }
      ],
      "source": [
        "# Volver a separar los datos\n",
        "X_train, y_train, X_test, y_test = utils.get_train_test_fm(feature_matrix, trips, .75)\n",
        "y_train = np.log(y_train + 1)\n",
        "y_test = np.log(y_test + 1)\n",
        "\n",
        "print('Datos separados con éxito!')"
      ]
    },
    {
      "cell_type": "code",
      "execution_count": 30,
      "metadata": {
        "id": "q7iyZDfmkhyd",
        "colab": {
          "base_uri": "https://localhost:8080/"
        },
        "outputId": "0a18d0ec-91c0-42c7-c1d3-5c1986f81fdd"
      },
      "outputs": [
        {
          "output_type": "stream",
          "name": "stdout",
          "text": [
            "      Iter       Train Loss   Remaining Time \n",
            "         1           0.4736            3.79s\n",
            "         2           0.4148            3.70s\n",
            "         3           0.3661            3.65s\n",
            "         4           0.3264            3.55s\n",
            "         5           0.2930            3.49s\n",
            "         6           0.2660            3.47s\n",
            "         7           0.2432            3.42s\n",
            "         8           0.2245            3.37s\n",
            "         9           0.2090            3.33s\n",
            "        10           0.1960            3.28s\n",
            "        20           0.1363            2.88s\n",
            "        30           0.1198            2.52s\n",
            "        40           0.1114            2.15s\n",
            "        50           0.1063            1.78s\n",
            "        60           0.1027            1.43s\n",
            "        70           0.0999            1.07s\n",
            "        80           0.0977            0.71s\n",
            "        90           0.0953            0.36s\n",
            "       100           0.0934            0.00s\n",
            "0.8008846297849967\n",
            "Fase de entrenamiento realizada con éxito!\n"
          ]
        }
      ],
      "source": [
        "# El entrenamiento debería durar alrededor de un minuto\n",
        "model = GradientBoostingRegressor(verbose=True)\n",
        "model.fit(X_train, y_train)\n",
        "print(model.score(X_test, y_test)) # Valor R^2 de la predicción\n",
        "\n",
        "print('Fase de entrenamiento realizada con éxito!')"
      ]
    },
    {
      "cell_type": "markdown",
      "metadata": {
        "id": "DtkUfER0khye"
      },
      "source": [
        "# Evaluación con datos de prueba"
      ]
    },
    {
      "cell_type": "code",
      "execution_count": 31,
      "metadata": {
        "id": "07QUYT0Lkhyf",
        "colab": {
          "base_uri": "https://localhost:8080/"
        },
        "outputId": "8245853c-9757-442b-fc96-ae4ce0d67ad7"
      },
      "outputs": [
        {
          "output_type": "stream",
          "name": "stdout",
          "text": [
            "Cálculo de y_pred realizado con éxito!\n"
          ]
        }
      ],
      "source": [
        "y_pred = model.predict(X_test)\n",
        "y_pred = np.exp(y_pred) - 1 # deshaciendo el log calculado anteriormente\n",
        "print('Cálculo de y_pred realizado con éxito!')"
      ]
    },
    {
      "cell_type": "code",
      "execution_count": 32,
      "metadata": {
        "id": "FhwU4FJIkhyg",
        "colab": {
          "base_uri": "https://localhost:8080/"
        },
        "outputId": "2924588a-b06a-48bf-f619-fddb146cc76a"
      },
      "outputs": [
        {
          "output_type": "execute_result",
          "data": {
            "text/plain": [
              "array([432.06429399, 669.00943141, 647.56334547, 628.35976187,\n",
              "       418.15695184])"
            ]
          },
          "metadata": {},
          "execution_count": 32
        }
      ],
      "source": [
        "# Mostrando las 5 primeras predicciones\n",
        "y_pred[:5]"
      ]
    },
    {
      "cell_type": "code",
      "execution_count": 33,
      "metadata": {
        "id": "HIhA888fkhyi",
        "colab": {
          "base_uri": "https://localhost:8080/",
          "height": 447
        },
        "outputId": "dbce8c6c-0e04-454e-b9ad-3c8075f8daf8"
      },
      "outputs": [
        {
          "output_type": "stream",
          "name": "stdout",
          "text": [
            "Histograma generado con éxito!!\n"
          ]
        },
        {
          "output_type": "display_data",
          "data": {
            "text/plain": [
              "<Figure size 640x480 with 1 Axes>"
            ],
            "image/png": "[encoded data removed]"
          },
          "metadata": {}
        }
      ],
      "source": [
        "# Creando un histograma con todas ellas\n",
        "matplotlib.pyplot.hist(y_pred)\n",
        "\n",
        "print('Histograma generado con éxito!!')"
      ]
    },
    {
      "cell_type": "markdown",
      "metadata": {
        "id": "4f3H0LDVkhyl"
      },
      "source": [
        "**<h1 style=\"color:red;\">PREGUNTA 4: PREDICCIONES DEL MODELO</h1>**"
      ]
    },
    {
      "cell_type": "markdown",
      "metadata": {
        "id": "5TkyLhG3G741"
      },
      "source": [
        "Analice las predicciones del modelo. ¿Coincide la distribución de los datos predichos con la distribución de los datos reales? ¿Qué otros atributos/estrategias podríamos usar para hacer nuestro modelo aún mejor, si tuvieramos más tiempo?\n",
        "\n",
        "\n",
        "\n"
      ]
    },
    {
      "cell_type": "markdown",
      "metadata": {
        "id": "PPphKjqaHT0F"
      },
      "source": [
        "Primero evaluaremos el histograma proporcionado. Esta visualización muestra la distribución de los valores predichos por el modelo. Idealmente, queremos que esta distribución coincida con la distribución de los datos reales para que las predicciones sean útiles en escenarios del mundo real.\n",
        "\n",
        "En el histograma proporcionado, se observa una distribución sesgada a la derecha, con una concentración más alta de predicciones en el rango más bajo y una disminución gradual hacia el rango más alto. Para una evaluación precisa, necesitaríamos un histograma o estadísticas de los datos reales para comparar directamente con este histograma de datos predichos.\n",
        "\n",
        "Para mejorar el modelo, dado que tenemos una lista de las características utilizadas en la formación del modelo, podemos considerar las siguientes estrategias si tuviéramos más tiempo:\n",
        "\n",
        "1. **Selección de Características**: Revisar las características generadas y eliminar aquellas que aportan poca o ninguna información predictiva. Las técnicas como la importancia de las características o las pruebas de correlación pueden ser útiles aquí.\n",
        "\n",
        "2. **Ingeniería de Características Adicionales**: Podríamos explorar otras características que podrían tener influencia en la predicción, como las condiciones climáticas durante el viaje, eventos especiales en la ciudad, o incluso tarifas estimadas.\n",
        "\n",
        "3. **Hiperparámetros del Modelo**: Ajustar los hiperparámetros del modelo de regresión del gradiente puede llevar a mejoras significativas. Podemos emplear búsqueda en cuadrícula (grid search) o búsqueda aleatoria (random search) para explorar el espacio de hiperparámetros.\n",
        "\n",
        "4. **Modelos Ensamblados**: Utilizar técnicas de ensamblaje como bagging o boosting con diferentes modelos puede mejorar la precisión de las predicciones al reducir la varianza y el sesgo.\n",
        "\n",
        "5. **Validación Cruzada**: Implementar una estrategia de validación cruzada más robusta para garantizar que el modelo generalice bien a datos no vistos.\n",
        "\n",
        "6. **Análisis de Residuos**: Realizar un análisis de los residuos para identificar cualquier patrón o estructura que el modelo actual no esté capturando.\n",
        "\n",
        "7. **Aprendizaje Profundo**: Si tenemos suficientes datos y recursos computacionales, podríamos explorar modelos de aprendizaje profundo que podrían capturar interacciones no lineales complejas entre características.\n",
        "\n",
        "8. **Datos Temporales**: Los datos temporales pueden tener patrones estacionales o tendencias que podrían modelarse mejor con modelos de series temporales.\n",
        "\n",
        "El hecho de que el valor R^2 de la predicción sea aproximadamente 0.80 indica que el modelo actual explica alrededor del 80% de la variabilidad en los datos de prueba, lo cual es un buen punto de partida. No obstante, siempre existe margen de mejora, especialmente si algunas predicciones son particularmente difíciles de acertar debido a la naturaleza de los datos. Así mismo, el histograma parece haberse generado con éxito, pero sin la comparación directa con los datos reales, no podemos concluir cuán precisas o útiles son estas predicciones. Para profundizar más en el análisis, podríamos generar estadísticas descriptivas de los errores de predicción (por ejemplo, error absoluto medio, error cuadrático medio) y comparar la distribución de los valores predichos con la de los valores reales."
      ]
    },
    {
      "cell_type": "markdown",
      "metadata": {
        "id": "-hUzPX5Ekhym"
      },
      "source": [
        "# Importancia de los atributos"
      ]
    },
    {
      "cell_type": "code",
      "execution_count": 34,
      "metadata": {
        "id": "ocyW8hcpkhyn",
        "colab": {
          "base_uri": "https://localhost:8080/"
        },
        "outputId": "9b3350ee-a39d-498a-9103-458b8c91fb06"
      },
      "outputs": [
        {
          "output_type": "stream",
          "name": "stdout",
          "text": [
            "1: Feature: trip_distance, 0.867\n",
            "2: Feature: dropoff_neighborhoods.longitude, 0.028\n",
            "3: Feature: HOUR(pickup_datetime), 0.027\n",
            "4: Feature: dropoff_neighborhoods.latitude, 0.022\n",
            "5: Feature: HOUR(dropoff_datetime), 0.013\n",
            "6: Feature: pickup_neighborhoods.longitude, 0.004\n",
            "7: Feature: pickup_neighborhoods.COUNT(trips), 0.004\n",
            "8: Feature: MINUTE(dropoff_datetime), 0.003\n",
            "9: Feature: dropoff_neighborhoods.COUNT(trips), 0.002\n",
            "10: Feature: dropoff_neighborhoods.SUM(trips.trip_distance), 0.002\n",
            "11: Feature: pickup_neighborhoods.MEDIAN(trips.trip_distance), 0.002\n",
            "12: Feature: pickup_neighborhoods.latitude, 0.002\n",
            "13: Feature: pickup_neighborhoods.SUM(trips.trip_distance), 0.002\n",
            "14: Feature: MINUTE(pickup_datetime), 0.002\n",
            "15: Feature: pickup_neighborhoods.MEAN(trips.payment_type), 0.002\n",
            "16: Feature: dropoff_neighborhoods.MAX(trips.trip_distance), 0.002\n",
            "17: Feature: pickup_neighborhoods.MEAN(trips.passenger_count), 0.002\n",
            "18: Feature: dropoff_neighborhoods.SUM(trips.vendor_id), 0.001\n",
            "19: Feature: dropoff_neighborhoods.MEAN(trips.passenger_count), 0.001\n",
            "20: Feature: dropoff_neighborhoods.STD(trips.vendor_id), 0.001\n",
            "21: Feature: dropoff_neighborhoods.SUM(trips.passenger_count), 0.001\n",
            "22: Feature: pickup_neighborhoods.STD(trips.trip_distance), 0.001\n",
            "23: Feature: dropoff_neighborhoods.MEAN(trips.payment_type), 0.001\n",
            "24: Feature: pickup_neighborhoods.MEAN(trips.trip_distance), 0.001\n",
            "25: Feature: dropoff_neighborhoods.MEAN(trips.vendor_id), 0.001\n"
          ]
        }
      ],
      "source": [
        "feature_importances(model, feature_matrix.columns, n=25)"
      ]
    },
    {
      "cell_type": "markdown",
      "source": [
        "**<h1 style=\"color:red;\">PREGUNTA 5: IMPORTANCIA DE LAS FEATURES</h1>**"
      ],
      "metadata": {
        "id": "CAJXi19yg-JA"
      }
    },
    {
      "cell_type": "markdown",
      "metadata": {
        "id": "bQ1uFQwOE2BO"
      },
      "source": [
        "Analice la importancia de los atributos que acaba de calcular. ¿Tienen sentido? ¿Hay algún valor que le sorprenda? Aporte una breve explicación de por qué estos atributos son relevante para calcular la variable objetivo `trip_duration` (duración del trayecto)."
      ]
    },
    {
      "cell_type": "markdown",
      "metadata": {
        "id": "ahahcqzoL14u"
      },
      "source": [
        "La lista de importancia de los atributos proporcionada ofrece una valiosa visión sobre los factores que más influyen en la duración de un trayecto de taxi según el modelo de aprendizaje automático utilizado. Analicemos los más relevantes:\n",
        "\n",
        "1. **trip_distance**: Esta característica tiene la importancia más alta con un valor de 0.867, lo cual tiene mucho sentido ya que la distancia del viaje es probablemente el factor más directo que influye en la duración del trayecto. Cuanto más largo es el viaje, generalmente más tiempo toma.\n",
        "\n",
        "2. **dropoff_neighborhoods.longitude** y **dropoff_neighborhoods.latitude**: Estas características tienen valores de importancia de 0.028 y 0.022 respectivamente, lo que indica que la ubicación geográfica del destino del trayecto es relevante. Esto puede deberse a que ciertas áreas pueden estar más lejos de las rutas principales o ser más propensas a la congestión del tráfico.\n",
        "\n",
        "3. **HOUR(pickup_datetime)** y **HOUR(dropoff_datetime)**: Estas características reflejan la hora del día en que se inició y finalizó el trayecto, y tienen una importancia significativa (0.027 y 0.013 respectivamente). Esto es lógico, ya que la hora del día puede afectar directamente la duración del trayecto debido a las condiciones variables del tráfico, como las horas pico.\n",
        "\n",
        "Los siguientes atributos tienen menor importancia pero aún así son relevantes:\n",
        "\n",
        "- **pickup_neighborhoods.longitude** y **pickup_neighborhoods.latitude**: Indican el lugar de recogida y pueden influir en la duración debido a factores como la distancia al centro de la ciudad o accesibilidad de la zona.\n",
        "\n",
        "- **pickup_neighborhoods.COUNT(trips)** y **dropoff_neighborhoods.COUNT(trips)**: Estos pueden reflejar el volumen de tráfico o la popularidad de ciertas áreas, que pueden ser indicativas de la duración del trayecto.\n",
        "\n",
        "- **MINUTE(pickup_datetime)** y **MINUTE(dropoff_datetime)**: Podrían ser útiles para captar efectos a nivel de minuto en la duración del viaje, aunque su importancia relativamente baja sugiere que no son tan críticos como otras características.\n",
        "\n",
        "Lo que podría sorprender es la relevancia relativa de las coordenadas geográficas sobre otros aspectos temporales como el día de la semana o si es fin de semana o no. Esto podría deberse a que, en una ciudad como Nueva York, la ubicación tiene un impacto considerable debido a la densidad de tráfico y la planificación urbana que afecta a las rutas de viaje.\n",
        "\n",
        "Estos atributos son relevantes para la predicción de la duración del trayecto porque capturan la esencia de lo que afecta el tiempo de viaje en un ambiente urbano: distancia, ubicación, y hora del día. La distancia determina un rango base para el tiempo de viaje, mientras que la ubicación y la hora del día ajustan este tiempo base para tener en cuenta el tráfico y otros factores ambientales. Estos factores juntos permiten que el modelo haga predicciones más precisas sobre la duración del trayecto."
      ]
    },
    {
      "cell_type": "markdown",
      "metadata": {
        "id": "QUv7UZerkhyq"
      },
      "source": [
        "¡Buen trabajo! Asegúrese de comprobar la sección **Conclusión** del manual de instrucciones del caso de estudio."
      ]
    }
  ],
  "metadata": {
    "colab": {
      "provenance": [],
      "include_colab_link": true
    },
    "hide_input": false,
    "kernelspec": {
      "display_name": "Python 3",
      "language": "python",
      "name": "python3"
    },
    "language_info": {
      "codemirror_mode": {
        "name": "ipython",
        "version": 3
      },
      "file_extension": ".py",
      "mimetype": "text/x-python",
      "name": "python",
      "nbconvert_exporter": "python",
      "pygments_lexer": "ipython3",
      "version": "3.7.7"
    },
    "toc": {
      "base_numbering": 1,
      "nav_menu": {},
      "number_sections": true,
      "sideBar": true,
      "skip_h1_title": false,
      "title_cell": "Table of Contents",
      "title_sidebar": "Contents",
      "toc_cell": true,
      "toc_position": {},
      "toc_section_display": true,
      "toc_window_display": false
    },
    "varInspector": {
      "cols": {
        "lenName": 16,
        "lenType": 16,
        "lenVar": 40
      },
      "kernels_config": {
        "python": {
          "delete_cmd_postfix": "",
          "delete_cmd_prefix": "del ",
          "library": "var_list.py",
          "varRefreshCmd": "print(var_dic_list())"
        },
        "r": {
          "delete_cmd_postfix": ") ",
          "delete_cmd_prefix": "rm(",
          "library": "var_list.r",
          "varRefreshCmd": "cat(var_dic_list()) "
        }
      },
      "types_to_exclude": [
        "module",
        "function",
        "builtin_function_or_method",
        "instance",
        "_Feature"
      ],
      "window_display": true
    }
  },
  "nbformat": 4,
  "nbformat_minor": 0
}